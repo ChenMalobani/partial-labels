{
 "cells": [
  {
   "cell_type": "code",
   "execution_count": 1,
   "metadata": {},
   "outputs": [],
   "source": [
    "%load_ext autoreload\n",
    "%autoreload 2"
   ]
  },
  {
   "cell_type": "code",
   "execution_count": 2,
   "metadata": {},
   "outputs": [
    {
     "name": "stderr",
     "output_type": "stream",
     "text": [
      "Using TensorFlow backend.\n"
     ]
    }
   ],
   "source": [
    "import os\n",
    "import sys\n",
    "import random\n",
    "import math\n",
    "import re\n",
    "import time\n",
    "import numpy as np\n",
    "import cv2\n",
    "import matplotlib\n",
    "import matplotlib.pyplot as plt\n",
    "\n",
    "# Root directory of the project\n",
    "ROOT_DIR = os.path.abspath(\"../../\")\n",
    "\n",
    "# Import Mask RCNN\n",
    "sys.path.append(ROOT_DIR)  # To find local version of the library\n",
    "from mrcnn.config import Config\n",
    "from mrcnn import utils\n",
    "import mrcnn.model as modellib\n",
    "from mrcnn import visualize\n",
    "from mrcnn.model import log\n",
    "from mrcnn import data_generator as datagen\n",
    "from mrcnn import image_meta as meta\n",
    "from mrcnn import dataset\n",
    "\n",
    "%matplotlib inline \n",
    "\n",
    "# Directory to save logs and trained model\n",
    "MODEL_DIR = os.path.join(os.environ['HOME'], 'partial_experiments')\n",
    "\n",
    "# Local path to trained weights file\n",
    "COCO_MODEL_PATH = os.path.join(ROOT_DIR, \"mask_rcnn_coco.h5\")\n",
    "# Download COCO trained weights from Releases if needed\n",
    "if not os.path.exists(COCO_MODEL_PATH):\n",
    "    utils.download_trained_weights(COCO_MODEL_PATH)"
   ]
  },
  {
   "cell_type": "code",
   "execution_count": 3,
   "metadata": {},
   "outputs": [],
   "source": [
    "from keras.preprocessing import image as k_image\n",
    "from keras.applications.imagenet_utils import preprocess_input"
   ]
  },
  {
   "cell_type": "code",
   "execution_count": 4,
   "metadata": {},
   "outputs": [],
   "source": [
    "from collections import defaultdict\n",
    "\n",
    "from pprint import pprint"
   ]
  },
  {
   "cell_type": "markdown",
   "metadata": {},
   "source": [
    "## Configurations"
   ]
  },
  {
   "cell_type": "code",
   "execution_count": 6,
   "metadata": {},
   "outputs": [
    {
     "name": "stdout",
     "output_type": "stream",
     "text": [
      "\n",
      "Configurations:\n",
      "BACKBONE                       resnet101\n",
      "BACKBONE_STRIDES               [4, 8, 16, 32, 64]\n",
      "BATCH_SIZE                     8\n",
      "BBOX_STD_DEV                   [0.1 0.1 0.2 0.2]\n",
      "COMPUTE_BACKBONE_SHAPE         None\n",
      "DATASET_PATH                   /local/DEEPLEARNING/oid/\n",
      "DETECTION_MAX_INSTANCES        100\n",
      "DETECTION_MIN_CONFIDENCE       0.7\n",
      "DETECTION_NMS_THRESHOLD        0.3\n",
      "FPN_CLASSIF_FC_LAYERS_SIZE     1024\n",
      "GPU_COUNT                      1\n",
      "GRADIENT_CLIP_NORM             5.0\n",
      "IMAGES_PER_GPU                 8\n",
      "IMAGE_CHANNEL_COUNT            3\n",
      "IMAGE_MAX_DIM                  512\n",
      "IMAGE_META_SIZE                513\n",
      "IMAGE_MIN_DIM                  512\n",
      "IMAGE_MIN_SCALE                0\n",
      "IMAGE_RESIZE_MODE              square\n",
      "IMAGE_SHAPE                    [512 512   3]\n",
      "IMG_SIZE                       448\n",
      "LEARNING_MOMENTUM              0.9\n",
      "LEARNING_RATE                  0.001\n",
      "LOSS_WEIGHTS                   {'rpn_class_loss': 1.0, 'rpn_bbox_loss': 1.0, 'mrcnn_class_loss': 1.0, 'mrcnn_bbox_loss': 1.0, 'mrcnn_mask_loss': 1.0}\n",
      "MASK_POOL_SIZE                 14\n",
      "MASK_SHAPE                     [28, 28]\n",
      "MAX_GT_INSTANCES               100\n",
      "MEAN_PIXEL                     [123.7 116.8 103.9]\n",
      "MINI_MASK_SHAPE                (56, 56)\n",
      "NAME                           openimages\n",
      "NB_CHANNELS                    3\n",
      "NB_CLASSES                     501\n",
      "POOL_SIZE                      7\n",
      "POST_NMS_ROIS_INFERENCE        1000\n",
      "POST_NMS_ROIS_TRAINING         2000\n",
      "PRE_NMS_LIMIT                  6000\n",
      "ROI_POSITIVE_RATIO             0.33\n",
      "RPN_ANCHOR_RATIOS              [0.5, 1, 2]\n",
      "RPN_ANCHOR_SCALES              (64, 128, 256)\n",
      "RPN_ANCHOR_STRIDE              1\n",
      "RPN_BBOX_STD_DEV               [0.1 0.1 0.2 0.2]\n",
      "RPN_NMS_THRESHOLD              0.7\n",
      "RPN_TRAIN_ANCHORS_PER_IMAGE    256\n",
      "STEPS_PER_EPOCH                100\n",
      "TOP_DOWN_PYRAMID_SIZE          256\n",
      "TRAIN_BN                       False\n",
      "TRAIN_ROIS_PER_IMAGE           32\n",
      "USE_MINI_MASK                  True\n",
      "USE_RPN_ROIS                   True\n",
      "VALIDATION_STEPS               5\n",
      "WEIGHT_DECAY                   0.0001\n",
      "\n",
      "\n"
     ]
    }
   ],
   "source": [
    "class OIDConfig(Config):\n",
    "    \"\"\"\n",
    "    Configuration for training on the OID dataset.\n",
    "    Derives from the base Config class and overrides values specific to OID\n",
    "    \"\"\"\n",
    "    # Give the configuration a recognizable name\n",
    "    NAME = \"openimages\"\n",
    "\n",
    "    # Train on 1 GPU and 8 images per GPU. We can put multiple images on each\n",
    "    # GPU because the images are small. Batch size is 8 (GPUs * images/GPU).\n",
    "    GPU_COUNT = 1\n",
    "    IMAGES_PER_GPU = 8\n",
    "\n",
    "    # Number of classes (including background)\n",
    "    NB_CLASSES = 500 + 1\n",
    "\n",
    "    # Use small images for faster training. Set the limits of the small side\n",
    "    # the large side, and that determines the image shape.\n",
    "    IMAGE_MIN_DIM = 512\n",
    "    IMAGE_MAX_DIM = 512\n",
    "\n",
    "    # Use smaller anchors because our image and objects are small\n",
    "    RPN_ANCHOR_SCALES = (64, 128, 256)  # anchor side in pixels\n",
    "\n",
    "    # Reduce training ROIs per image because the images are small and have\n",
    "    # few objects. Aim to allow ROI sampling to pick 33% positive ROIs.\n",
    "    TRAIN_ROIS_PER_IMAGE = 32\n",
    "\n",
    "    # Use a small epoch since the data is simple\n",
    "    STEPS_PER_EPOCH = 100\n",
    "\n",
    "    # use small validation steps since the epoch is small\n",
    "    VALIDATION_STEPS = 5\n",
    "    \n",
    "    # old config\n",
    "    IMG_SIZE = 448\n",
    "    DATASET_PATH = '/local/DEEPLEARNING/oid/'\n",
    "    NB_CHANNELS = 3\n",
    "    \n",
    "config = OIDConfig()\n",
    "config.display()"
   ]
  },
  {
   "cell_type": "markdown",
   "metadata": {},
   "source": [
    "## Notebook Preferences"
   ]
  },
  {
   "cell_type": "code",
   "execution_count": 9,
   "metadata": {},
   "outputs": [],
   "source": [
    "def get_ax(rows=1, cols=1, size=8):\n",
    "    \"\"\"\n",
    "    Return a Matplotlib Axes array to be used in\n",
    "    all visualizations in the notebook. Provide a\n",
    "    central point to control graph sizes.\n",
    "    \n",
    "    Change the default size attribute to control the size\n",
    "    of rendered images\n",
    "    \"\"\"\n",
    "    _, ax = plt.subplots(rows, cols, figsize=(size*cols, size*rows))\n",
    "    return ax"
   ]
  },
  {
   "cell_type": "markdown",
   "metadata": {},
   "source": [
    "## OID dataset"
   ]
  },
  {
   "cell_type": "code",
   "execution_count": 10,
   "metadata": {},
   "outputs": [],
   "source": [
    "class OIDataset(dataset.Dataset):\n",
    "    '''\n",
    "    Open Images\n",
    "    '''\n",
    "    supported_modes = ('train', 'val', 'test')\n",
    "\n",
    "    def load_oid(self,\n",
    "                 dataset_path,\n",
    "                 batch_size,\n",
    "                 mode,\n",
    "                 cfg,\n",
    "                 p=None):\n",
    "        '''\n",
    "        '''\n",
    "        assert mode in self.supported_modes, 'Unknown subset %s' % str(mode)\n",
    "        if p is not None and not mode.startswith('train'):\n",
    "            raise Exception('prop only for training')\n",
    "\n",
    "        self.dataset_path = dataset_path\n",
    "        self.mode = mode\n",
    "        self.p = p\n",
    "        self.nb_classes = cfg.NB_CLASSES\n",
    "        \n",
    "        self.img_size = (cfg.IMG_SIZE, cfg.IMG_SIZE, cfg.NB_CHANNELS)\n",
    "        self.batch_size = self.nb_samples if batch_size == 'all' else batch_size\n",
    "        \n",
    "        # class data\n",
    "        self.class_data = self.load_class_data()\n",
    "        for i, data in self.class_data.items():\n",
    "            self.add_class('oid', i, data[\"name\"])\n",
    "        \n",
    "        # loading samples\n",
    "        self.sample_ids = self.load_samples()\n",
    "        self.nb_samples = len(self.sample_ids)\n",
    "        \n",
    "        # registering step\n",
    "        t0 = time.time()\n",
    "        \n",
    "        for img_id, data in self.targets.items():\n",
    "            self.add_image(\n",
    "                    'oid', \n",
    "                    image_id=img_id,\n",
    "                    path=None,\n",
    "                    width=data['size'][0],\n",
    "                    height=data['size'][1])\n",
    "        t1 = time.time()\n",
    "        total = t1 - t0\n",
    "        print('Registered images in %s' % total)\n",
    "        \n",
    "    def load_class_data(self):\n",
    "        class_data = dict()\n",
    "        class_data_path = os.path.join(self.dataset_path, 'annotations', 'challenge-2018-classes.csv')\n",
    "    \n",
    "        with open(class_data_path, 'r') as f_in:\n",
    "            for line in f_in:\n",
    "                parts = line.strip().split(',')\n",
    "                class_id = int(parts[0])\n",
    "                class_name = parts[1]\n",
    "                class_oid = parts[2]\n",
    "\n",
    "                class_data[class_id] = {'id': class_id, 'name': class_name, 'oid': class_oid}\n",
    "\n",
    "        return class_data\n",
    "        \n",
    "    def load_samples(self, filepath=None):\n",
    "        if filepath is None:\n",
    "            annotations_file = self.get_annot_file(self.p)\n",
    "        else:\n",
    "            annotations_file = filepath\n",
    "\n",
    "        t0 = time.time()\n",
    "        samples = self.load_annotations(annotations_file)\n",
    "        t1 = time.time()\n",
    "\n",
    "        total = t1-t0\n",
    "        print('loaded annotations in %s' % total)\n",
    "\n",
    "        self.targets = samples\n",
    "        return sorted(samples.keys())  # we sort it by # sample to make sure it's always the same order\n",
    "    \n",
    "    def get_annot_file(self, p):\n",
    "\n",
    "        return os.path.join(self.dataset_path, 'annotations', 'challenge-2018-%s.csv' % self.mode)\n",
    "    \n",
    "    def one_hotify_gt(self, numeric_gt):\n",
    "        return np.array([int(i == numeric_gt) for i in range(self.nb_classes)])\n",
    "    \n",
    "    def load_annotations(self, annotations_path):\n",
    "        '''\n",
    "        one annotation csv line is like:\n",
    "        img_id,folder,class_id,xmin,ymin,xmax,ymax\n",
    "\n",
    "        38a420b38cd3c350,train_3,92,0.325781,0.450781,0.447917,0.668750\n",
    "\n",
    "        ---\n",
    "\n",
    "        load annotations:\n",
    "        - samples[img_id][multilabel] = list(one_hot)   # (N, nb_classes) list of variable size depending on the number of bounding boxes that are GT\n",
    "        - samples[img_id][bboxes] = list(bbox)          # (N, 4) list of variable size of 4 int tuples representing x1, y1, x2, y2\n",
    "\n",
    "        example:\n",
    "        samples['5c015f7e9bbd728a']['multilabel'][0] = [0, 1, ....] (length 500)\n",
    "        samples['5c015f7e9bbd728a']['bboxes'][0] = (x1, y1, x2, y2)\n",
    "        '''\n",
    "\n",
    "        samples = defaultdict(lambda: defaultdict(list))\n",
    "\n",
    "        # multilabel annotations\n",
    "        with open(annotations_path, 'r') as f_in:\n",
    "            for line in f_in:\n",
    "                parts = line.strip().split(',')\n",
    "                img_id = parts[0]\n",
    "                class_id = int(parts[2])\n",
    "                ground_truth_cls = self.one_hotify_gt(class_id)\n",
    "\n",
    "                samples[img_id]['multilabel'].append(ground_truth_cls)\n",
    "                samples[img_id]['bboxes'].append((float(parts[3]), float(parts[4]), float(parts[5]), float(parts[6])))\n",
    "                samples[img_id]['classes'].append((self.class_data[class_id]['id'], self.class_data[class_id]['name']))\n",
    "                \n",
    "                size = (parts[7], parts[8])\n",
    "                \n",
    "                if samples[img_id]['size'] == list(): # default \n",
    "                    samples[img_id]['size'] = size \n",
    "                else:\n",
    "                    assert samples[img_id]['size'] == size    # it should always be the same\n",
    "\n",
    "        return samples\n",
    "    \n",
    "    def get_img_id(self, img_index):\n",
    "        return self.sample_ids[img_index]\n",
    "        \n",
    "\n",
    "    def load_image(self, img_index):\n",
    "        '''\n",
    "        Generate an image from the specs of the given image ID.\n",
    "        Typically this function loads the image from a file, but\n",
    "        in this case it generates the image on the fly from the\n",
    "        specs in image_info.\n",
    "        '''\n",
    "        img_id = self.get_img_id(img_index)\n",
    "        img_path = os.path.join(self.dataset_path, 'images', 'train', 'train_%s' % img_id[0], '%s.jpg' % img_id)\n",
    "        img = k_image.load_img(img_path, grayscale=False, target_size=(self.img_size[0], self.img_size[1]))\n",
    "        img_arr = k_image.img_to_array(img, data_format='channels_last')\n",
    "            \n",
    "        return img_arr\n",
    "\n",
    "    def load_bboxes(self, img_index):\n",
    "        '''\n",
    "        Generate instance GT bboxes for shapes of the given image ID.\n",
    "        bboxes in targets are between 0 and 1 so we put them at pixel level here\n",
    "        \n",
    "        bboxes are always [x1, y1, x2, y2]\n",
    "        '''\n",
    "        img_id = self.get_img_id(img_index)\n",
    "        img_data = self.targets[img_id]\n",
    "        \n",
    "        bboxes = np.array(img_data['bboxes'])\n",
    "        classes = np.array([c[0] for c in img_data['classes']])\n",
    "        \n",
    "        width, height, _ = self.img_size\n",
    "        \n",
    "        for i, bbox in enumerate(bboxes):\n",
    "            bboxes[i][0] = bbox[0] * width\n",
    "            bboxes[i][1] = bbox[1] * height\n",
    "            bboxes[i][2] = bbox[2] * width\n",
    "            bboxes[i][3] = bbox[3] * height\n",
    "        \n",
    "        return bboxes, classes\n"
   ]
  },
  {
   "cell_type": "code",
   "execution_count": null,
   "metadata": {},
   "outputs": [],
   "source": [
    "# Training dataset\n",
    "dataset_train = OIDataset()\n",
    "dataset_train.load_oid(config.DATASET_PATH, 8, 'train', config)\n",
    "dataset_train.prepare()"
   ]
  },
  {
   "cell_type": "code",
   "execution_count": null,
   "metadata": {},
   "outputs": [],
   "source": [
    "# Validation dataset\n",
    "dataset_val = OIDataset()\n",
    "dataset_val.load_oid(config.DATASET_PATH, 8, 'val', config)\n",
    "dataset_val.prepare()"
   ]
  },
  {
   "cell_type": "code",
   "execution_count": null,
   "metadata": {},
   "outputs": [],
   "source": [
    "# Load and display random samples\n",
    "image_ids = np.random.choice(dataset_val.image_ids, 4)\n",
    "print(image_ids)\n",
    "for image_id in image_ids:\n",
    "    img = dataset_val.load_image(image_id)\n",
    "    bboxes, class_ids = dataset_val.load_bboxes(image_id)\n",
    "    bboxes = np.array(bboxes)\n",
    "    print(bboxes.shape)\n",
    "    \n",
    "    class_ids = np.array(class_ids)\n",
    "    print(class_ids.shape)\n",
    "    \n",
    "    visualize.display_instances(img, bboxes, class_ids, dataset_val.class_names, figsize=(8, 8))"
   ]
  },
  {
   "cell_type": "code",
   "execution_count": null,
   "metadata": {},
   "outputs": [],
   "source": [
    "pprint(dataset_val.class_names)"
   ]
  },
  {
   "cell_type": "code",
   "execution_count": null,
   "metadata": {},
   "outputs": [],
   "source": [
    "pprint(dataset_val.class_data)"
   ]
  },
  {
   "cell_type": "markdown",
   "metadata": {},
   "source": [
    "## Create Model"
   ]
  },
  {
   "cell_type": "code",
   "execution_count": null,
   "metadata": {},
   "outputs": [],
   "source": [
    "# Create model in training mode\n",
    "model = modellib.MaskRCNN(mode=\"training\", \n",
    "                          config=config,\n",
    "                          model_dir=MODEL_DIR)"
   ]
  },
  {
   "cell_type": "code",
   "execution_count": null,
   "metadata": {
    "scrolled": false
   },
   "outputs": [],
   "source": [
    "# Which weights to start with?\n",
    "init_with = \"coco\"  # imagenet, coco, or last\n",
    "\n",
    "if init_with == \"imagenet\":\n",
    "    model.load_weights(model.get_imagenet_weights(), by_name=True)\n",
    "elif init_with == \"coco\":\n",
    "    # Load weights trained on MS COCO, but skip layers that\n",
    "    # are different due to the different number of classes\n",
    "    # See README for instructions to download the COCO weights\n",
    "    model.load_weights(COCO_MODEL_PATH, by_name=True,\n",
    "                       exclude=[\"mrcnn_class_logits\", \"mrcnn_bbox_fc\", \n",
    "                                \"mrcnn_bbox\", \"mrcnn_mask\"])\n",
    "elif init_with == \"last\":\n",
    "    # Load the last model you trained and continue training\n",
    "    model.load_weights(model.find_last(), by_name=True)"
   ]
  },
  {
   "cell_type": "markdown",
   "metadata": {},
   "source": [
    "## Training\n",
    "\n",
    "Train in two stages:\n",
    "1. Only the heads. Here we're freezing all the backbone layers and training only the randomly initialized layers (i.e. the ones that we didn't use pre-trained weights from MS COCO). To train only the head layers, pass `layers='heads'` to the `train()` function.\n",
    "\n",
    "2. Fine-tune all layers. For this simple example it's not necessary, but we're including it to show the process. Simply pass `layers=\"all` to train all layers."
   ]
  },
  {
   "cell_type": "code",
   "execution_count": null,
   "metadata": {
    "scrolled": false
   },
   "outputs": [],
   "source": [
    "# Train the head branches\n",
    "# Passing layers=\"heads\" freezes all layers except the head\n",
    "# layers. You can also pass a regular expression to select\n",
    "# which layers to train by name pattern.\n",
    "model.train(dataset_train, dataset_val, \n",
    "            learning_rate=config.LEARNING_RATE, \n",
    "            epochs=1, \n",
    "            layers='heads')"
   ]
  },
  {
   "cell_type": "code",
   "execution_count": null,
   "metadata": {
    "scrolled": false
   },
   "outputs": [],
   "source": [
    "# Fine tune all layers\n",
    "# Passing layers=\"all\" trains all layers. You can also \n",
    "# pass a regular expression to select which layers to\n",
    "# train by name pattern.\n",
    "model.train(dataset_train, dataset_val, \n",
    "            learning_rate=config.LEARNING_RATE / 10,\n",
    "            epochs=2, \n",
    "            layers=\"all\")"
   ]
  },
  {
   "cell_type": "code",
   "execution_count": null,
   "metadata": {},
   "outputs": [],
   "source": [
    "# Save weights\n",
    "# Typically not needed because callbacks save after every epoch\n",
    "# Uncomment to save manually\n",
    "# model_path = os.path.join(MODEL_DIR, \"mask_rcnn_shapes.h5\")\n",
    "# model.keras_model.save_weights(model_path)"
   ]
  },
  {
   "cell_type": "markdown",
   "metadata": {},
   "source": [
    "## Detection"
   ]
  },
  {
   "cell_type": "code",
   "execution_count": null,
   "metadata": {},
   "outputs": [],
   "source": [
    "class InferenceConfig(ShapesConfig):\n",
    "    GPU_COUNT = 1\n",
    "    IMAGES_PER_GPU = 1\n",
    "\n",
    "inference_config = InferenceConfig()\n",
    "\n",
    "# Recreate the model in inference mode\n",
    "model = modellib.MaskRCNN(mode=\"inference\", \n",
    "                          config=inference_config,\n",
    "                          model_dir=MODEL_DIR)\n",
    "\n",
    "# Get path to saved weights\n",
    "# Either set a specific path or find last trained weights\n",
    "# model_path = os.path.join(ROOT_DIR, \".h5 file name here\")\n",
    "model_path = model.find_last()\n",
    "\n",
    "# Load trained weights\n",
    "print(\"Loading weights from \", model_path)\n",
    "model.load_weights(model_path, by_name=True)"
   ]
  },
  {
   "cell_type": "code",
   "execution_count": null,
   "metadata": {},
   "outputs": [],
   "source": []
  },
  {
   "cell_type": "code",
   "execution_count": null,
   "metadata": {},
   "outputs": [],
   "source": [
    "# Test on a random image\n",
    "image_id = random.choice(dataset_val.image_ids)\n",
    "original_image, image_meta, gt_class_id, gt_bbox = datagen.load_image_gt(dataset_val, inference_config, image_id)\n",
    "\n",
    "log(\"original_image\", original_image)\n",
    "log(\"image_meta\", image_meta)\n",
    "log(\"gt_class_id\", gt_class_id)\n",
    "log(\"gt_bbox\", gt_bbox)\n",
    "\n",
    "visualize.display_instances(original_image, gt_bbox, gt_class_id, dataset_train.class_names, figsize=(8, 8))"
   ]
  },
  {
   "cell_type": "code",
   "execution_count": null,
   "metadata": {},
   "outputs": [],
   "source": [
    "results = model.detect([original_image], verbose=1)\n",
    "\n",
    "r = results[0]\n",
    "visualize.display_instances(original_image, r['rois'], r['class_ids'], dataset_val.class_names, r['scores'], ax=get_ax())"
   ]
  },
  {
   "cell_type": "markdown",
   "metadata": {},
   "source": [
    "## Evaluation"
   ]
  },
  {
   "cell_type": "code",
   "execution_count": null,
   "metadata": {},
   "outputs": [],
   "source": [
    "# Compute VOC-Style mAP @ IoU=0.5\n",
    "# Running on 10 images. Increase for better accuracy.\n",
    "image_ids = np.random.choice(dataset_val.image_ids, 10)\n",
    "APs = []\n",
    "for image_id in image_ids:\n",
    "    # Load image and ground truth data\n",
    "    image, image_meta, gt_class_id, gt_bbox = datagen.load_image_gt(dataset_val, inference_config, image_id)\n",
    "    molded_images = np.expand_dims(meta.mold_image(image, inference_config), 0)\n",
    "    \n",
    "    # Run object detection\n",
    "    results = model.detect([image], verbose=0)\n",
    "    r = results[0]\n",
    "    \n",
    "    # Compute AP\n",
    "    AP, precisions, recalls, overlaps = utils.compute_ap(gt_bbox, gt_class_id, r[\"rois\"], r[\"class_ids\"], r[\"scores\"])\n",
    "    APs.append(AP)\n",
    "    \n",
    "print(\"mAP: \", np.mean(APs))"
   ]
  },
  {
   "cell_type": "code",
   "execution_count": 7,
   "metadata": {},
   "outputs": [],
   "source": [
    "a = 'truc'\n",
    "b = a.replace('c', 'a')"
   ]
  },
  {
   "cell_type": "code",
   "execution_count": 8,
   "metadata": {},
   "outputs": [
    {
     "name": "stdout",
     "output_type": "stream",
     "text": [
      "truc\n",
      "trua\n"
     ]
    }
   ],
   "source": [
    "print(a)\n",
    "print(b)"
   ]
  },
  {
   "cell_type": "code",
   "execution_count": null,
   "metadata": {},
   "outputs": [],
   "source": []
  }
 ],
 "metadata": {
  "kernelspec": {
   "display_name": "Python 3",
   "language": "python",
   "name": "python3"
  },
  "language_info": {
   "codemirror_mode": {
    "name": "ipython",
    "version": 3
   },
   "file_extension": ".py",
   "mimetype": "text/x-python",
   "name": "python",
   "nbconvert_exporter": "python",
   "pygments_lexer": "ipython3",
   "version": "3.6.5"
  }
 },
 "nbformat": 4,
 "nbformat_minor": 2
}
