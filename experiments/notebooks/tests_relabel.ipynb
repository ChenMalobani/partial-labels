{
 "cells": [
  {
   "cell_type": "code",
   "execution_count": 23,
   "metadata": {},
   "outputs": [],
   "source": [
    "import os\n",
    "import yaml"
   ]
  },
  {
   "cell_type": "code",
   "execution_count": 4,
   "metadata": {},
   "outputs": [],
   "source": [
    "import numpy as np"
   ]
  },
  {
   "cell_type": "code",
   "execution_count": 2,
   "metadata": {},
   "outputs": [],
   "source": [
    "from pprint import pprint"
   ]
  },
  {
   "cell_type": "code",
   "execution_count": 3,
   "metadata": {},
   "outputs": [],
   "source": [
    "from config.config_utils import dict_recursive_update\n",
    "from config.config import cfg\n",
    "\n",
    "from easydict import EasyDict as edict"
   ]
  },
  {
   "cell_type": "code",
   "execution_count": 18,
   "metadata": {},
   "outputs": [
    {
     "name": "stderr",
     "output_type": "stream",
     "text": [
      "Using TensorFlow backend.\n"
     ]
    }
   ],
   "source": [
    "from data.pascalvoc.pascalvoc import PascalVOC"
   ]
  },
  {
   "cell_type": "code",
   "execution_count": 26,
   "metadata": {},
   "outputs": [],
   "source": [
    "from model.networks.baseline import Baseline"
   ]
  },
  {
   "cell_type": "code",
   "execution_count": 31,
   "metadata": {},
   "outputs": [],
   "source": [
    "from model.callbacks.metric_callbacks import MAPCallback\n",
    "from model.callbacks.save_callback import SaveModel\n",
    "from model.callbacks.scheduler import lr_scheduler\n",
    "from model.callbacks.relabeling_callback import RelabelCallback"
   ]
  },
  {
   "cell_type": "markdown",
   "metadata": {},
   "source": [
    "## debug config"
   ]
  },
  {
   "cell_type": "code",
   "execution_count": 4,
   "metadata": {},
   "outputs": [],
   "source": [
    "config_path = '/home/caleml/partial-labels/config/pv_baseline50_sgd_448lrs.yaml'\n",
    "with open(config_path, 'r') as f_in:\n",
    "    options = yaml.safe_load(f_in)"
   ]
  },
  {
   "cell_type": "code",
   "execution_count": 5,
   "metadata": {},
   "outputs": [
    {
     "data": {
      "text/plain": [
       "{'archi': {'classifier': 'resnet50', 'loss': 'bce', 'name': 'baseline'},\n",
       " 'batch_size': 16,\n",
       " 'callbacks': {'lr_factor': 0.1, 'lr_trigger': [10]},\n",
       " 'dataset': {'name': 'pascalvoc',\n",
       "  'path': '/home/caleml/datasets/pascalvoc/VOCdevkit/VOC2007/',\n",
       "  'test': 'test',\n",
       "  'train': 'trainval'},\n",
       " 'image': {'img_size': 448},\n",
       " 'training': {'n_epochs': 20, 'optimizer': 'sgd', 'start_lr': 0.01}}"
      ]
     },
     "execution_count": 5,
     "metadata": {},
     "output_type": "execute_result"
    }
   ],
   "source": [
    "options"
   ]
  },
  {
   "cell_type": "code",
   "execution_count": 6,
   "metadata": {},
   "outputs": [
    {
     "name": "stdout",
     "output_type": "stream",
     "text": [
      "{'BATCH_SIZE': 32,\n",
      " 'CALLBACK': {'LR_FACTOR': 0.1,\n",
      "              'LR_TRIGGER': [],\n",
      "              'MIN_DELTA': 0.0,\n",
      "              'PATIENCE': 10,\n",
      "              'PATIENCE_LR': 2,\n",
      "              'TENSORBOARD': {'SAVE_GRAPH': True, 'USE_TENSORBOARD': False}},\n",
      " 'DATAAUGMENTATION': {'DEFAULT_DICT': {'horizontal_flip': True}},\n",
      " 'DATASET': {'SHUFFLE': True},\n",
      " 'DEBUG': {'IS_TEST': False},\n",
      " 'EPSILON': 1e-07,\n",
      " 'IMAGE': {'IMG_SIZE': 448, 'N_CHANNELS': 3},\n",
      " 'MULTIP': {'MAX_QUEUE_SIZE': 10, 'N_WORKERS': 2, 'USE_MULTIPROCESS': False},\n",
      " 'RANDOM_SEED': 1,\n",
      " 'TRAINING': {'OPTIMIZER': 'adam', 'START_LR': 0.0001},\n",
      " 'VERBOSE': True}\n"
     ]
    }
   ],
   "source": [
    "pprint(cfg)\n",
    "old_cfg = cfg"
   ]
  },
  {
   "cell_type": "code",
   "execution_count": 7,
   "metadata": {},
   "outputs": [
    {
     "data": {
      "text/plain": [
       "{'ARCHI': {'CLASSIFIER': 'resnet50', 'LOSS': 'bce', 'NAME': 'baseline'},\n",
       " 'BATCH_SIZE': 16,\n",
       " 'CALLBACK': {'LR_FACTOR': 0.1,\n",
       "  'LR_TRIGGER': [],\n",
       "  'MIN_DELTA': 0.0,\n",
       "  'PATIENCE': 10,\n",
       "  'PATIENCE_LR': 2,\n",
       "  'TENSORBOARD': {'SAVE_GRAPH': True, 'USE_TENSORBOARD': False}},\n",
       " 'CALLBACKS': {'LR_FACTOR': 0.1, 'LR_TRIGGER': [10]},\n",
       " 'DATAAUGMENTATION': {'DEFAULT_DICT': {'horizontal_flip': True}},\n",
       " 'DATASET': {'NAME': 'pascalvoc',\n",
       "  'PATH': '/home/caleml/datasets/pascalvoc/VOCdevkit/VOC2007/',\n",
       "  'SHUFFLE': True,\n",
       "  'TEST': 'test',\n",
       "  'TRAIN': 'trainval'},\n",
       " 'DEBUG': {'IS_TEST': False},\n",
       " 'EPSILON': 1e-07,\n",
       " 'IMAGE': {'IMG_SIZE': 448, 'N_CHANNELS': 3},\n",
       " 'MULTIP': {'MAX_QUEUE_SIZE': 10, 'N_WORKERS': 2, 'USE_MULTIPROCESS': False},\n",
       " 'RANDOM_SEED': 1,\n",
       " 'TRAINING': {'N_EPOCHS': 20, 'OPTIMIZER': 'sgd', 'START_LR': 0.01},\n",
       " 'VERBOSE': True}"
      ]
     },
     "execution_count": 7,
     "metadata": {},
     "output_type": "execute_result"
    }
   ],
   "source": [
    "new_config = edict(options)\n",
    "dict_recursive_update(cfg, new_config)"
   ]
  },
  {
   "cell_type": "code",
   "execution_count": 8,
   "metadata": {},
   "outputs": [
    {
     "name": "stdout",
     "output_type": "stream",
     "text": [
      "{'ARCHI': {'CLASSIFIER': 'resnet50', 'LOSS': 'bce', 'NAME': 'baseline'},\n",
      " 'BATCH_SIZE': 16,\n",
      " 'CALLBACK': {'LR_FACTOR': 0.1,\n",
      "              'LR_TRIGGER': [],\n",
      "              'MIN_DELTA': 0.0,\n",
      "              'PATIENCE': 10,\n",
      "              'PATIENCE_LR': 2,\n",
      "              'TENSORBOARD': {'SAVE_GRAPH': True, 'USE_TENSORBOARD': False}},\n",
      " 'CALLBACKS': {'LR_FACTOR': 0.1, 'LR_TRIGGER': [10]},\n",
      " 'DATAAUGMENTATION': {'DEFAULT_DICT': {'horizontal_flip': True}},\n",
      " 'DATASET': {'NAME': 'pascalvoc',\n",
      "             'PATH': '/home/caleml/datasets/pascalvoc/VOCdevkit/VOC2007/',\n",
      "             'SHUFFLE': True,\n",
      "             'TEST': 'test',\n",
      "             'TRAIN': 'trainval'},\n",
      " 'DEBUG': {'IS_TEST': False},\n",
      " 'EPSILON': 1e-07,\n",
      " 'IMAGE': {'IMG_SIZE': 448, 'N_CHANNELS': 3},\n",
      " 'MULTIP': {'MAX_QUEUE_SIZE': 10, 'N_WORKERS': 2, 'USE_MULTIPROCESS': False},\n",
      " 'RANDOM_SEED': 1,\n",
      " 'TRAINING': {'N_EPOCHS': 20, 'OPTIMIZER': 'sgd', 'START_LR': 0.01},\n",
      " 'VERBOSE': True}\n"
     ]
    }
   ],
   "source": [
    "pprint(cfg)\n",
    "new_cfg = cfg"
   ]
  },
  {
   "cell_type": "code",
   "execution_count": 11,
   "metadata": {},
   "outputs": [],
   "source": [
    "# save config\n",
    "config_path = '/home/caleml/config_test.yaml'\n",
    "with open(config_path, 'w+') as f_conf:\n",
    "    yaml.dump(new_cfg, f_conf)"
   ]
  },
  {
   "cell_type": "code",
   "execution_count": 15,
   "metadata": {},
   "outputs": [],
   "source": [
    "# load config\n",
    "config_path = '/home/caleml/config_test.yaml'\n",
    "with open(config_path, 'r') as f_in:\n",
    "    loaded_conf = yaml.load(f_in)"
   ]
  },
  {
   "cell_type": "code",
   "execution_count": 16,
   "metadata": {},
   "outputs": [
    {
     "name": "stdout",
     "output_type": "stream",
     "text": [
      "{'ARCHI': {'CLASSIFIER': 'resnet50', 'LOSS': 'bce', 'NAME': 'baseline'},\n",
      " 'BATCH_SIZE': 16,\n",
      " 'CALLBACK': {'LR_FACTOR': 0.1,\n",
      "              'LR_TRIGGER': [],\n",
      "              'MIN_DELTA': 0.0,\n",
      "              'PATIENCE': 10,\n",
      "              'PATIENCE_LR': 2,\n",
      "              'TENSORBOARD': {'SAVE_GRAPH': True, 'USE_TENSORBOARD': False}},\n",
      " 'CALLBACKS': {'LR_FACTOR': 0.1, 'LR_TRIGGER': [10]},\n",
      " 'DATAAUGMENTATION': {'DEFAULT_DICT': {'horizontal_flip': True}},\n",
      " 'DATASET': {'NAME': 'pascalvoc',\n",
      "             'PATH': '/home/caleml/datasets/pascalvoc/VOCdevkit/VOC2007/',\n",
      "             'SHUFFLE': True,\n",
      "             'TEST': 'test',\n",
      "             'TRAIN': 'trainval'},\n",
      " 'DEBUG': {'IS_TEST': False},\n",
      " 'EPSILON': 1e-07,\n",
      " 'IMAGE': {'IMG_SIZE': 448, 'N_CHANNELS': 3},\n",
      " 'MULTIP': {'MAX_QUEUE_SIZE': 10, 'N_WORKERS': 2, 'USE_MULTIPROCESS': False},\n",
      " 'RANDOM_SEED': 1,\n",
      " 'TRAINING': {'N_EPOCHS': 20, 'OPTIMIZER': 'sgd', 'START_LR': 0.01},\n",
      " 'VERBOSE': True}\n"
     ]
    }
   ],
   "source": [
    "pprint(loaded_conf)"
   ]
  },
  {
   "cell_type": "markdown",
   "metadata": {},
   "source": [
    "## Tests pascalVOC"
   ]
  },
  {
   "cell_type": "code",
   "execution_count": 20,
   "metadata": {},
   "outputs": [],
   "source": [
    "prop = 100"
   ]
  },
  {
   "cell_type": "code",
   "execution_count": 21,
   "metadata": {},
   "outputs": [],
   "source": [
    "data_dir = '/home/caleml/datasets/pascalvoc/VOCdevkit/VOC2007/'\n",
    "dataset_train = PascalVOC(data_dir, 16, 'trainval', x_keys=['image'], y_keys=['multilabel'], p=prop)"
   ]
  },
  {
   "cell_type": "code",
   "execution_count": 24,
   "metadata": {},
   "outputs": [],
   "source": [
    "exp_folder = '/home/caleml/partial_experiments/exp_20190903_1123_TESTNB'\n",
    "os.makedirs(exp_folder, exist_ok=True)"
   ]
  },
  {
   "cell_type": "code",
   "execution_count": 27,
   "metadata": {},
   "outputs": [
    {
     "name": "stdout",
     "output_type": "stream",
     "text": [
      "Init input_shape (448, 448, 3)\n",
      "Loading options\n",
      "\n",
      "========================\n",
      "Loaded config\n",
      "\n",
      "{'archi': {'classifier': 'resnet50', 'loss': 'bce', 'name': 'baseline'},\n",
      " 'batch_size': 16,\n",
      " 'dataset': {'name': 'pascalvoc',\n",
      "             'path': '/home/caleml/datasets/pascalvoc/VOCdevkit/VOC2007/',\n",
      "             'test': 'test',\n",
      "             'train': 'trainval'},\n",
      " 'image': {'img_size': 448},\n",
      " 'training': {'n_epochs': 20, 'optimizer': 'sgd', 'start_lr': 0.01}}\n",
      "========================\n",
      "\n"
     ]
    },
    {
     "name": "stderr",
     "output_type": "stream",
     "text": [
      "/home/caleml/.local/lib/python3.4/site-packages/keras_applications/resnet50.py:265: UserWarning: The output shape of `ResNet50(include_top=False)` has been changed since Keras 2.2.0.\n",
      "  warnings.warn('The output shape of `ResNet50(include_top=False)` '\n"
     ]
    },
    {
     "name": "stdout",
     "output_type": "stream",
     "text": [
      "\u001b[95mOutputs shape (None, 20)\u001b[0m\n",
      "\u001b[95mFinal model summary\u001b[0m\n",
      "_________________________________________________________________\n",
      "Layer (type)                 Output Shape              Param #   \n",
      "=================================================================\n",
      "image_input (InputLayer)     (None, 448, 448, 3)       0         \n",
      "_________________________________________________________________\n",
      "cls_model (Model)            (None, 14, 14, 2048)      23587712  \n",
      "_________________________________________________________________\n",
      "global_average_pooling2d (Gl (None, 2048)              0         \n",
      "_________________________________________________________________\n",
      "dense (Dense)                (None, 20)                40980     \n",
      "=================================================================\n",
      "Total params: 23,628,692\n",
      "Trainable params: 23,575,572\n",
      "Non-trainable params: 53,120\n",
      "_________________________________________________________________\n"
     ]
    }
   ],
   "source": [
    "model = Baseline(exp_folder, dataset_train.nb_classes, prop)\n",
    "model.load_config('pv_relabel')\n",
    "model.build()"
   ]
  },
  {
   "cell_type": "code",
   "execution_count": null,
   "metadata": {},
   "outputs": [],
   "source": [
    "# callbacks\n",
    "from model.callbacks.relabeling_callback import RelabelCallback\n",
    "cb_list = list()\n",
    "\n",
    "map_cb = MAPCallback(X_test, Y_test, exp_folder, prop)\n",
    "cb_list.append(map_cb)\n",
    "cb_list.append(SaveModel(exp_folder, prop))\n",
    "\n",
    "relabel_cb = RelabelCallback(dataset_train, exp_folder, 'kl', prop)\n",
    "cb_list.append(relabel_cb)"
   ]
  },
  {
   "cell_type": "code",
   "execution_count": 32,
   "metadata": {},
   "outputs": [
    {
     "data": {
      "text/plain": [
       "'a1'"
      ]
     },
     "execution_count": 32,
     "metadata": {},
     "output_type": "execute_result"
    }
   ],
   "source": [
    "a = 'animal'\n",
    "'%s1' % a[0]"
   ]
  },
  {
   "cell_type": "code",
   "execution_count": 2,
   "metadata": {},
   "outputs": [
    {
     "data": {
      "text/plain": [
       "1"
      ]
     },
     "execution_count": 2,
     "metadata": {},
     "output_type": "execute_result"
    }
   ],
   "source": [
    "min([1, 5])"
   ]
  },
  {
   "cell_type": "code",
   "execution_count": 5,
   "metadata": {},
   "outputs": [],
   "source": [
    "a = np.array([0.54, 0.872497, 0.29374, 0.139864])"
   ]
  },
  {
   "cell_type": "code",
   "execution_count": 6,
   "metadata": {},
   "outputs": [],
   "source": [
    "b = np.where(a > 0.5, 1, 0)"
   ]
  },
  {
   "cell_type": "code",
   "execution_count": 7,
   "metadata": {},
   "outputs": [
    {
     "data": {
      "text/plain": [
       "array([1, 1, 0, 0])"
      ]
     },
     "execution_count": 7,
     "metadata": {},
     "output_type": "execute_result"
    }
   ],
   "source": [
    "b"
   ]
  },
  {
   "cell_type": "code",
   "execution_count": 8,
   "metadata": {},
   "outputs": [
    {
     "data": {
      "text/plain": [
       "0.139864"
      ]
     },
     "execution_count": 8,
     "metadata": {},
     "output_type": "execute_result"
    }
   ],
   "source": [
    "np.min(a)"
   ]
  },
  {
   "cell_type": "code",
   "execution_count": 9,
   "metadata": {},
   "outputs": [
    {
     "data": {
      "text/plain": [
       "0.139864"
      ]
     },
     "execution_count": 9,
     "metadata": {},
     "output_type": "execute_result"
    }
   ],
   "source": [
    "a.min()"
   ]
  },
  {
   "cell_type": "code",
   "execution_count": 10,
   "metadata": {},
   "outputs": [],
   "source": [
    "a = np.array([1, 2567, 3, 5093], dtype=np.int16)"
   ]
  },
  {
   "cell_type": "code",
   "execution_count": 11,
   "metadata": {},
   "outputs": [],
   "source": [
    "b = np.array([4, 3, 2, 1], dtype=np.int16)"
   ]
  },
  {
   "cell_type": "code",
   "execution_count": 14,
   "metadata": {},
   "outputs": [],
   "source": [
    "c = 255 * a / b\n",
    "d = (a / b) * 255"
   ]
  },
  {
   "cell_type": "code",
   "execution_count": 15,
   "metadata": {},
   "outputs": [
    {
     "data": {
      "text/plain": [
       "array([  63.75,  170.  ,  382.5 , 1020.  ])"
      ]
     },
     "execution_count": 15,
     "metadata": {},
     "output_type": "execute_result"
    }
   ],
   "source": [
    "c"
   ]
  },
  {
   "cell_type": "code",
   "execution_count": 16,
   "metadata": {},
   "outputs": [
    {
     "data": {
      "text/plain": [
       "array([  63.75,  170.  ,  382.5 , 1020.  ])"
      ]
     },
     "execution_count": 16,
     "metadata": {},
     "output_type": "execute_result"
    }
   ],
   "source": [
    "d"
   ]
  },
  {
   "cell_type": "code",
   "execution_count": 17,
   "metadata": {},
   "outputs": [
    {
     "data": {
      "text/plain": [
       "array([  63.75,  340.  , 1147.5 , 4080.  ])"
      ]
     },
     "execution_count": 17,
     "metadata": {},
     "output_type": "execute_result"
    }
   ],
   "source": [
    "a * c"
   ]
  },
  {
   "cell_type": "markdown",
   "metadata": {},
   "source": [
    "## test relabeling"
   ]
  },
  {
   "cell_type": "code",
   "execution_count": 20,
   "metadata": {},
   "outputs": [],
   "source": [
    "a = np.zeros((8, 10))"
   ]
  },
  {
   "cell_type": "code",
   "execution_count": 44,
   "metadata": {},
   "outputs": [
    {
     "name": "stdout",
     "output_type": "stream",
     "text": [
      "[1, 0]\n",
      "[4]\n",
      "[8, 8]\n",
      "[5]\n",
      "[0]\n",
      "[0]\n",
      "[4, 7]\n",
      "[3]\n"
     ]
    }
   ],
   "source": [
    "a[:][:] = -1\n",
    "\n",
    "# put some zeros and some ones\n",
    "for line in a:\n",
    "    ones = [np.random.randint(0, len(line) - 1) for i in range(np.random.randint(1, 3))]\n",
    "    zeros = [np.random.randint(0, len(line) - 1) for i in range(5)]\n",
    "    print(ones)\n",
    "    line[ones] = 1\n",
    "    line[zeros] = 0"
   ]
  },
  {
   "cell_type": "code",
   "execution_count": 46,
   "metadata": {},
   "outputs": [
    {
     "data": {
      "text/plain": [
       "array([[ 0.,  1., -1.,  0.,  0., -1., -1., -1., -1., -1.],\n",
       "       [ 0., -1., -1., -1.,  1., -1., -1.,  0.,  0., -1.],\n",
       "       [ 0.,  0.,  0., -1.,  0.,  0., -1., -1.,  1., -1.],\n",
       "       [ 0.,  0., -1.,  0., -1.,  1.,  0., -1., -1., -1.],\n",
       "       [ 0., -1., -1.,  0., -1., -1., -1.,  0.,  0., -1.],\n",
       "       [ 0., -1., -1.,  0., -1., -1., -1.,  0.,  0., -1.],\n",
       "       [-1.,  0., -1., -1.,  0.,  0.,  0.,  1., -1., -1.],\n",
       "       [-1.,  0., -1.,  0.,  0., -1.,  0.,  0., -1., -1.]])"
      ]
     },
     "execution_count": 46,
     "metadata": {},
     "output_type": "execute_result"
    }
   ],
   "source": [
    "a"
   ]
  },
  {
   "cell_type": "code",
   "execution_count": 50,
   "metadata": {},
   "outputs": [
    {
     "name": "stdout",
     "output_type": "stream",
     "text": [
      "[[0.7892151  0.48961266 0.58825933 0.37622917 0.93029322 0.72791149\n",
      "  0.23463466 0.72381892 0.70641471 0.61003805]\n",
      " [0.70565933 0.07210103 0.80044418 0.12235055 0.3463545  0.72456613\n",
      "  0.7425328  0.88076451 0.31872521 0.30621604]\n",
      " [0.82210021 0.46269845 0.13738335 0.98828442 0.36587978 0.24957262\n",
      "  0.52975795 0.18345812 0.3923937  0.35011697]\n",
      " [0.97170194 0.87858303 0.93677425 0.29893387 0.57283222 0.85416751\n",
      "  0.97730279 0.09268791 0.85836214 0.35292269]\n",
      " [0.20776014 0.30116243 0.68923473 0.11669586 0.88748813 0.56536253\n",
      "  0.04472967 0.64969951 0.45696584 0.26187452]\n",
      " [0.63519103 0.54609243 0.12034008 0.50949203 0.66798039 0.51734761\n",
      "  0.50546281 0.37216029 0.54121498 0.29086926]\n",
      " [0.37358954 0.95942962 0.66961    0.90893919 0.55785545 0.90968926\n",
      "  0.30081559 0.53835932 0.37989015 0.87820026]\n",
      " [0.07438424 0.57264806 0.26711109 0.96037848 0.0173247  0.04219673\n",
      "  0.82413411 0.55139042 0.81407396 0.32260926]]\n"
     ]
    }
   ],
   "source": [
    "yk = np.random.rand(8, 10)\n",
    "print(yk)"
   ]
  },
  {
   "cell_type": "code",
   "execution_count": 92,
   "metadata": {},
   "outputs": [],
   "source": [
    "b = np.where(a == 0, yk, 0)"
   ]
  },
  {
   "cell_type": "code",
   "execution_count": 52,
   "metadata": {},
   "outputs": [
    {
     "data": {
      "text/plain": [
       "array([[0.        , 0.48961266, 0.58825933, 0.        , 0.        ,\n",
       "        0.72791149, 0.23463466, 0.72381892, 0.70641471, 0.61003805],\n",
       "       [0.        , 0.07210103, 0.80044418, 0.12235055, 0.3463545 ,\n",
       "        0.72456613, 0.7425328 , 0.        , 0.        , 0.30621604],\n",
       "       [0.        , 0.        , 0.        , 0.98828442, 0.        ,\n",
       "        0.        , 0.52975795, 0.18345812, 0.3923937 , 0.35011697],\n",
       "       [0.        , 0.        , 0.93677425, 0.        , 0.57283222,\n",
       "        0.85416751, 0.        , 0.09268791, 0.85836214, 0.35292269],\n",
       "       [0.        , 0.30116243, 0.68923473, 0.        , 0.88748813,\n",
       "        0.56536253, 0.04472967, 0.        , 0.        , 0.26187452],\n",
       "       [0.        , 0.54609243, 0.12034008, 0.        , 0.66798039,\n",
       "        0.51734761, 0.50546281, 0.        , 0.        , 0.29086926],\n",
       "       [0.37358954, 0.        , 0.66961   , 0.90893919, 0.        ,\n",
       "        0.        , 0.        , 0.53835932, 0.37989015, 0.87820026],\n",
       "       [0.07438424, 0.        , 0.26711109, 0.        , 0.        ,\n",
       "        0.04219673, 0.        , 0.        , 0.81407396, 0.32260926]])"
      ]
     },
     "execution_count": 52,
     "metadata": {},
     "output_type": "execute_result"
    }
   ],
   "source": [
    "b"
   ]
  },
  {
   "cell_type": "code",
   "execution_count": 93,
   "metadata": {},
   "outputs": [
    {
     "name": "stdout",
     "output_type": "stream",
     "text": [
      "[39 34 35 37 38 78 41 42 44 45 46 49 51 32 52 55 56 59 60 62 63 67 68 69\n",
      " 70 72 75 54 29 79 13  7  8  9 11 12 28 14 15  6  2 19 16  5 27 26  1 23\n",
      " 74 43 22 40 25 33 66 18 24 57  3 48 21 53 58 77 64 71 50 47 10  0 20 76\n",
      " 31 17 65  4 61 73 30 36]\n"
     ]
    },
    {
     "data": {
      "text/plain": [
       "(8, 10)"
      ]
     },
     "execution_count": 93,
     "metadata": {},
     "output_type": "execute_result"
    }
   ],
   "source": [
    "sorted_indexes = np.argsort(b, axis=None)\n",
    "print(sorted_indexes)\n",
    "\n",
    "b.shape"
   ]
  },
  {
   "cell_type": "code",
   "execution_count": 94,
   "metadata": {},
   "outputs": [
    {
     "name": "stdout",
     "output_type": "stream",
     "text": [
      "[0.0, 0.0, 0.0, 0.0, 0.0, 0.0, 0.0, 0.0, 0.0, 0.0, 0.0, 0.0, 0.0, 0.0, 0.0, 0.0, 0.0, 0.0, 0.0, 0.0, 0.0, 0.0, 0.0, 0.0, 0.0, 0.0, 0.0, 0.0, 0.0, 0.0, 0.0, 0.0, 0.0, 0.0, 0.0, 0.0, 0.0, 0.0, 0.0, 0.0, 0.0, 0.0, 0.0, 0.0, 0.0, 0.0, 0.0, 0.0, 0.01732470047018353, 0.11669585731948906, 0.1373833549235326, 0.20776014383947106, 0.2495726197245669, 0.29893386855808124, 0.30081558705634115, 0.3187252110308946, 0.3658797775750193, 0.3721602913296108, 0.3762291655356973, 0.4569658441699257, 0.4626984539632323, 0.5094920307920717, 0.5412149783795069, 0.5513904197676635, 0.5578554519016428, 0.5726480584709357, 0.6351910256778213, 0.6496995095508425, 0.7056593300859733, 0.7892150990424038, 0.8221002112729691, 0.8241341090018015, 0.8785830278280803, 0.8807645110382576, 0.9096892578646435, 0.930293222967397, 0.9594296220137665, 0.9603784752810169, 0.9717019435649444, 0.9773027884522567]\n"
     ]
    }
   ],
   "source": [
    "values = [b[i // 10][i % 10] for i in sorted_indexes]\n",
    "print(values)"
   ]
  },
  {
   "cell_type": "code",
   "execution_count": 60,
   "metadata": {},
   "outputs": [
    {
     "data": {
      "text/plain": [
       "6"
      ]
     },
     "execution_count": 60,
     "metadata": {},
     "output_type": "execute_result"
    }
   ],
   "source": [
    "64 // 10"
   ]
  },
  {
   "cell_type": "code",
   "execution_count": 95,
   "metadata": {},
   "outputs": [
    {
     "name": "stdout",
     "output_type": "stream",
     "text": [
      "32\n",
      "10\n"
     ]
    }
   ],
   "source": [
    "print(np.count_nonzero(values))\n",
    "len(values)\n",
    "nb_ok_indexes = int((np.count_nonzero(values)) * 0.33)\n",
    "print(nb_ok_indexes)"
   ]
  },
  {
   "cell_type": "code",
   "execution_count": 96,
   "metadata": {},
   "outputs": [
    {
     "name": "stdout",
     "output_type": "stream",
     "text": [
      "[(2, 0), (7, 6), (3, 1), (1, 7), (6, 5), (0, 4), (6, 1), (7, 3), (3, 0), (3, 6)]\n",
      "[0.8221002112729691, 0.8241341090018015, 0.8785830278280803, 0.8807645110382576, 0.9096892578646435, 0.930293222967397, 0.9594296220137665, 0.9603784752810169, 0.9717019435649444, 0.9773027884522567]\n"
     ]
    }
   ],
   "source": [
    "final_indexes = [(i // 10, i % 10) for i in sorted_indexes[len(values)-nb_ok_indexes: len(values)]]\n",
    "print(final_indexes)\n",
    "print([b[i] for i in final_indexes])"
   ]
  },
  {
   "cell_type": "code",
   "execution_count": 70,
   "metadata": {},
   "outputs": [
    {
     "data": {
      "text/plain": [
       "range(64, 79)"
      ]
     },
     "execution_count": 70,
     "metadata": {},
     "output_type": "execute_result"
    }
   ],
   "source": [
    "range(79 - 15, 79)"
   ]
  },
  {
   "cell_type": "code",
   "execution_count": 72,
   "metadata": {},
   "outputs": [
    {
     "name": "stdout",
     "output_type": "stream",
     "text": [
      "[65, 66, 67, 68, 69, 70, 71, 72, 73, 74, 75, 76, 77, 78, 79]\n"
     ]
    }
   ],
   "source": [
    "print([i for i in range(len(values)-nb_ok_indexes, len(values))])"
   ]
  },
  {
   "cell_type": "code",
   "execution_count": 97,
   "metadata": {},
   "outputs": [],
   "source": [
    "relabel = a.copy()"
   ]
  },
  {
   "cell_type": "code",
   "execution_count": 98,
   "metadata": {},
   "outputs": [
    {
     "data": {
      "text/plain": [
       "array([[ 0.,  1., -1.,  0.,  0., -1., -1., -1., -1., -1.],\n",
       "       [ 0., -1., -1., -1.,  1., -1., -1.,  0.,  0., -1.],\n",
       "       [ 0.,  0.,  0., -1.,  0.,  0., -1., -1.,  1., -1.],\n",
       "       [ 0.,  0., -1.,  0., -1.,  1.,  0., -1., -1., -1.],\n",
       "       [ 0., -1., -1.,  0., -1., -1., -1.,  0.,  0., -1.],\n",
       "       [ 0., -1., -1.,  0., -1., -1., -1.,  0.,  0., -1.],\n",
       "       [-1.,  0., -1., -1.,  0.,  0.,  0.,  1., -1., -1.],\n",
       "       [-1.,  0., -1.,  0.,  0., -1.,  0.,  0., -1., -1.]])"
      ]
     },
     "execution_count": 98,
     "metadata": {},
     "output_type": "execute_result"
    }
   ],
   "source": [
    "relabel"
   ]
  },
  {
   "cell_type": "code",
   "execution_count": 99,
   "metadata": {},
   "outputs": [],
   "source": [
    "x = [elt[0] for elt in final_indexes]\n",
    "y = [elt[1] for elt in final_indexes]\n",
    "relabel[(x, y)] = 1"
   ]
  },
  {
   "cell_type": "code",
   "execution_count": 100,
   "metadata": {},
   "outputs": [
    {
     "data": {
      "text/plain": [
       "array([[ 0.,  1., -1.,  0.,  1., -1., -1., -1., -1., -1.],\n",
       "       [ 0., -1., -1., -1.,  1., -1., -1.,  1.,  0., -1.],\n",
       "       [ 1.,  0.,  0., -1.,  0.,  0., -1., -1.,  1., -1.],\n",
       "       [ 1.,  1., -1.,  0., -1.,  1.,  1., -1., -1., -1.],\n",
       "       [ 0., -1., -1.,  0., -1., -1., -1.,  0.,  0., -1.],\n",
       "       [ 0., -1., -1.,  0., -1., -1., -1.,  0.,  0., -1.],\n",
       "       [-1.,  1., -1., -1.,  0.,  1.,  0.,  1., -1., -1.],\n",
       "       [-1.,  0., -1.,  1.,  0., -1.,  1.,  0., -1., -1.]])"
      ]
     },
     "execution_count": 100,
     "metadata": {},
     "output_type": "execute_result"
    }
   ],
   "source": [
    "relabel"
   ]
  },
  {
   "cell_type": "code",
   "execution_count": 87,
   "metadata": {},
   "outputs": [
    {
     "data": {
      "text/plain": [
       "(array([0, 0, 0, 1, 1, 1, 2, 2, 2, 2, 2, 3, 3, 3, 3, 4, 4, 4, 4, 5, 5, 5,\n",
       "        5, 6, 6, 6, 6, 7, 7, 7, 7, 7]),\n",
       " array([0, 3, 4, 0, 7, 8, 0, 1, 2, 4, 5, 0, 1, 3, 6, 0, 3, 7, 8, 0, 3, 7,\n",
       "        8, 1, 4, 5, 6, 1, 3, 4, 6, 7]))"
      ]
     },
     "execution_count": 87,
     "metadata": {},
     "output_type": "execute_result"
    }
   ],
   "source": [
    "np.where(relabel == 0)"
   ]
  },
  {
   "cell_type": "code",
   "execution_count": 109,
   "metadata": {},
   "outputs": [
    {
     "name": "stdout",
     "output_type": "stream",
     "text": [
      "[[0. 0. 0. 0. 1. 0. 0. 0. 0. 0.]\n",
      " [0. 0. 0. 0. 0. 0. 0. 1. 0. 0.]\n",
      " [1. 0. 0. 0. 0. 0. 0. 0. 0. 0.]\n",
      " [1. 1. 0. 0. 0. 0. 1. 0. 0. 0.]\n",
      " [0. 0. 0. 0. 0. 0. 0. 0. 0. 0.]\n",
      " [0. 0. 0. 0. 0. 0. 0. 0. 0. 0.]\n",
      " [0. 1. 0. 0. 0. 1. 0. 0. 0. 0.]\n",
      " [0. 0. 0. 1. 0. 0. 1. 0. 0. 0.]]\n"
     ]
    }
   ],
   "source": [
    "# sanity check\n",
    "check = np.where(a != relabel, relabel, 0)\n",
    "print(check)\n",
    "assert np.count_nonzero(check) == nb_ok_indexes   # check we added the correct number of values\n",
    "assert np.all(check[np.where(check != 0)] == 1)   # check we only added ones\n",
    "assert np.all(a[np.where(check == 1)] == 0)       # check we added values only where the initial batch was 0"
   ]
  },
  {
   "cell_type": "code",
   "execution_count": 103,
   "metadata": {},
   "outputs": [],
   "source": [
    "mmmh = np.where(check == 1)"
   ]
  },
  {
   "cell_type": "code",
   "execution_count": 104,
   "metadata": {},
   "outputs": [
    {
     "data": {
      "text/plain": [
       "(array([0, 1, 2, 3, 3, 3, 6, 6, 7, 7]), array([4, 7, 0, 0, 1, 6, 1, 5, 3, 6]))"
      ]
     },
     "execution_count": 104,
     "metadata": {},
     "output_type": "execute_result"
    }
   ],
   "source": [
    "mmmh"
   ]
  },
  {
   "cell_type": "code",
   "execution_count": 107,
   "metadata": {},
   "outputs": [
    {
     "data": {
      "text/plain": [
       "array([ True,  True,  True,  True,  True,  True,  True,  True,  True,\n",
       "        True])"
      ]
     },
     "execution_count": 107,
     "metadata": {},
     "output_type": "execute_result"
    }
   ],
   "source": [
    "a[np.where(check == 1)] == 0"
   ]
  },
  {
   "cell_type": "markdown",
   "metadata": {},
   "source": [
    "## actual test with model"
   ]
  },
  {
   "cell_type": "code",
   "execution_count": 110,
   "metadata": {},
   "outputs": [],
   "source": [
    "a = np.zeros(16)"
   ]
  },
  {
   "cell_type": "code",
   "execution_count": 111,
   "metadata": {},
   "outputs": [
    {
     "data": {
      "text/plain": [
       "array([0., 0., 0., 0., 0., 0., 0., 0., 0., 0., 0., 0., 0., 0., 0., 0.])"
      ]
     },
     "execution_count": 111,
     "metadata": {},
     "output_type": "execute_result"
    }
   ],
   "source": [
    "a"
   ]
  },
  {
   "cell_type": "code",
   "execution_count": 112,
   "metadata": {},
   "outputs": [
    {
     "data": {
      "text/plain": [
       "array([0, 1, 2, 3])"
      ]
     },
     "execution_count": 112,
     "metadata": {},
     "output_type": "execute_result"
    }
   ],
   "source": [
    "a = [0, 1, 2, 3]\n",
    "a = np.array(a)\n",
    "a"
   ]
  },
  {
   "cell_type": "code",
   "execution_count": 113,
   "metadata": {},
   "outputs": [
    {
     "data": {
      "text/plain": [
       "(4,)"
      ]
     },
     "execution_count": 113,
     "metadata": {},
     "output_type": "execute_result"
    }
   ],
   "source": [
    "a.shape"
   ]
  },
  {
   "cell_type": "code",
   "execution_count": 114,
   "metadata": {},
   "outputs": [
    {
     "data": {
      "text/plain": [
       "(16, 224, 224)"
      ]
     },
     "execution_count": 114,
     "metadata": {},
     "output_type": "execute_result"
    }
   ],
   "source": [
    "(16,) + (224,224)"
   ]
  },
  {
   "cell_type": "code",
   "execution_count": 115,
   "metadata": {},
   "outputs": [
    {
     "data": {
      "text/plain": [
       "(16, 1)"
      ]
     },
     "execution_count": 115,
     "metadata": {},
     "output_type": "execute_result"
    }
   ],
   "source": [
    "(16,) + (1,)"
   ]
  },
  {
   "cell_type": "code",
   "execution_count": 116,
   "metadata": {},
   "outputs": [
    {
     "data": {
      "text/plain": [
       "(16,)"
      ]
     },
     "execution_count": 116,
     "metadata": {},
     "output_type": "execute_result"
    }
   ],
   "source": [
    "(16,) + ()"
   ]
  },
  {
   "cell_type": "code",
   "execution_count": 117,
   "metadata": {},
   "outputs": [
    {
     "data": {
      "text/plain": [
       "array([[0],\n",
       "       [1],\n",
       "       [2],\n",
       "       [3]])"
      ]
     },
     "execution_count": 117,
     "metadata": {},
     "output_type": "execute_result"
    }
   ],
   "source": [
    "a.reshape(4, 1)"
   ]
  },
  {
   "cell_type": "code",
   "execution_count": 119,
   "metadata": {},
   "outputs": [
    {
     "data": {
      "text/plain": [
       "numpy.int64"
      ]
     },
     "execution_count": 119,
     "metadata": {},
     "output_type": "execute_result"
    }
   ],
   "source": [
    "type(a[1])"
   ]
  },
  {
   "cell_type": "code",
   "execution_count": 122,
   "metadata": {},
   "outputs": [],
   "source": [
    "a = np.array([0, 1, 1, -1, 0, 1])\n",
    "b = np.array([0, 1, 1, -1, 1, 1])\n",
    "\n",
    "diff = np.where(a != b, b, -2)"
   ]
  },
  {
   "cell_type": "code",
   "execution_count": 123,
   "metadata": {},
   "outputs": [
    {
     "data": {
      "text/plain": [
       "array([-2, -2, -2, -2,  1, -2])"
      ]
     },
     "execution_count": 123,
     "metadata": {},
     "output_type": "execute_result"
    }
   ],
   "source": [
    "diff"
   ]
  },
  {
   "cell_type": "code",
   "execution_count": 125,
   "metadata": {},
   "outputs": [],
   "source": [
    "assert np.all(diff[np.where(diff != -2)] == 1)\n",
    "assert np.all(a[np.where(diff == 1)] == 0)"
   ]
  },
  {
   "cell_type": "code",
   "execution_count": 126,
   "metadata": {},
   "outputs": [
    {
     "data": {
      "text/plain": [
       "{2}"
      ]
     },
     "execution_count": 126,
     "metadata": {},
     "output_type": "execute_result"
    }
   ],
   "source": [
    "set([0, 1, 2]) - set([0, 1])"
   ]
  },
  {
   "cell_type": "code",
   "execution_count": null,
   "metadata": {},
   "outputs": [],
   "source": []
  }
 ],
 "metadata": {
  "kernelspec": {
   "display_name": "Python 3",
   "language": "python",
   "name": "python3"
  },
  "language_info": {
   "codemirror_mode": {
    "name": "ipython",
    "version": 3
   },
   "file_extension": ".py",
   "mimetype": "text/x-python",
   "name": "python",
   "nbconvert_exporter": "python",
   "pygments_lexer": "ipython3",
   "version": "3.4.6"
  }
 },
 "nbformat": 4,
 "nbformat_minor": 2
}
