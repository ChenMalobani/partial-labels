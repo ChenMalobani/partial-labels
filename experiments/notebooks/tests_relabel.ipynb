{
 "cells": [
  {
   "cell_type": "code",
   "execution_count": 23,
   "metadata": {},
   "outputs": [],
   "source": [
    "import os\n",
    "import yaml"
   ]
  },
  {
   "cell_type": "code",
   "execution_count": 2,
   "metadata": {},
   "outputs": [],
   "source": [
    "import numpy as np"
   ]
  },
  {
   "cell_type": "code",
   "execution_count": 2,
   "metadata": {},
   "outputs": [],
   "source": [
    "from pprint import pprint"
   ]
  },
  {
   "cell_type": "code",
   "execution_count": 3,
   "metadata": {},
   "outputs": [],
   "source": [
    "from config.config_utils import dict_recursive_update\n",
    "from config.config import cfg\n",
    "\n",
    "from easydict import EasyDict as edict"
   ]
  },
  {
   "cell_type": "code",
   "execution_count": 18,
   "metadata": {},
   "outputs": [
    {
     "name": "stderr",
     "output_type": "stream",
     "text": [
      "Using TensorFlow backend.\n"
     ]
    }
   ],
   "source": [
    "from data.pascalvoc.pascalvoc import PascalVOC"
   ]
  },
  {
   "cell_type": "code",
   "execution_count": 26,
   "metadata": {},
   "outputs": [],
   "source": [
    "from model.networks.baseline import Baseline"
   ]
  },
  {
   "cell_type": "code",
   "execution_count": 31,
   "metadata": {},
   "outputs": [],
   "source": [
    "from model.callbacks.metric_callbacks import MAPCallback\n",
    "from model.callbacks.save_callback import SaveModel\n",
    "from model.callbacks.scheduler import lr_scheduler\n",
    "from model.callbacks.relabeling_callback import RelabelCallback"
   ]
  },
  {
   "cell_type": "markdown",
   "metadata": {},
   "source": [
    "## debug config"
   ]
  },
  {
   "cell_type": "code",
   "execution_count": 4,
   "metadata": {},
   "outputs": [],
   "source": [
    "config_path = '/home/caleml/partial-labels/config/pv_baseline50_sgd_448lrs.yaml'\n",
    "with open(config_path, 'r') as f_in:\n",
    "    options = yaml.safe_load(f_in)"
   ]
  },
  {
   "cell_type": "code",
   "execution_count": 5,
   "metadata": {},
   "outputs": [
    {
     "data": {
      "text/plain": [
       "{'archi': {'classifier': 'resnet50', 'loss': 'bce', 'name': 'baseline'},\n",
       " 'batch_size': 16,\n",
       " 'callbacks': {'lr_factor': 0.1, 'lr_trigger': [10]},\n",
       " 'dataset': {'name': 'pascalvoc',\n",
       "  'path': '/home/caleml/datasets/pascalvoc/VOCdevkit/VOC2007/',\n",
       "  'test': 'test',\n",
       "  'train': 'trainval'},\n",
       " 'image': {'img_size': 448},\n",
       " 'training': {'n_epochs': 20, 'optimizer': 'sgd', 'start_lr': 0.01}}"
      ]
     },
     "execution_count": 5,
     "metadata": {},
     "output_type": "execute_result"
    }
   ],
   "source": [
    "options"
   ]
  },
  {
   "cell_type": "code",
   "execution_count": 6,
   "metadata": {},
   "outputs": [
    {
     "name": "stdout",
     "output_type": "stream",
     "text": [
      "{'BATCH_SIZE': 32,\n",
      " 'CALLBACK': {'LR_FACTOR': 0.1,\n",
      "              'LR_TRIGGER': [],\n",
      "              'MIN_DELTA': 0.0,\n",
      "              'PATIENCE': 10,\n",
      "              'PATIENCE_LR': 2,\n",
      "              'TENSORBOARD': {'SAVE_GRAPH': True, 'USE_TENSORBOARD': False}},\n",
      " 'DATAAUGMENTATION': {'DEFAULT_DICT': {'horizontal_flip': True}},\n",
      " 'DATASET': {'SHUFFLE': True},\n",
      " 'DEBUG': {'IS_TEST': False},\n",
      " 'EPSILON': 1e-07,\n",
      " 'IMAGE': {'IMG_SIZE': 448, 'N_CHANNELS': 3},\n",
      " 'MULTIP': {'MAX_QUEUE_SIZE': 10, 'N_WORKERS': 2, 'USE_MULTIPROCESS': False},\n",
      " 'RANDOM_SEED': 1,\n",
      " 'TRAINING': {'OPTIMIZER': 'adam', 'START_LR': 0.0001},\n",
      " 'VERBOSE': True}\n"
     ]
    }
   ],
   "source": [
    "pprint(cfg)\n",
    "old_cfg = cfg"
   ]
  },
  {
   "cell_type": "code",
   "execution_count": 7,
   "metadata": {},
   "outputs": [
    {
     "data": {
      "text/plain": [
       "{'ARCHI': {'CLASSIFIER': 'resnet50', 'LOSS': 'bce', 'NAME': 'baseline'},\n",
       " 'BATCH_SIZE': 16,\n",
       " 'CALLBACK': {'LR_FACTOR': 0.1,\n",
       "  'LR_TRIGGER': [],\n",
       "  'MIN_DELTA': 0.0,\n",
       "  'PATIENCE': 10,\n",
       "  'PATIENCE_LR': 2,\n",
       "  'TENSORBOARD': {'SAVE_GRAPH': True, 'USE_TENSORBOARD': False}},\n",
       " 'CALLBACKS': {'LR_FACTOR': 0.1, 'LR_TRIGGER': [10]},\n",
       " 'DATAAUGMENTATION': {'DEFAULT_DICT': {'horizontal_flip': True}},\n",
       " 'DATASET': {'NAME': 'pascalvoc',\n",
       "  'PATH': '/home/caleml/datasets/pascalvoc/VOCdevkit/VOC2007/',\n",
       "  'SHUFFLE': True,\n",
       "  'TEST': 'test',\n",
       "  'TRAIN': 'trainval'},\n",
       " 'DEBUG': {'IS_TEST': False},\n",
       " 'EPSILON': 1e-07,\n",
       " 'IMAGE': {'IMG_SIZE': 448, 'N_CHANNELS': 3},\n",
       " 'MULTIP': {'MAX_QUEUE_SIZE': 10, 'N_WORKERS': 2, 'USE_MULTIPROCESS': False},\n",
       " 'RANDOM_SEED': 1,\n",
       " 'TRAINING': {'N_EPOCHS': 20, 'OPTIMIZER': 'sgd', 'START_LR': 0.01},\n",
       " 'VERBOSE': True}"
      ]
     },
     "execution_count": 7,
     "metadata": {},
     "output_type": "execute_result"
    }
   ],
   "source": [
    "new_config = edict(options)\n",
    "dict_recursive_update(cfg, new_config)"
   ]
  },
  {
   "cell_type": "code",
   "execution_count": 8,
   "metadata": {},
   "outputs": [
    {
     "name": "stdout",
     "output_type": "stream",
     "text": [
      "{'ARCHI': {'CLASSIFIER': 'resnet50', 'LOSS': 'bce', 'NAME': 'baseline'},\n",
      " 'BATCH_SIZE': 16,\n",
      " 'CALLBACK': {'LR_FACTOR': 0.1,\n",
      "              'LR_TRIGGER': [],\n",
      "              'MIN_DELTA': 0.0,\n",
      "              'PATIENCE': 10,\n",
      "              'PATIENCE_LR': 2,\n",
      "              'TENSORBOARD': {'SAVE_GRAPH': True, 'USE_TENSORBOARD': False}},\n",
      " 'CALLBACKS': {'LR_FACTOR': 0.1, 'LR_TRIGGER': [10]},\n",
      " 'DATAAUGMENTATION': {'DEFAULT_DICT': {'horizontal_flip': True}},\n",
      " 'DATASET': {'NAME': 'pascalvoc',\n",
      "             'PATH': '/home/caleml/datasets/pascalvoc/VOCdevkit/VOC2007/',\n",
      "             'SHUFFLE': True,\n",
      "             'TEST': 'test',\n",
      "             'TRAIN': 'trainval'},\n",
      " 'DEBUG': {'IS_TEST': False},\n",
      " 'EPSILON': 1e-07,\n",
      " 'IMAGE': {'IMG_SIZE': 448, 'N_CHANNELS': 3},\n",
      " 'MULTIP': {'MAX_QUEUE_SIZE': 10, 'N_WORKERS': 2, 'USE_MULTIPROCESS': False},\n",
      " 'RANDOM_SEED': 1,\n",
      " 'TRAINING': {'N_EPOCHS': 20, 'OPTIMIZER': 'sgd', 'START_LR': 0.01},\n",
      " 'VERBOSE': True}\n"
     ]
    }
   ],
   "source": [
    "pprint(cfg)\n",
    "new_cfg = cfg"
   ]
  },
  {
   "cell_type": "code",
   "execution_count": 11,
   "metadata": {},
   "outputs": [],
   "source": [
    "# save config\n",
    "config_path = '/home/caleml/config_test.yaml'\n",
    "with open(config_path, 'w+') as f_conf:\n",
    "    yaml.dump(new_cfg, f_conf)"
   ]
  },
  {
   "cell_type": "code",
   "execution_count": 15,
   "metadata": {},
   "outputs": [],
   "source": [
    "# load config\n",
    "config_path = '/home/caleml/config_test.yaml'\n",
    "with open(config_path, 'r') as f_in:\n",
    "    loaded_conf = yaml.load(f_in)"
   ]
  },
  {
   "cell_type": "code",
   "execution_count": 16,
   "metadata": {},
   "outputs": [
    {
     "name": "stdout",
     "output_type": "stream",
     "text": [
      "{'ARCHI': {'CLASSIFIER': 'resnet50', 'LOSS': 'bce', 'NAME': 'baseline'},\n",
      " 'BATCH_SIZE': 16,\n",
      " 'CALLBACK': {'LR_FACTOR': 0.1,\n",
      "              'LR_TRIGGER': [],\n",
      "              'MIN_DELTA': 0.0,\n",
      "              'PATIENCE': 10,\n",
      "              'PATIENCE_LR': 2,\n",
      "              'TENSORBOARD': {'SAVE_GRAPH': True, 'USE_TENSORBOARD': False}},\n",
      " 'CALLBACKS': {'LR_FACTOR': 0.1, 'LR_TRIGGER': [10]},\n",
      " 'DATAAUGMENTATION': {'DEFAULT_DICT': {'horizontal_flip': True}},\n",
      " 'DATASET': {'NAME': 'pascalvoc',\n",
      "             'PATH': '/home/caleml/datasets/pascalvoc/VOCdevkit/VOC2007/',\n",
      "             'SHUFFLE': True,\n",
      "             'TEST': 'test',\n",
      "             'TRAIN': 'trainval'},\n",
      " 'DEBUG': {'IS_TEST': False},\n",
      " 'EPSILON': 1e-07,\n",
      " 'IMAGE': {'IMG_SIZE': 448, 'N_CHANNELS': 3},\n",
      " 'MULTIP': {'MAX_QUEUE_SIZE': 10, 'N_WORKERS': 2, 'USE_MULTIPROCESS': False},\n",
      " 'RANDOM_SEED': 1,\n",
      " 'TRAINING': {'N_EPOCHS': 20, 'OPTIMIZER': 'sgd', 'START_LR': 0.01},\n",
      " 'VERBOSE': True}\n"
     ]
    }
   ],
   "source": [
    "pprint(loaded_conf)"
   ]
  },
  {
   "cell_type": "markdown",
   "metadata": {},
   "source": [
    "## Tests pascalVOC"
   ]
  },
  {
   "cell_type": "code",
   "execution_count": 20,
   "metadata": {},
   "outputs": [],
   "source": [
    "prop = 100"
   ]
  },
  {
   "cell_type": "code",
   "execution_count": 21,
   "metadata": {},
   "outputs": [],
   "source": [
    "data_dir = '/home/caleml/datasets/pascalvoc/VOCdevkit/VOC2007/'\n",
    "dataset_train = PascalVOC(data_dir, 16, 'trainval', x_keys=['image'], y_keys=['multilabel'], p=prop)"
   ]
  },
  {
   "cell_type": "code",
   "execution_count": 24,
   "metadata": {},
   "outputs": [],
   "source": [
    "exp_folder = '/home/caleml/partial_experiments/exp_20190903_1123_TESTNB'\n",
    "os.makedirs(exp_folder, exist_ok=True)"
   ]
  },
  {
   "cell_type": "code",
   "execution_count": 27,
   "metadata": {},
   "outputs": [
    {
     "name": "stdout",
     "output_type": "stream",
     "text": [
      "Init input_shape (448, 448, 3)\n",
      "Loading options\n",
      "\n",
      "========================\n",
      "Loaded config\n",
      "\n",
      "{'archi': {'classifier': 'resnet50', 'loss': 'bce', 'name': 'baseline'},\n",
      " 'batch_size': 16,\n",
      " 'dataset': {'name': 'pascalvoc',\n",
      "             'path': '/home/caleml/datasets/pascalvoc/VOCdevkit/VOC2007/',\n",
      "             'test': 'test',\n",
      "             'train': 'trainval'},\n",
      " 'image': {'img_size': 448},\n",
      " 'training': {'n_epochs': 20, 'optimizer': 'sgd', 'start_lr': 0.01}}\n",
      "========================\n",
      "\n"
     ]
    },
    {
     "name": "stderr",
     "output_type": "stream",
     "text": [
      "/home/caleml/.local/lib/python3.4/site-packages/keras_applications/resnet50.py:265: UserWarning: The output shape of `ResNet50(include_top=False)` has been changed since Keras 2.2.0.\n",
      "  warnings.warn('The output shape of `ResNet50(include_top=False)` '\n"
     ]
    },
    {
     "name": "stdout",
     "output_type": "stream",
     "text": [
      "\u001b[95mOutputs shape (None, 20)\u001b[0m\n",
      "\u001b[95mFinal model summary\u001b[0m\n",
      "_________________________________________________________________\n",
      "Layer (type)                 Output Shape              Param #   \n",
      "=================================================================\n",
      "image_input (InputLayer)     (None, 448, 448, 3)       0         \n",
      "_________________________________________________________________\n",
      "cls_model (Model)            (None, 14, 14, 2048)      23587712  \n",
      "_________________________________________________________________\n",
      "global_average_pooling2d (Gl (None, 2048)              0         \n",
      "_________________________________________________________________\n",
      "dense (Dense)                (None, 20)                40980     \n",
      "=================================================================\n",
      "Total params: 23,628,692\n",
      "Trainable params: 23,575,572\n",
      "Non-trainable params: 53,120\n",
      "_________________________________________________________________\n"
     ]
    }
   ],
   "source": [
    "model = Baseline(exp_folder, dataset_train.nb_classes, prop)\n",
    "model.load_config('pv_relabel')\n",
    "model.build()"
   ]
  },
  {
   "cell_type": "code",
   "execution_count": null,
   "metadata": {},
   "outputs": [],
   "source": [
    "# callbacks\n",
    "from model.callbacks.relabeling_callback import RelabelCallback\n",
    "cb_list = list()\n",
    "\n",
    "map_cb = MAPCallback(X_test, Y_test, exp_folder, prop)\n",
    "cb_list.append(map_cb)\n",
    "cb_list.append(SaveModel(exp_folder, prop))\n",
    "\n",
    "relabel_cb = RelabelCallback(dataset_train, exp_folder, 'kl', prop)\n",
    "cb_list.append(relabel_cb)"
   ]
  },
  {
   "cell_type": "code",
   "execution_count": 32,
   "metadata": {},
   "outputs": [
    {
     "data": {
      "text/plain": [
       "'a1'"
      ]
     },
     "execution_count": 32,
     "metadata": {},
     "output_type": "execute_result"
    }
   ],
   "source": [
    "a = 'animal'\n",
    "'%s1' % a[0]"
   ]
  },
  {
   "cell_type": "code",
   "execution_count": 2,
   "metadata": {},
   "outputs": [
    {
     "data": {
      "text/plain": [
       "1"
      ]
     },
     "execution_count": 2,
     "metadata": {},
     "output_type": "execute_result"
    }
   ],
   "source": [
    "min([1, 5])"
   ]
  },
  {
   "cell_type": "code",
   "execution_count": 5,
   "metadata": {},
   "outputs": [],
   "source": [
    "a = np.array([0.54, 0.872497, 0.29374, 0.139864])"
   ]
  },
  {
   "cell_type": "code",
   "execution_count": 6,
   "metadata": {},
   "outputs": [],
   "source": [
    "b = np.where(a > 0.5, 1, 0)"
   ]
  },
  {
   "cell_type": "code",
   "execution_count": 7,
   "metadata": {},
   "outputs": [
    {
     "data": {
      "text/plain": [
       "array([1, 1, 0, 0])"
      ]
     },
     "execution_count": 7,
     "metadata": {},
     "output_type": "execute_result"
    }
   ],
   "source": [
    "b"
   ]
  },
  {
   "cell_type": "code",
   "execution_count": 8,
   "metadata": {},
   "outputs": [
    {
     "data": {
      "text/plain": [
       "0.139864"
      ]
     },
     "execution_count": 8,
     "metadata": {},
     "output_type": "execute_result"
    }
   ],
   "source": [
    "np.min(a)"
   ]
  },
  {
   "cell_type": "code",
   "execution_count": 9,
   "metadata": {},
   "outputs": [
    {
     "data": {
      "text/plain": [
       "0.139864"
      ]
     },
     "execution_count": 9,
     "metadata": {},
     "output_type": "execute_result"
    }
   ],
   "source": [
    "a.min()"
   ]
  },
  {
   "cell_type": "code",
   "execution_count": 10,
   "metadata": {},
   "outputs": [],
   "source": [
    "a = np.array([1, 2567, 3, 5093], dtype=np.int16)"
   ]
  },
  {
   "cell_type": "code",
   "execution_count": 11,
   "metadata": {},
   "outputs": [],
   "source": [
    "b = np.array([4, 3, 2, 1], dtype=np.int16)"
   ]
  },
  {
   "cell_type": "code",
   "execution_count": 14,
   "metadata": {},
   "outputs": [],
   "source": [
    "c = 255 * a / b\n",
    "d = (a / b) * 255"
   ]
  },
  {
   "cell_type": "code",
   "execution_count": 15,
   "metadata": {},
   "outputs": [
    {
     "data": {
      "text/plain": [
       "array([  63.75,  170.  ,  382.5 , 1020.  ])"
      ]
     },
     "execution_count": 15,
     "metadata": {},
     "output_type": "execute_result"
    }
   ],
   "source": [
    "c"
   ]
  },
  {
   "cell_type": "code",
   "execution_count": 16,
   "metadata": {},
   "outputs": [
    {
     "data": {
      "text/plain": [
       "array([  63.75,  170.  ,  382.5 , 1020.  ])"
      ]
     },
     "execution_count": 16,
     "metadata": {},
     "output_type": "execute_result"
    }
   ],
   "source": [
    "d"
   ]
  },
  {
   "cell_type": "code",
   "execution_count": 17,
   "metadata": {},
   "outputs": [
    {
     "data": {
      "text/plain": [
       "array([  63.75,  340.  , 1147.5 , 4080.  ])"
      ]
     },
     "execution_count": 17,
     "metadata": {},
     "output_type": "execute_result"
    }
   ],
   "source": [
    "a * c"
   ]
  },
  {
   "cell_type": "markdown",
   "metadata": {},
   "source": [
    "## test relabeling"
   ]
  },
  {
   "cell_type": "code",
   "execution_count": 3,
   "metadata": {},
   "outputs": [],
   "source": [
    "y_true = np.zeros((8, 10))"
   ]
  },
  {
   "cell_type": "code",
   "execution_count": 4,
   "metadata": {},
   "outputs": [
    {
     "name": "stdout",
     "output_type": "stream",
     "text": [
      "[5]\n",
      "[2]\n",
      "[5]\n",
      "[2]\n",
      "[4]\n",
      "[6]\n",
      "[1]\n",
      "[4]\n"
     ]
    }
   ],
   "source": [
    "y_true[:][:] = -1\n",
    "\n",
    "# put some zeros and some ones\n",
    "for line in y_true:\n",
    "    ones = [np.random.randint(0, len(line) - 1) for i in range(np.random.randint(1, 3))]\n",
    "    zeros = [np.random.randint(0, len(line) - 1) for i in range(5)]\n",
    "    print(ones)\n",
    "    line[ones] = 1\n",
    "    line[zeros] = 0"
   ]
  },
  {
   "cell_type": "code",
   "execution_count": 5,
   "metadata": {},
   "outputs": [
    {
     "data": {
      "text/plain": [
       "array([[-1.,  0.,  0., -1., -1.,  0., -1., -1.,  0., -1.],\n",
       "       [-1.,  0.,  1., -1., -1., -1.,  0.,  0.,  0., -1.],\n",
       "       [-1., -1., -1., -1.,  0.,  0., -1., -1.,  0., -1.],\n",
       "       [-1., -1.,  0., -1., -1., -1.,  0.,  0.,  0., -1.],\n",
       "       [-1.,  0., -1., -1.,  1.,  0., -1.,  0.,  0., -1.],\n",
       "       [ 0.,  0., -1.,  0., -1.,  0.,  0., -1., -1., -1.],\n",
       "       [-1.,  0.,  0., -1., -1., -1., -1.,  0.,  0., -1.],\n",
       "       [ 0., -1., -1.,  0.,  1., -1., -1.,  0.,  0., -1.]])"
      ]
     },
     "execution_count": 5,
     "metadata": {},
     "output_type": "execute_result"
    }
   ],
   "source": [
    "y_true"
   ]
  },
  {
   "cell_type": "code",
   "execution_count": 6,
   "metadata": {},
   "outputs": [
    {
     "name": "stdout",
     "output_type": "stream",
     "text": [
      "[[0.31758167 0.14547202 0.64511072 0.88200348 0.21635174 0.27855961\n",
      "  0.21008615 0.0548783  0.32148914 0.31342073]\n",
      " [0.92449438 0.99196955 0.69292271 0.2872938  0.60950933 0.7971972\n",
      "  0.95703965 0.6071477  0.61810452 0.70084569]\n",
      " [0.90460796 0.83244332 0.11012478 0.73372538 0.39853613 0.12078864\n",
      "  0.41938148 0.9600263  0.35485419 0.51394682]\n",
      " [0.48379164 0.44634357 0.73381697 0.27509018 0.70589189 0.8080412\n",
      "  0.20554191 0.04863043 0.35231251 0.27714793]\n",
      " [0.24620129 0.30776765 0.27779835 0.0243708  0.07517254 0.22291599\n",
      "  0.21040443 0.29756407 0.75590584 0.00776722]\n",
      " [0.76087114 0.12037359 0.67115898 0.46749832 0.37853927 0.60114251\n",
      "  0.11800136 0.85579306 0.5594698  0.38201092]\n",
      " [0.19309655 0.76361008 0.20260037 0.16802707 0.29846126 0.537478\n",
      "  0.98199803 0.24327387 0.02717115 0.14053182]\n",
      " [0.92770257 0.51509554 0.89879271 0.13479303 0.87207998 0.21846154\n",
      "  0.9032356  0.06389895 0.05867039 0.86087326]]\n"
     ]
    }
   ],
   "source": [
    "yk = np.random.rand(8, 10)\n",
    "print(yk)"
   ]
  },
  {
   "cell_type": "code",
   "execution_count": 8,
   "metadata": {},
   "outputs": [],
   "source": [
    "relevant_yk = np.where(y_true == 0, yk, 0)"
   ]
  },
  {
   "cell_type": "code",
   "execution_count": 9,
   "metadata": {},
   "outputs": [
    {
     "data": {
      "text/plain": [
       "array([[0.        , 0.14547202, 0.64511072, 0.        , 0.        ,\n",
       "        0.27855961, 0.        , 0.        , 0.32148914, 0.        ],\n",
       "       [0.        , 0.99196955, 0.        , 0.        , 0.        ,\n",
       "        0.        , 0.95703965, 0.6071477 , 0.61810452, 0.        ],\n",
       "       [0.        , 0.        , 0.        , 0.        , 0.39853613,\n",
       "        0.12078864, 0.        , 0.        , 0.35485419, 0.        ],\n",
       "       [0.        , 0.        , 0.73381697, 0.        , 0.        ,\n",
       "        0.        , 0.20554191, 0.04863043, 0.35231251, 0.        ],\n",
       "       [0.        , 0.30776765, 0.        , 0.        , 0.        ,\n",
       "        0.22291599, 0.        , 0.29756407, 0.75590584, 0.        ],\n",
       "       [0.76087114, 0.12037359, 0.        , 0.46749832, 0.        ,\n",
       "        0.60114251, 0.11800136, 0.        , 0.        , 0.        ],\n",
       "       [0.        , 0.76361008, 0.20260037, 0.        , 0.        ,\n",
       "        0.        , 0.        , 0.24327387, 0.02717115, 0.        ],\n",
       "       [0.92770257, 0.        , 0.        , 0.13479303, 0.        ,\n",
       "        0.        , 0.        , 0.06389895, 0.05867039, 0.        ]])"
      ]
     },
     "execution_count": 9,
     "metadata": {},
     "output_type": "execute_result"
    }
   ],
   "source": [
    "relevant_yk"
   ]
  },
  {
   "cell_type": "code",
   "execution_count": 10,
   "metadata": {},
   "outputs": [
    {
     "name": "stdout",
     "output_type": "stream",
     "text": [
      "[ 0 31 33 34 35 40 42 43 44 46 49 52 54 30 57 59 60 63 64 65 66 69 71 72\n",
      " 74 75 76 58 29 39 27  3  4  6  7  9 10 12 13 14 19 20 15 79 22 23 26 21\n",
      " 68 37 78 77 56 51 25 73  1 62 36 45 67  5 47 41  8 38 28 24 53 55 17 18\n",
      "  2 32 48 50 61 70 16 11]\n"
     ]
    },
    {
     "data": {
      "text/plain": [
       "(8, 10)"
      ]
     },
     "execution_count": 10,
     "metadata": {},
     "output_type": "execute_result"
    }
   ],
   "source": [
    "sorted_indexes = np.argsort(relevant_yk, axis=None)\n",
    "print(sorted_indexes)\n",
    "\n",
    "relevant_yk.shape"
   ]
  },
  {
   "cell_type": "code",
   "execution_count": 19,
   "metadata": {},
   "outputs": [
    {
     "name": "stdout",
     "output_type": "stream",
     "text": [
      "[0.0, 0.0, 0.0, 0.0, 0.0, 0.0, 0.0, 0.0, 0.0, 0.0, 0.0, 0.0, 0.0, 0.0, 0.0, 0.0, 0.0, 0.0, 0.0, 0.0, 0.0, 0.0, 0.0, 0.0, 0.0, 0.0, 0.0, 0.0, 0.0, 0.0, 0.0, 0.0, 0.0, 0.0, 0.0, 0.0, 0.0, 0.0, 0.0, 0.0, 0.0, 0.0, 0.0, 0.0, 0.0, 0.0, 0.0, 0.0, 0.027171152580019453, 0.04863043492861163, 0.058670389841307125, 0.0638989533705493, 0.11800136283788387, 0.12037358564302503, 0.12078864226052322, 0.13479302541421156, 0.14547201769975215, 0.20260036939337, 0.2055419147072054, 0.22291598517914657, 0.24327386812783736, 0.27855960580252903, 0.29756407421498876, 0.3077676522946008, 0.3214891393064213, 0.3523125125140468, 0.3548541887752711, 0.3985361284880119, 0.4674983173652708, 0.6011425066466483, 0.6071477035548666, 0.6181045206532751, 0.6451107245200675, 0.7338169696327361, 0.7559058432655383, 0.7608711448112746, 0.7636100769455646, 0.9277025679178317, 0.9570396455369243, 0.9919695509054964]\n",
      "80\n"
     ]
    }
   ],
   "source": [
    "values = [relevant_yk[i // 10][i % 10] for i in sorted_indexes]\n",
    "print(values)\n",
    "print(len(values))"
   ]
  },
  {
   "cell_type": "code",
   "execution_count": 15,
   "metadata": {},
   "outputs": [
    {
     "name": "stdout",
     "output_type": "stream",
     "text": [
      "[(5, 3), (5, 5), (1, 7), (1, 8), (0, 2), (3, 2), (4, 8), (5, 0), (6, 1), (7, 0), (1, 6), (1, 1)]\n",
      "[0.4674983173652708, 0.6011425066466483, 0.6071477035548666, 0.6181045206532751, 0.6451107245200675, 0.7338169696327361, 0.7559058432655383, 0.7608711448112746, 0.7636100769455646, 0.9277025679178317, 0.9570396455369243, 0.9919695509054964]\n"
     ]
    }
   ],
   "source": [
    "# positive values\n",
    "nb_positive_indexes = int((np.count_nonzero(values)) * (0.8 / 2))\n",
    "positive_indexes = [(i // 10, i % 10) for i in sorted_indexes[len(values)-nb_positive_indexes: len(values)]]\n",
    "print(positive_indexes)\n",
    "print([yk[i] for i in positive_indexes])"
   ]
  },
  {
   "cell_type": "code",
   "execution_count": 18,
   "metadata": {},
   "outputs": [
    {
     "name": "stdout",
     "output_type": "stream",
     "text": [
      "48\n",
      "[(6, 8), (3, 7), (7, 8), (7, 7), (5, 6), (5, 1), (2, 5), (7, 3), (0, 1), (6, 2), (3, 6), (4, 5)]\n",
      "[0.027171152580019453, 0.04863043492861163, 0.058670389841307125, 0.0638989533705493, 0.11800136283788387, 0.12037358564302503, 0.12078864226052322, 0.13479302541421156, 0.14547201769975215, 0.20260036939337, 0.2055419147072054, 0.22291598517914657]\n"
     ]
    }
   ],
   "source": [
    "# negative values\n",
    "nb_zeros = len(values) - np.count_nonzero(values)\n",
    "print(nb_zeros)\n",
    "nb_negative_indexes = int((np.count_nonzero(values)) * (0.8 / 2))\n",
    "negative_indexes = [(i // 10, i % 10) for i in sorted_indexes[nb_zeros: nb_zeros + nb_negative_indexes]]\n",
    "print(negative_indexes)\n",
    "print([yk[i] for i in negative_indexes])"
   ]
  },
  {
   "cell_type": "code",
   "execution_count": 12,
   "metadata": {},
   "outputs": [
    {
     "name": "stdout",
     "output_type": "stream",
     "text": [
      "32\n",
      "10\n"
     ]
    }
   ],
   "source": [
    "# all values\n",
    "print(np.count_nonzero(values))\n",
    "len(values)\n",
    "nb_ok_indexes = int((np.count_nonzero(values)) * 0.33)\n",
    "print(nb_ok_indexes)"
   ]
  },
  {
   "cell_type": "code",
   "execution_count": 96,
   "metadata": {},
   "outputs": [
    {
     "name": "stdout",
     "output_type": "stream",
     "text": [
      "[(2, 0), (7, 6), (3, 1), (1, 7), (6, 5), (0, 4), (6, 1), (7, 3), (3, 0), (3, 6)]\n",
      "[0.8221002112729691, 0.8241341090018015, 0.8785830278280803, 0.8807645110382576, 0.9096892578646435, 0.930293222967397, 0.9594296220137665, 0.9603784752810169, 0.9717019435649444, 0.9773027884522567]\n"
     ]
    }
   ],
   "source": [
    "final_indexes = [(i // 10, i % 10) for i in sorted_indexes[len(values)-nb_ok_indexes: len(values)]]\n",
    "print(final_indexes)\n",
    "print([b[i] for i in final_indexes])"
   ]
  },
  {
   "cell_type": "code",
   "execution_count": 70,
   "metadata": {},
   "outputs": [
    {
     "data": {
      "text/plain": [
       "range(64, 79)"
      ]
     },
     "execution_count": 70,
     "metadata": {},
     "output_type": "execute_result"
    }
   ],
   "source": [
    "range(79 - 15, 79)"
   ]
  },
  {
   "cell_type": "code",
   "execution_count": 72,
   "metadata": {},
   "outputs": [
    {
     "name": "stdout",
     "output_type": "stream",
     "text": [
      "[65, 66, 67, 68, 69, 70, 71, 72, 73, 74, 75, 76, 77, 78, 79]\n"
     ]
    }
   ],
   "source": [
    "print([i for i in range(len(values)-nb_ok_indexes, len(values))])"
   ]
  },
  {
   "cell_type": "code",
   "execution_count": 97,
   "metadata": {},
   "outputs": [],
   "source": [
    "relabel = a.copy()"
   ]
  },
  {
   "cell_type": "code",
   "execution_count": 98,
   "metadata": {},
   "outputs": [
    {
     "data": {
      "text/plain": [
       "array([[ 0.,  1., -1.,  0.,  0., -1., -1., -1., -1., -1.],\n",
       "       [ 0., -1., -1., -1.,  1., -1., -1.,  0.,  0., -1.],\n",
       "       [ 0.,  0.,  0., -1.,  0.,  0., -1., -1.,  1., -1.],\n",
       "       [ 0.,  0., -1.,  0., -1.,  1.,  0., -1., -1., -1.],\n",
       "       [ 0., -1., -1.,  0., -1., -1., -1.,  0.,  0., -1.],\n",
       "       [ 0., -1., -1.,  0., -1., -1., -1.,  0.,  0., -1.],\n",
       "       [-1.,  0., -1., -1.,  0.,  0.,  0.,  1., -1., -1.],\n",
       "       [-1.,  0., -1.,  0.,  0., -1.,  0.,  0., -1., -1.]])"
      ]
     },
     "execution_count": 98,
     "metadata": {},
     "output_type": "execute_result"
    }
   ],
   "source": [
    "relabel"
   ]
  },
  {
   "cell_type": "code",
   "execution_count": 99,
   "metadata": {},
   "outputs": [],
   "source": [
    "x = [elt[0] for elt in final_indexes]\n",
    "y = [elt[1] for elt in final_indexes]\n",
    "relabel[(x, y)] = 1"
   ]
  },
  {
   "cell_type": "code",
   "execution_count": 100,
   "metadata": {},
   "outputs": [
    {
     "data": {
      "text/plain": [
       "array([[ 0.,  1., -1.,  0.,  1., -1., -1., -1., -1., -1.],\n",
       "       [ 0., -1., -1., -1.,  1., -1., -1.,  1.,  0., -1.],\n",
       "       [ 1.,  0.,  0., -1.,  0.,  0., -1., -1.,  1., -1.],\n",
       "       [ 1.,  1., -1.,  0., -1.,  1.,  1., -1., -1., -1.],\n",
       "       [ 0., -1., -1.,  0., -1., -1., -1.,  0.,  0., -1.],\n",
       "       [ 0., -1., -1.,  0., -1., -1., -1.,  0.,  0., -1.],\n",
       "       [-1.,  1., -1., -1.,  0.,  1.,  0.,  1., -1., -1.],\n",
       "       [-1.,  0., -1.,  1.,  0., -1.,  1.,  0., -1., -1.]])"
      ]
     },
     "execution_count": 100,
     "metadata": {},
     "output_type": "execute_result"
    }
   ],
   "source": [
    "relabel"
   ]
  },
  {
   "cell_type": "code",
   "execution_count": 87,
   "metadata": {},
   "outputs": [
    {
     "data": {
      "text/plain": [
       "(array([0, 0, 0, 1, 1, 1, 2, 2, 2, 2, 2, 3, 3, 3, 3, 4, 4, 4, 4, 5, 5, 5,\n",
       "        5, 6, 6, 6, 6, 7, 7, 7, 7, 7]),\n",
       " array([0, 3, 4, 0, 7, 8, 0, 1, 2, 4, 5, 0, 1, 3, 6, 0, 3, 7, 8, 0, 3, 7,\n",
       "        8, 1, 4, 5, 6, 1, 3, 4, 6, 7]))"
      ]
     },
     "execution_count": 87,
     "metadata": {},
     "output_type": "execute_result"
    }
   ],
   "source": [
    "np.where(relabel == 0)"
   ]
  },
  {
   "cell_type": "code",
   "execution_count": 109,
   "metadata": {},
   "outputs": [
    {
     "name": "stdout",
     "output_type": "stream",
     "text": [
      "[[0. 0. 0. 0. 1. 0. 0. 0. 0. 0.]\n",
      " [0. 0. 0. 0. 0. 0. 0. 1. 0. 0.]\n",
      " [1. 0. 0. 0. 0. 0. 0. 0. 0. 0.]\n",
      " [1. 1. 0. 0. 0. 0. 1. 0. 0. 0.]\n",
      " [0. 0. 0. 0. 0. 0. 0. 0. 0. 0.]\n",
      " [0. 0. 0. 0. 0. 0. 0. 0. 0. 0.]\n",
      " [0. 1. 0. 0. 0. 1. 0. 0. 0. 0.]\n",
      " [0. 0. 0. 1. 0. 0. 1. 0. 0. 0.]]\n"
     ]
    }
   ],
   "source": [
    "# sanity check\n",
    "check = np.where(a != relabel, relabel, 0)\n",
    "print(check)\n",
    "assert np.count_nonzero(check) == nb_ok_indexes   # check we added the correct number of values\n",
    "assert np.all(check[np.where(check != 0)] == 1)   # check we only added ones\n",
    "assert np.all(a[np.where(check == 1)] == 0)       # check we added values only where the initial batch was 0"
   ]
  },
  {
   "cell_type": "code",
   "execution_count": 103,
   "metadata": {},
   "outputs": [],
   "source": [
    "mmmh = np.where(check == 1)"
   ]
  },
  {
   "cell_type": "code",
   "execution_count": 104,
   "metadata": {},
   "outputs": [
    {
     "data": {
      "text/plain": [
       "(array([0, 1, 2, 3, 3, 3, 6, 6, 7, 7]), array([4, 7, 0, 0, 1, 6, 1, 5, 3, 6]))"
      ]
     },
     "execution_count": 104,
     "metadata": {},
     "output_type": "execute_result"
    }
   ],
   "source": [
    "mmmh"
   ]
  },
  {
   "cell_type": "code",
   "execution_count": 107,
   "metadata": {},
   "outputs": [
    {
     "data": {
      "text/plain": [
       "array([ True,  True,  True,  True,  True,  True,  True,  True,  True,\n",
       "        True])"
      ]
     },
     "execution_count": 107,
     "metadata": {},
     "output_type": "execute_result"
    }
   ],
   "source": [
    "a[np.where(check == 1)] == 0"
   ]
  },
  {
   "cell_type": "markdown",
   "metadata": {},
   "source": [
    "## actual test with model"
   ]
  },
  {
   "cell_type": "code",
   "execution_count": 110,
   "metadata": {},
   "outputs": [],
   "source": [
    "a = np.zeros(16)"
   ]
  },
  {
   "cell_type": "code",
   "execution_count": 111,
   "metadata": {},
   "outputs": [
    {
     "data": {
      "text/plain": [
       "array([0., 0., 0., 0., 0., 0., 0., 0., 0., 0., 0., 0., 0., 0., 0., 0.])"
      ]
     },
     "execution_count": 111,
     "metadata": {},
     "output_type": "execute_result"
    }
   ],
   "source": [
    "a"
   ]
  },
  {
   "cell_type": "code",
   "execution_count": 112,
   "metadata": {},
   "outputs": [
    {
     "data": {
      "text/plain": [
       "array([0, 1, 2, 3])"
      ]
     },
     "execution_count": 112,
     "metadata": {},
     "output_type": "execute_result"
    }
   ],
   "source": [
    "a = [0, 1, 2, 3]\n",
    "a = np.array(a)\n",
    "a"
   ]
  },
  {
   "cell_type": "code",
   "execution_count": 113,
   "metadata": {},
   "outputs": [
    {
     "data": {
      "text/plain": [
       "(4,)"
      ]
     },
     "execution_count": 113,
     "metadata": {},
     "output_type": "execute_result"
    }
   ],
   "source": [
    "a.shape"
   ]
  },
  {
   "cell_type": "code",
   "execution_count": 114,
   "metadata": {},
   "outputs": [
    {
     "data": {
      "text/plain": [
       "(16, 224, 224)"
      ]
     },
     "execution_count": 114,
     "metadata": {},
     "output_type": "execute_result"
    }
   ],
   "source": [
    "(16,) + (224,224)"
   ]
  },
  {
   "cell_type": "code",
   "execution_count": 115,
   "metadata": {},
   "outputs": [
    {
     "data": {
      "text/plain": [
       "(16, 1)"
      ]
     },
     "execution_count": 115,
     "metadata": {},
     "output_type": "execute_result"
    }
   ],
   "source": [
    "(16,) + (1,)"
   ]
  },
  {
   "cell_type": "code",
   "execution_count": 116,
   "metadata": {},
   "outputs": [
    {
     "data": {
      "text/plain": [
       "(16,)"
      ]
     },
     "execution_count": 116,
     "metadata": {},
     "output_type": "execute_result"
    }
   ],
   "source": [
    "(16,) + ()"
   ]
  },
  {
   "cell_type": "code",
   "execution_count": 117,
   "metadata": {},
   "outputs": [
    {
     "data": {
      "text/plain": [
       "array([[0],\n",
       "       [1],\n",
       "       [2],\n",
       "       [3]])"
      ]
     },
     "execution_count": 117,
     "metadata": {},
     "output_type": "execute_result"
    }
   ],
   "source": [
    "a.reshape(4, 1)"
   ]
  },
  {
   "cell_type": "code",
   "execution_count": 119,
   "metadata": {},
   "outputs": [
    {
     "data": {
      "text/plain": [
       "numpy.int64"
      ]
     },
     "execution_count": 119,
     "metadata": {},
     "output_type": "execute_result"
    }
   ],
   "source": [
    "type(a[1])"
   ]
  },
  {
   "cell_type": "code",
   "execution_count": 122,
   "metadata": {},
   "outputs": [],
   "source": [
    "a = np.array([0, 1, 1, -1, 0, 1])\n",
    "b = np.array([0, 1, 1, -1, 1, 1])\n",
    "\n",
    "diff = np.where(a != b, b, -2)"
   ]
  },
  {
   "cell_type": "code",
   "execution_count": 123,
   "metadata": {},
   "outputs": [
    {
     "data": {
      "text/plain": [
       "array([-2, -2, -2, -2,  1, -2])"
      ]
     },
     "execution_count": 123,
     "metadata": {},
     "output_type": "execute_result"
    }
   ],
   "source": [
    "diff"
   ]
  },
  {
   "cell_type": "code",
   "execution_count": 125,
   "metadata": {},
   "outputs": [],
   "source": [
    "assert np.all(diff[np.where(diff != -2)] == 1)\n",
    "assert np.all(a[np.where(diff == 1)] == 0)"
   ]
  },
  {
   "cell_type": "code",
   "execution_count": 126,
   "metadata": {},
   "outputs": [
    {
     "data": {
      "text/plain": [
       "{2}"
      ]
     },
     "execution_count": 126,
     "metadata": {},
     "output_type": "execute_result"
    }
   ],
   "source": [
    "set([0, 1, 2]) - set([0, 1])"
   ]
  },
  {
   "cell_type": "markdown",
   "metadata": {},
   "source": [
    "## strategy b"
   ]
  },
  {
   "cell_type": "code",
   "execution_count": 2,
   "metadata": {},
   "outputs": [],
   "source": [
    "import numpy as np"
   ]
  },
  {
   "cell_type": "code",
   "execution_count": 12,
   "metadata": {},
   "outputs": [
    {
     "data": {
      "text/plain": [
       "array([[ 12,  21,  -6,   3,  27,   4, -16,   6,  16, -26],\n",
       "       [-12, -22,  -3,   2,  19, -18, -34, -15, -24, -28],\n",
       "       [ 28,   7,  25,  14,   4,   0,  10, -25, -34,  -1],\n",
       "       [-24, -29,  23,   9,   8, -15,   4, -22,  -4,  20],\n",
       "       [-21, -30,  10, -16,   9,  -6, -24,  14,  11,  13],\n",
       "       [ 28,  26,  12,  21,  -7,  18, -26, -35, -25, -18],\n",
       "       [ -1,  33,  -6, -22,  21,  19, -31,   1, -32,  14],\n",
       "       [-10,  32,  24,  33, -19,  34, -31, -31,  14,  -7]])"
      ]
     },
     "execution_count": 12,
     "metadata": {},
     "output_type": "execute_result"
    }
   ],
   "source": [
    "logits = np.random.randint(-35, +35, (8, 10))\n",
    "\n",
    "logits"
   ]
  },
  {
   "cell_type": "code",
   "execution_count": 6,
   "metadata": {},
   "outputs": [
    {
     "data": {
      "text/plain": [
       "array([[-1.,  1.,  0.,  0.,  0.,  0.,  0.,  0.,  0.,  0.],\n",
       "       [ 0.,  0.,  0.,  1.,  0.,  0., -1.,  0.,  0.,  0.],\n",
       "       [ 1., -1.,  0.,  0.,  0.,  0.,  0.,  0.,  0.,  0.],\n",
       "       [-1.,  0.,  0.,  0.,  0.,  1.,  0.,  1.,  0.,  0.],\n",
       "       [ 0.,  1.,  0.,  0., -1.,  1.,  0.,  0.,  0.,  0.],\n",
       "       [ 0.,  0.,  1.,  0.,  0., -1.,  0.,  0.,  1.,  0.],\n",
       "       [ 1., -1.,  0.,  0.,  0.,  0.,  0.,  0.,  0.,  0.],\n",
       "       [ 0.,  0., -1.,  1.,  1.,  0.,  0.,  0.,  0.,  0.]])"
      ]
     },
     "execution_count": 6,
     "metadata": {},
     "output_type": "execute_result"
    }
   ],
   "source": [
    "y_true = np.zeros((8, 10))\n",
    "y_true[:][:] = 0\n",
    "\n",
    "# put some zeros and some ones\n",
    "for line in y_true:\n",
    "    ones = [np.random.randint(0, len(line) - 1) for i in range(np.random.randint(1, 3))]\n",
    "    minus = [np.random.randint(0, len(line) - 1) for i in range(np.random.randint(1, 3))]\n",
    "    line[ones] = 1\n",
    "    line[minus] = -1\n",
    "    \n",
    "y_true"
   ]
  },
  {
   "cell_type": "code",
   "execution_count": 14,
   "metadata": {},
   "outputs": [],
   "source": [
    "# the goal is to take the 80% best absolute values\n",
    "relevant_sk = np.where((y_true == 0), np.abs(logits), 0)\n",
    "sorted_indexes = np.argsort(relevant_sk, axis=None)   # the indexes are flattened\n",
    "sorted_values = [relevant_sk[i // 10][i % 10] for i in sorted_indexes]\n"
   ]
  },
  {
   "cell_type": "code",
   "execution_count": 15,
   "metadata": {},
   "outputs": [
    {
     "name": "stdout",
     "output_type": "stream",
     "text": [
      "[[ 0  0  6  3 27  4 16  6 16 26]\n",
      " [12 22  3  0 19 18  0 15 24 28]\n",
      " [ 0  0 25 14  4  0 10 25 34  1]\n",
      " [ 0 29 23  9  8  0  4  0  4 20]\n",
      " [21  0 10 16  0  0 24 14 11 13]\n",
      " [28 26  0 21  7  0 26 35  0 18]\n",
      " [ 0  0  6 22 21 19 31  1 32 14]\n",
      " [10 32  0  0  0 34 31 31 14  7]]\n",
      "[ 0 30 37 41 25 44 45 21 20 52 55 58 60 16 35 61  1 72 74 73 13 29 67  3\n",
      " 12 38 36 24  5  7  2 62 54 79 34 33 70 26 42 48 10 49 69 78 47 23 17  8\n",
      "  6 43 59 15 65 14 39 53 40 64 11 63 32 18 46 27 22  9 51 56  4 19 50 31\n",
      " 66 76 77 68 71 28 75 57]\n",
      "[0, 0, 0, 0, 0, 0, 0, 0, 0, 0, 0, 0, 0, 0, 0, 0, 0, 0, 0, 0, 0, 1, 1, 3, 3, 4, 4, 4, 4, 6, 6, 6, 7, 7, 8, 9, 10, 10, 10, 11, 12, 13, 14, 14, 14, 14, 15, 16, 16, 16, 18, 18, 19, 19, 20, 21, 21, 21, 22, 22, 23, 24, 24, 25, 25, 26, 26, 26, 27, 28, 28, 29, 31, 31, 31, 32, 32, 34, 34, 35]\n"
     ]
    }
   ],
   "source": [
    "print(relevant_sk)\n",
    "print(sorted_indexes)\n",
    "print(sorted_values)"
   ]
  },
  {
   "cell_type": "code",
   "execution_count": 17,
   "metadata": {},
   "outputs": [
    {
     "name": "stdout",
     "output_type": "stream",
     "text": [
      "[[-1.  1.  0.  0.  1.  0. -1.  0.  1. -1.]\n",
      " [-1. -1.  0.  1.  1. -1. -1. -1. -1. -1.]\n",
      " [ 1. -1.  1.  1.  0.  0.  1. -1. -1.  0.]\n",
      " [-1. -1.  1.  1.  1.  1.  0.  1.  0.  1.]\n",
      " [-1.  1.  1. -1. -1.  1. -1.  1.  1.  1.]\n",
      " [ 1.  1.  1.  1.  0. -1. -1. -1.  1. -1.]\n",
      " [ 1. -1.  0. -1.  1.  1. -1.  0. -1.  1.]\n",
      " [-1.  1. -1.  1.  1.  1. -1. -1.  1. -1.]]\n"
     ]
    }
   ],
   "source": [
    "relabel_batch = np.copy(y_true)\n",
    "\n",
    "# take the best values and find corresponding indexes\n",
    "nb_ok_indexes = int((np.count_nonzero(sorted_values)) * 0.80)\n",
    "final_indexes = [(i // 10, i % 10) for i in sorted_indexes[len(sorted_values) - nb_ok_indexes: len(sorted_values)]]\n",
    "\n",
    "# put the selected values as 1 in the relabel batch\n",
    "xs = [elt[0] for elt in final_indexes]\n",
    "ys = [elt[1] for elt in final_indexes]\n",
    "relabel_batch[(xs, ys)] = np.sign(logits[(xs, ys)])\n",
    "\n",
    "print(relabel_batch)"
   ]
  },
  {
   "cell_type": "code",
   "execution_count": null,
   "metadata": {},
   "outputs": [],
   "source": []
  }
 ],
 "metadata": {
  "kernelspec": {
   "display_name": "Python 3",
   "language": "python",
   "name": "python3"
  },
  "language_info": {
   "codemirror_mode": {
    "name": "ipython",
    "version": 3
   },
   "file_extension": ".py",
   "mimetype": "text/x-python",
   "name": "python",
   "nbconvert_exporter": "python",
   "pygments_lexer": "ipython3",
   "version": "3.6.5"
  }
 },
 "nbformat": 4,
 "nbformat_minor": 2
}
