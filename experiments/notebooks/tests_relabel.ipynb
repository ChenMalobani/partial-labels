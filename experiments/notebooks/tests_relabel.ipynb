{
 "cells": [
  {
   "cell_type": "code",
   "execution_count": 23,
   "metadata": {},
   "outputs": [],
   "source": [
    "import os\n",
    "import yaml"
   ]
  },
  {
   "cell_type": "code",
   "execution_count": 2,
   "metadata": {},
   "outputs": [],
   "source": [
    "from pprint import pprint"
   ]
  },
  {
   "cell_type": "code",
   "execution_count": 3,
   "metadata": {},
   "outputs": [],
   "source": [
    "from config.config_utils import dict_recursive_update\n",
    "from config.config import cfg\n",
    "\n",
    "from easydict import EasyDict as edict"
   ]
  },
  {
   "cell_type": "code",
   "execution_count": 18,
   "metadata": {},
   "outputs": [
    {
     "name": "stderr",
     "output_type": "stream",
     "text": [
      "Using TensorFlow backend.\n"
     ]
    }
   ],
   "source": [
    "from data.pascalvoc.pascalvoc import PascalVOC"
   ]
  },
  {
   "cell_type": "code",
   "execution_count": 26,
   "metadata": {},
   "outputs": [],
   "source": [
    "from model.networks.baseline import Baseline"
   ]
  },
  {
   "cell_type": "code",
   "execution_count": 31,
   "metadata": {},
   "outputs": [],
   "source": [
    "from model.callbacks.metric_callbacks import MAPCallback\n",
    "from model.callbacks.save_callback import SaveModel\n",
    "from model.callbacks.scheduler import lr_scheduler\n",
    "from model.callbacks.relabeling_callback import RelabelCallback"
   ]
  },
  {
   "cell_type": "markdown",
   "metadata": {},
   "source": [
    "## debug config"
   ]
  },
  {
   "cell_type": "code",
   "execution_count": 4,
   "metadata": {},
   "outputs": [],
   "source": [
    "config_path = '/home/caleml/partial-labels/config/pv_baseline50_sgd_448lrs.yaml'\n",
    "with open(config_path, 'r') as f_in:\n",
    "    options = yaml.safe_load(f_in)"
   ]
  },
  {
   "cell_type": "code",
   "execution_count": 5,
   "metadata": {},
   "outputs": [
    {
     "data": {
      "text/plain": [
       "{'archi': {'classifier': 'resnet50', 'loss': 'bce', 'name': 'baseline'},\n",
       " 'batch_size': 16,\n",
       " 'callbacks': {'lr_factor': 0.1, 'lr_trigger': [10]},\n",
       " 'dataset': {'name': 'pascalvoc',\n",
       "  'path': '/home/caleml/datasets/pascalvoc/VOCdevkit/VOC2007/',\n",
       "  'test': 'test',\n",
       "  'train': 'trainval'},\n",
       " 'image': {'img_size': 448},\n",
       " 'training': {'n_epochs': 20, 'optimizer': 'sgd', 'start_lr': 0.01}}"
      ]
     },
     "execution_count": 5,
     "metadata": {},
     "output_type": "execute_result"
    }
   ],
   "source": [
    "options"
   ]
  },
  {
   "cell_type": "code",
   "execution_count": 6,
   "metadata": {},
   "outputs": [
    {
     "name": "stdout",
     "output_type": "stream",
     "text": [
      "{'BATCH_SIZE': 32,\n",
      " 'CALLBACK': {'LR_FACTOR': 0.1,\n",
      "              'LR_TRIGGER': [],\n",
      "              'MIN_DELTA': 0.0,\n",
      "              'PATIENCE': 10,\n",
      "              'PATIENCE_LR': 2,\n",
      "              'TENSORBOARD': {'SAVE_GRAPH': True, 'USE_TENSORBOARD': False}},\n",
      " 'DATAAUGMENTATION': {'DEFAULT_DICT': {'horizontal_flip': True}},\n",
      " 'DATASET': {'SHUFFLE': True},\n",
      " 'DEBUG': {'IS_TEST': False},\n",
      " 'EPSILON': 1e-07,\n",
      " 'IMAGE': {'IMG_SIZE': 448, 'N_CHANNELS': 3},\n",
      " 'MULTIP': {'MAX_QUEUE_SIZE': 10, 'N_WORKERS': 2, 'USE_MULTIPROCESS': False},\n",
      " 'RANDOM_SEED': 1,\n",
      " 'TRAINING': {'OPTIMIZER': 'adam', 'START_LR': 0.0001},\n",
      " 'VERBOSE': True}\n"
     ]
    }
   ],
   "source": [
    "pprint(cfg)\n",
    "old_cfg = cfg"
   ]
  },
  {
   "cell_type": "code",
   "execution_count": 7,
   "metadata": {},
   "outputs": [
    {
     "data": {
      "text/plain": [
       "{'ARCHI': {'CLASSIFIER': 'resnet50', 'LOSS': 'bce', 'NAME': 'baseline'},\n",
       " 'BATCH_SIZE': 16,\n",
       " 'CALLBACK': {'LR_FACTOR': 0.1,\n",
       "  'LR_TRIGGER': [],\n",
       "  'MIN_DELTA': 0.0,\n",
       "  'PATIENCE': 10,\n",
       "  'PATIENCE_LR': 2,\n",
       "  'TENSORBOARD': {'SAVE_GRAPH': True, 'USE_TENSORBOARD': False}},\n",
       " 'CALLBACKS': {'LR_FACTOR': 0.1, 'LR_TRIGGER': [10]},\n",
       " 'DATAAUGMENTATION': {'DEFAULT_DICT': {'horizontal_flip': True}},\n",
       " 'DATASET': {'NAME': 'pascalvoc',\n",
       "  'PATH': '/home/caleml/datasets/pascalvoc/VOCdevkit/VOC2007/',\n",
       "  'SHUFFLE': True,\n",
       "  'TEST': 'test',\n",
       "  'TRAIN': 'trainval'},\n",
       " 'DEBUG': {'IS_TEST': False},\n",
       " 'EPSILON': 1e-07,\n",
       " 'IMAGE': {'IMG_SIZE': 448, 'N_CHANNELS': 3},\n",
       " 'MULTIP': {'MAX_QUEUE_SIZE': 10, 'N_WORKERS': 2, 'USE_MULTIPROCESS': False},\n",
       " 'RANDOM_SEED': 1,\n",
       " 'TRAINING': {'N_EPOCHS': 20, 'OPTIMIZER': 'sgd', 'START_LR': 0.01},\n",
       " 'VERBOSE': True}"
      ]
     },
     "execution_count": 7,
     "metadata": {},
     "output_type": "execute_result"
    }
   ],
   "source": [
    "new_config = edict(options)\n",
    "dict_recursive_update(cfg, new_config)"
   ]
  },
  {
   "cell_type": "code",
   "execution_count": 8,
   "metadata": {},
   "outputs": [
    {
     "name": "stdout",
     "output_type": "stream",
     "text": [
      "{'ARCHI': {'CLASSIFIER': 'resnet50', 'LOSS': 'bce', 'NAME': 'baseline'},\n",
      " 'BATCH_SIZE': 16,\n",
      " 'CALLBACK': {'LR_FACTOR': 0.1,\n",
      "              'LR_TRIGGER': [],\n",
      "              'MIN_DELTA': 0.0,\n",
      "              'PATIENCE': 10,\n",
      "              'PATIENCE_LR': 2,\n",
      "              'TENSORBOARD': {'SAVE_GRAPH': True, 'USE_TENSORBOARD': False}},\n",
      " 'CALLBACKS': {'LR_FACTOR': 0.1, 'LR_TRIGGER': [10]},\n",
      " 'DATAAUGMENTATION': {'DEFAULT_DICT': {'horizontal_flip': True}},\n",
      " 'DATASET': {'NAME': 'pascalvoc',\n",
      "             'PATH': '/home/caleml/datasets/pascalvoc/VOCdevkit/VOC2007/',\n",
      "             'SHUFFLE': True,\n",
      "             'TEST': 'test',\n",
      "             'TRAIN': 'trainval'},\n",
      " 'DEBUG': {'IS_TEST': False},\n",
      " 'EPSILON': 1e-07,\n",
      " 'IMAGE': {'IMG_SIZE': 448, 'N_CHANNELS': 3},\n",
      " 'MULTIP': {'MAX_QUEUE_SIZE': 10, 'N_WORKERS': 2, 'USE_MULTIPROCESS': False},\n",
      " 'RANDOM_SEED': 1,\n",
      " 'TRAINING': {'N_EPOCHS': 20, 'OPTIMIZER': 'sgd', 'START_LR': 0.01},\n",
      " 'VERBOSE': True}\n"
     ]
    }
   ],
   "source": [
    "pprint(cfg)\n",
    "new_cfg = cfg"
   ]
  },
  {
   "cell_type": "code",
   "execution_count": 11,
   "metadata": {},
   "outputs": [],
   "source": [
    "# save config\n",
    "config_path = '/home/caleml/config_test.yaml'\n",
    "with open(config_path, 'w+') as f_conf:\n",
    "    yaml.dump(new_cfg, f_conf)"
   ]
  },
  {
   "cell_type": "code",
   "execution_count": 15,
   "metadata": {},
   "outputs": [],
   "source": [
    "# load config\n",
    "config_path = '/home/caleml/config_test.yaml'\n",
    "with open(config_path, 'r') as f_in:\n",
    "    loaded_conf = yaml.load(f_in)"
   ]
  },
  {
   "cell_type": "code",
   "execution_count": 16,
   "metadata": {},
   "outputs": [
    {
     "name": "stdout",
     "output_type": "stream",
     "text": [
      "{'ARCHI': {'CLASSIFIER': 'resnet50', 'LOSS': 'bce', 'NAME': 'baseline'},\n",
      " 'BATCH_SIZE': 16,\n",
      " 'CALLBACK': {'LR_FACTOR': 0.1,\n",
      "              'LR_TRIGGER': [],\n",
      "              'MIN_DELTA': 0.0,\n",
      "              'PATIENCE': 10,\n",
      "              'PATIENCE_LR': 2,\n",
      "              'TENSORBOARD': {'SAVE_GRAPH': True, 'USE_TENSORBOARD': False}},\n",
      " 'CALLBACKS': {'LR_FACTOR': 0.1, 'LR_TRIGGER': [10]},\n",
      " 'DATAAUGMENTATION': {'DEFAULT_DICT': {'horizontal_flip': True}},\n",
      " 'DATASET': {'NAME': 'pascalvoc',\n",
      "             'PATH': '/home/caleml/datasets/pascalvoc/VOCdevkit/VOC2007/',\n",
      "             'SHUFFLE': True,\n",
      "             'TEST': 'test',\n",
      "             'TRAIN': 'trainval'},\n",
      " 'DEBUG': {'IS_TEST': False},\n",
      " 'EPSILON': 1e-07,\n",
      " 'IMAGE': {'IMG_SIZE': 448, 'N_CHANNELS': 3},\n",
      " 'MULTIP': {'MAX_QUEUE_SIZE': 10, 'N_WORKERS': 2, 'USE_MULTIPROCESS': False},\n",
      " 'RANDOM_SEED': 1,\n",
      " 'TRAINING': {'N_EPOCHS': 20, 'OPTIMIZER': 'sgd', 'START_LR': 0.01},\n",
      " 'VERBOSE': True}\n"
     ]
    }
   ],
   "source": [
    "pprint(loaded_conf)"
   ]
  },
  {
   "cell_type": "markdown",
   "metadata": {},
   "source": [
    "## Tests pascalVOC"
   ]
  },
  {
   "cell_type": "code",
   "execution_count": 20,
   "metadata": {},
   "outputs": [],
   "source": [
    "prop = 100"
   ]
  },
  {
   "cell_type": "code",
   "execution_count": 21,
   "metadata": {},
   "outputs": [],
   "source": [
    "data_dir = '/home/caleml/datasets/pascalvoc/VOCdevkit/VOC2007/'\n",
    "dataset_train = PascalVOC(data_dir, 16, 'trainval', x_keys=['image'], y_keys=['multilabel'], p=prop)"
   ]
  },
  {
   "cell_type": "code",
   "execution_count": 24,
   "metadata": {},
   "outputs": [],
   "source": [
    "exp_folder = '/home/caleml/partial_experiments/exp_20190903_1123_TESTNB'\n",
    "os.makedirs(exp_folder, exist_ok=True)"
   ]
  },
  {
   "cell_type": "code",
   "execution_count": 27,
   "metadata": {},
   "outputs": [
    {
     "name": "stdout",
     "output_type": "stream",
     "text": [
      "Init input_shape (448, 448, 3)\n",
      "Loading options\n",
      "\n",
      "========================\n",
      "Loaded config\n",
      "\n",
      "{'archi': {'classifier': 'resnet50', 'loss': 'bce', 'name': 'baseline'},\n",
      " 'batch_size': 16,\n",
      " 'dataset': {'name': 'pascalvoc',\n",
      "             'path': '/home/caleml/datasets/pascalvoc/VOCdevkit/VOC2007/',\n",
      "             'test': 'test',\n",
      "             'train': 'trainval'},\n",
      " 'image': {'img_size': 448},\n",
      " 'training': {'n_epochs': 20, 'optimizer': 'sgd', 'start_lr': 0.01}}\n",
      "========================\n",
      "\n"
     ]
    },
    {
     "name": "stderr",
     "output_type": "stream",
     "text": [
      "/home/caleml/.local/lib/python3.4/site-packages/keras_applications/resnet50.py:265: UserWarning: The output shape of `ResNet50(include_top=False)` has been changed since Keras 2.2.0.\n",
      "  warnings.warn('The output shape of `ResNet50(include_top=False)` '\n"
     ]
    },
    {
     "name": "stdout",
     "output_type": "stream",
     "text": [
      "\u001b[95mOutputs shape (None, 20)\u001b[0m\n",
      "\u001b[95mFinal model summary\u001b[0m\n",
      "_________________________________________________________________\n",
      "Layer (type)                 Output Shape              Param #   \n",
      "=================================================================\n",
      "image_input (InputLayer)     (None, 448, 448, 3)       0         \n",
      "_________________________________________________________________\n",
      "cls_model (Model)            (None, 14, 14, 2048)      23587712  \n",
      "_________________________________________________________________\n",
      "global_average_pooling2d (Gl (None, 2048)              0         \n",
      "_________________________________________________________________\n",
      "dense (Dense)                (None, 20)                40980     \n",
      "=================================================================\n",
      "Total params: 23,628,692\n",
      "Trainable params: 23,575,572\n",
      "Non-trainable params: 53,120\n",
      "_________________________________________________________________\n"
     ]
    }
   ],
   "source": [
    "model = Baseline(exp_folder, dataset_train.nb_classes, prop)\n",
    "model.load_config('pv_relabel')\n",
    "model.build()"
   ]
  },
  {
   "cell_type": "code",
   "execution_count": null,
   "metadata": {},
   "outputs": [],
   "source": [
    "# callbacks\n",
    "from model.callbacks.relabeling_callback import RelabelCallback\n",
    "cb_list = list()\n",
    "\n",
    "map_cb = MAPCallback(X_test, Y_test, exp_folder, prop)\n",
    "cb_list.append(map_cb)\n",
    "cb_list.append(SaveModel(exp_folder, prop))\n",
    "\n",
    "relabel_cb = RelabelCallback(dataset_train, exp_folder, 'kl', prop)\n",
    "cb_list.append(relabel_cb)"
   ]
  },
  {
   "cell_type": "code",
   "execution_count": 32,
   "metadata": {},
   "outputs": [
    {
     "data": {
      "text/plain": [
       "'a1'"
      ]
     },
     "execution_count": 32,
     "metadata": {},
     "output_type": "execute_result"
    }
   ],
   "source": [
    "a = 'animal'\n",
    "'%s1' % a[0]"
   ]
  },
  {
   "cell_type": "code",
   "execution_count": null,
   "metadata": {},
   "outputs": [],
   "source": []
  }
 ],
 "metadata": {
  "kernelspec": {
   "display_name": "Python 3",
   "language": "python",
   "name": "python3"
  },
  "language_info": {
   "codemirror_mode": {
    "name": "ipython",
    "version": 3
   },
   "file_extension": ".py",
   "mimetype": "text/x-python",
   "name": "python",
   "nbconvert_exporter": "python",
   "pygments_lexer": "ipython3",
   "version": "3.4.6"
  }
 },
 "nbformat": 4,
 "nbformat_minor": 2
}
