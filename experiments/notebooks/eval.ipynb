{
 "cells": [
  {
   "cell_type": "code",
   "execution_count": 3,
   "metadata": {},
   "outputs": [],
   "source": [
    "%load_ext autoreload\n",
    "%autoreload 2"
   ]
  },
  {
   "cell_type": "code",
   "execution_count": 3,
   "metadata": {},
   "outputs": [
    {
     "name": "stdout",
     "output_type": "stream",
     "text": [
      "['', '/home/caleml/partial-labels/experiments/notebooks', '/home/caleml/partial-labels', '/usr/lib/python34.zip', '/usr/lib64/python3.4', '/usr/lib64/python3.4/plat-linux', '/usr/lib64/python3.4/lib-dynload', '/home/caleml/.local/lib/python3.4/site-packages', '/usr/lib64/python3.4/site-packages', '/usr/lib64/python3.4/_import_failed', '/usr/lib/python3.4/site-packages', '/usr/lib/python3.4/site-packages/IPython/extensions', '/home/caleml/.ipython']\n"
     ]
    }
   ],
   "source": [
    "import os\n",
    "import sys\n",
    "\n",
    "print(sys.path)"
   ]
  },
  {
   "cell_type": "code",
   "execution_count": 5,
   "metadata": {},
   "outputs": [],
   "source": [
    "import numpy as np\n",
    "import tensorflow as tf"
   ]
  },
  {
   "cell_type": "code",
   "execution_count": 6,
   "metadata": {},
   "outputs": [],
   "source": [
    "from data.pascalvoc.pascalvoc import PascalVOC, NB_CLASSES"
   ]
  },
  {
   "cell_type": "code",
   "execution_count": 7,
   "metadata": {},
   "outputs": [],
   "source": [
    "from model.networks.baseline import Baseline\n",
    "from model import metrics"
   ]
  },
  {
   "cell_type": "code",
   "execution_count": 8,
   "metadata": {},
   "outputs": [
    {
     "data": {
      "text/plain": [
       "'0.20.2'"
      ]
     },
     "execution_count": 8,
     "metadata": {},
     "output_type": "execute_result"
    }
   ],
   "source": [
    "import sklearn\n",
    "sklearn.__version__"
   ]
  },
  {
   "cell_type": "code",
   "execution_count": 9,
   "metadata": {},
   "outputs": [],
   "source": [
    "from experiments.launch import parse_options_file\n",
    "from config import config_utils"
   ]
  },
  {
   "cell_type": "markdown",
   "metadata": {},
   "source": [
    "## val dataset"
   ]
  },
  {
   "cell_type": "code",
   "execution_count": 7,
   "metadata": {},
   "outputs": [
    {
     "name": "stdout",
     "output_type": "stream",
     "text": [
      "1\n"
     ]
    }
   ],
   "source": [
    "dataset_path = '/share/DEEPLEARNING/datasets/pascalvoc/'\n",
    "dataset_val = PascalVOC(dataset_path, 2510, 'val', x_keys=['image'], y_keys=['multilabel'])\n",
    "print(len(dataset_val))"
   ]
  },
  {
   "cell_type": "code",
   "execution_count": 8,
   "metadata": {},
   "outputs": [],
   "source": [
    "x_val, y_val = dataset_val[0]"
   ]
  },
  {
   "cell_type": "markdown",
   "metadata": {},
   "source": [
    "## eval"
   ]
  },
  {
   "cell_type": "code",
   "execution_count": 9,
   "metadata": {},
   "outputs": [],
   "source": []
  },
  {
   "cell_type": "code",
   "execution_count": 26,
   "metadata": {},
   "outputs": [],
   "source": [
    "# partial_folder = '/home/caleml/partial_experiments/exp_20190624_1613_baseline'\n",
    "partial_folder = '/home/caleml/partial_experiments/exp_20190627_1641_baseline'\n",
    "model_weights = {\n",
    "    # 'model_10': os.path.join(partial_folder, 'weights_10_006.h5'),\n",
    "    # 'model_20': os.path.join(partial_folder, 'weights_20_020.h5'),\n",
    "    # 'model_30': os.path.join(partial_folder, 'weights_30_003.h5'),\n",
    "    'model_100': '/home/caleml/partial_experiments/exp_20190621_1834_baseline/weights_007.h5'\n",
    "}"
   ]
  },
  {
   "cell_type": "code",
   "execution_count": 27,
   "metadata": {},
   "outputs": [
    {
     "name": "stdout",
     "output_type": "stream",
     "text": [
      "\n",
      "========================\n",
      "Loaded config\n",
      "\n",
      "{'archi': {'classifier': 'resnet101', 'loss': 'bce', 'name': 'baseline'},\n",
      " 'batch_size': 8,\n",
      " 'dataset': {'name': 'pascalvoc',\n",
      "             'path': '/share/DEEPLEARNING/datasets/pascalvoc/'},\n",
      " 'training': {'n_epochs': 20}}\n",
      "========================\n",
      "\n"
     ]
    }
   ],
   "source": [
    "# config loading\n",
    "# conf = parse_options_file(os.path.join(partial_folder, 'config.yaml'))\n",
    "conf = parse_options_file('/home/caleml/partial-labels/config/baseline101.yaml')\n",
    "config_utils.update_config(conf)"
   ]
  },
  {
   "cell_type": "code",
   "execution_count": 28,
   "metadata": {},
   "outputs": [
    {
     "name": "stdout",
     "output_type": "stream",
     "text": [
      "Doing model model_100\n",
      "\u001b[95mOutputs shape (None, 20)\u001b[0m\n",
      "\u001b[95mFinal model summary\u001b[0m\n",
      "_________________________________________________________________\n",
      "Layer (type)                 Output Shape              Param #   \n",
      "=================================================================\n",
      "image_input (InputLayer)     (None, 448, 448, 3)       0         \n",
      "_________________________________________________________________\n",
      "cls_model (Model)            (None, 14, 14, 2048)      42658176  \n",
      "_________________________________________________________________\n",
      "flatten_5 (Flatten)          (None, 401408)            0         \n",
      "_________________________________________________________________\n",
      "dense_5 (Dense)              (None, 20)                8028180   \n",
      "=================================================================\n",
      "Total params: 50,686,356\n",
      "Trainable params: 50,581,012\n",
      "Non-trainable params: 105,344\n",
      "_________________________________________________________________\n",
      "y pred example [0.05703787 0.03876966 0.06486665 0.02170656 0.06401902 0.03992372\n",
      " 0.23413308 0.05507912 0.07292669 0.02245397 0.03004029 0.11245652\n",
      " 0.06244062 0.03530599 0.33977216 0.0383029  0.01283756 0.03870221\n",
      " 0.05472664 0.05308483]\n",
      "[0.054614510476001646, 0.0588444803777182, 0.06372964511061892, 0.0431100235677734, 0.04753478375522382, 0.036771822853698906, 0.13831597779648658, 0.07529499799022593, 0.10406580275783207, 0.030271158386558215, 0.046985906023250534, 0.08744528355984993, 0.0661751340858725, 0.05411210966602504, 0.41507178250318094, 0.04778536214555666, 0.033092313975561866, 0.05054564860422563, 0.059408601344953404, 0.057780391690422726]\n",
      "map2 0.07854778683355185\n",
      "type true <class 'numpy.ndarray'>, type pred <class 'numpy.ndarray'>\n",
      "ap scores for model_100: [0.0501992  0.05059761 0.05976096 0.03984064 0.04183267 0.03545817\n",
      " 0.13426295 0.06932271 0.08804781 0.02868526 0.04103586 0.08685259\n",
      " 0.05896414 0.0498008  0.39163347 0.04462151 0.01912351 0.04701195\n",
      " 0.05338645 0.05099602]\n",
      "model_100: 0.07207171314741037\n"
     ]
    }
   ],
   "source": [
    "# eval loop\n",
    "\n",
    "for model_name, model_path in model_weights.items():\n",
    "    print('Doing model %s' % model_name)  \n",
    "    model = Baseline(None, NB_CLASSES)\n",
    "    model.load_weights(model_path)\n",
    "    \n",
    "    y_pred = model.predict(x_val)\n",
    "    print('y pred example %s' % str(y_pred[0]))\n",
    "    \n",
    "    map_metric = metrics.MAP()\n",
    "    map_2 = metrics.calculate_map(y_val[0], y_pred)\n",
    "    print('map2 %s' % map_2)\n",
    "    ap_scores = map_metric.compute_separated(y_val[0], y_pred)\n",
    "    # ap_scores = map_metric.compute_separated(y_pred, y_val[0])\n",
    "    print('ap scores for %s: %s' % (model_name, str(ap_scores)))\n",
    "    map_score = sum(ap_scores) / len(ap_scores)\n",
    "\n",
    "    print('%s: %s' % (model_name, map_score))"
   ]
  },
  {
   "cell_type": "code",
   "execution_count": null,
   "metadata": {},
   "outputs": [],
   "source": [
    "# print(y_val)\n",
    "print(type(y_val[0]))\n",
    "print(y_val[0].shape)\n",
    "print(y_pred_100.shape)\n",
    "\n",
    "print(y_pred_100[-1])\n",
    "print(y_pred_100[2])\n",
    "\n",
    "print(y_pred_10[-1])\n",
    "print(y_pred_10[2])\n",
    "\n",
    "print(y_pred_20[-1])\n",
    "print(y_pred_20[2])"
   ]
  },
  {
   "cell_type": "code",
   "execution_count": 20,
   "metadata": {},
   "outputs": [
    {
     "name": "stdout",
     "output_type": "stream",
     "text": [
      "[0. 0. 0. 0. 0. 0. 0. 0. 1. 0. 0. 0. 0. 0. 0. 0. 0. 0. 0. 0.]\n"
     ]
    }
   ],
   "source": [
    "print(y_val[0][0])"
   ]
  },
  {
   "cell_type": "markdown",
   "metadata": {},
   "source": [
    "## plot mAP"
   ]
  },
  {
   "cell_type": "code",
   "execution_count": 10,
   "metadata": {},
   "outputs": [],
   "source": [
    "folder = '%s/partial_experiments/exp_20190628_0305_TEST_script' % os.environ['HOME']"
   ]
  },
  {
   "cell_type": "code",
   "execution_count": 13,
   "metadata": {},
   "outputs": [],
   "source": [
    "from pprint import pprint"
   ]
  },
  {
   "cell_type": "code",
   "execution_count": 14,
   "metadata": {},
   "outputs": [
    {
     "name": "stdout",
     "output_type": "stream",
     "text": [
      "{10: ['0.082854',\n",
      "      '0.090330',\n",
      "      '0.077200',\n",
      "      '0.074622',\n",
      "      '0.086840',\n",
      "      '0.087163',\n",
      "      '0.099346',\n",
      "      '0.103206',\n",
      "      '0.097967',\n",
      "      '0.098725',\n",
      "      '0.094966',\n",
      "      '0.106462',\n",
      "      '0.092181',\n",
      "      '0.100632',\n",
      "      '0.104738',\n",
      "      '0.093290',\n",
      "      '0.098259',\n",
      "      '0.089205',\n",
      "      '0.089280',\n",
      "      '0.094230'],\n",
      " 20: ['0.079084',\n",
      "      '0.129775',\n",
      "      '0.082999',\n",
      "      '0.147525',\n",
      "      '0.151059',\n",
      "      '0.138826',\n",
      "      '0.133107',\n",
      "      '0.140380',\n",
      "      '0.144374',\n",
      "      '0.153689',\n",
      "      '0.155001',\n",
      "      '0.122372',\n",
      "      '0.149584',\n",
      "      '0.151518',\n",
      "      '0.144176',\n",
      "      '0.154426',\n",
      "      '0.152721',\n",
      "      '0.155205',\n",
      "      '0.135074',\n",
      "      '0.154221'],\n",
      " 30: ['0.081828',\n",
      "      '0.269140',\n",
      "      '0.193136',\n",
      "      '0.278663',\n",
      "      '0.274600',\n",
      "      '0.082818',\n",
      "      '0.234682',\n",
      "      '0.284238',\n",
      "      '0.186499',\n",
      "      '0.208869',\n",
      "      '0.261126',\n",
      "      '0.302739',\n",
      "      '0.307479',\n",
      "      '0.296791',\n",
      "      '0.314388',\n",
      "      '0.314517',\n",
      "      '0.306071',\n",
      "      '0.313718',\n",
      "      '0.240694',\n",
      "      '0.256436'],\n",
      " 40: ['0.080835',\n",
      "      '0.076501',\n",
      "      '0.148357',\n",
      "      '0.096906',\n",
      "      '0.199956',\n",
      "      '0.093101',\n",
      "      '0.248151',\n",
      "      '0.268222',\n",
      "      '0.273415',\n",
      "      '0.213425',\n",
      "      '0.172426',\n",
      "      '0.214051',\n",
      "      '0.179610',\n",
      "      '0.201688',\n",
      "      '0.237327',\n",
      "      '0.245189',\n",
      "      '0.249791',\n",
      "      '0.252994',\n",
      "      '0.253844',\n",
      "      '0.255101'],\n",
      " 50: ['0.104236',\n",
      "      '0.156046',\n",
      "      '0.454163',\n",
      "      '0.291000',\n",
      "      '0.537763',\n",
      "      '0.551713',\n",
      "      '0.555184',\n",
      "      '0.562560',\n",
      "      '0.568390',\n",
      "      '0.569639',\n",
      "      '0.571236',\n",
      "      '0.573473',\n",
      "      '0.572554',\n",
      "      '0.574730',\n",
      "      '0.575417',\n",
      "      '0.576600',\n",
      "      '0.577606',\n",
      "      '0.579196',\n",
      "      '0.579168',\n",
      "      '0.578884'],\n",
      " 60: ['0.316033',\n",
      "      '0.204845',\n",
      "      '0.127441',\n",
      "      '0.073383',\n",
      "      '0.484320',\n",
      "      '0.124425',\n",
      "      '0.079245',\n",
      "      '0.369611',\n",
      "      '0.530078',\n",
      "      '0.534413',\n",
      "      '0.539459',\n",
      "      '0.547688',\n",
      "      '0.547489',\n",
      "      '0.548405',\n",
      "      '0.550030',\n",
      "      '0.551765',\n",
      "      '0.539097',\n",
      "      '0.551173',\n",
      "      '0.552540',\n",
      "      '0.552242'],\n",
      " 70: ['0.169629',\n",
      "      '0.109198',\n",
      "      '0.388010',\n",
      "      '0.629578',\n",
      "      '0.650723',\n",
      "      '0.648652',\n",
      "      '0.650337',\n",
      "      '0.658462',\n",
      "      '0.662576',\n",
      "      '0.663817',\n",
      "      '0.666271',\n",
      "      '0.667026',\n",
      "      '0.665829',\n",
      "      '0.665549',\n",
      "      '0.665749',\n",
      "      '0.670413',\n",
      "      '0.669417',\n",
      "      '0.670411',\n",
      "      '0.671900',\n",
      "      '0.672522'],\n",
      " 80: ['0.551235',\n",
      "      '0.666901',\n",
      "      '0.673174',\n",
      "      '0.587685',\n",
      "      '0.720591',\n",
      "      '0.740626',\n",
      "      '0.745287',\n",
      "      '0.750179',\n",
      "      '0.750407',\n",
      "      '0.752088',\n",
      "      '0.752927',\n",
      "      '0.754657',\n",
      "      '0.755540',\n",
      "      '0.756251',\n",
      "      '0.756427',\n",
      "      '0.757810',\n",
      "      '0.758669',\n",
      "      '0.759193',\n",
      "      '0.759033',\n",
      "      '0.759748'],\n",
      " 90: ['0.175930',\n",
      "      '0.339854',\n",
      "      '0.579708',\n",
      "      '0.614886',\n",
      "      '0.636796',\n",
      "      '0.648643',\n",
      "      '0.654232',\n",
      "      '0.657306',\n",
      "      '0.660862',\n",
      "      '0.660949',\n",
      "      '0.662306',\n",
      "      '0.664611',\n",
      "      '0.665533',\n",
      "      '0.665272',\n",
      "      '0.668458',\n",
      "      '0.669367',\n",
      "      '0.669645',\n",
      "      '0.670062',\n",
      "      '0.670021',\n",
      "      '0.669802']}\n"
     ]
    }
   ],
   "source": [
    "maps = dict()\n",
    "exp_pct = 0\n",
    "exp_maps = None\n",
    "\n",
    "with open(os.path.join(folder, 'map.csv'), 'r') as f_in:\n",
    "    for line in f_in:\n",
    "        parts = line.split(',')\n",
    "        epoch = parts[0]\n",
    "        mAP = parts[1]\n",
    "        \n",
    "        if int(epoch) == 0:\n",
    "            if exp_maps is not None:\n",
    "                maps[exp_pct] = exp_maps\n",
    "            \n",
    "            exp_pct += 10\n",
    "            exp_maps = list()\n",
    "        \n",
    "        exp_maps.append(mAP)\n",
    "        \n",
    "pprint(maps)\n",
    "            \n",
    "            \n",
    "            \n",
    "        "
   ]
  },
  {
   "cell_type": "code",
   "execution_count": 15,
   "metadata": {},
   "outputs": [],
   "source": [
    "mAP_100 = 0.69"
   ]
  },
  {
   "cell_type": "code",
   "execution_count": 14,
   "metadata": {},
   "outputs": [],
   "source": [
    "import matplotlib\n",
    "import matplotlib.pyplot as plt"
   ]
  },
  {
   "cell_type": "code",
   "execution_count": 24,
   "metadata": {},
   "outputs": [
    {
     "data": {
      "image/png": "[encoded data removed]",
      "text/plain": [
       "<Figure size 432x288 with 1 Axes>"
      ]
     },
     "metadata": {
      "needs_background": "light"
     },
     "output_type": "display_data"
    }
   ],
   "source": [
    "# Data for plotting\n",
    "x = sorted(list(maps.keys()))\n",
    "y = [float(maps[k][-1]) for k in x]\n",
    "\n",
    "x += [100]\n",
    "y += [mAP_100]\n",
    "\n",
    "fig, ax = plt.subplots()\n",
    "ax.plot(x, y)\n",
    "\n",
    "ax.set(xlabel='% known labels', ylabel='mAP')\n",
    "ax.grid()\n",
    "\n",
    "fig.savefig(\"test.png\")\n",
    "plt.show()"
   ]
  },
  {
   "cell_type": "markdown",
   "metadata": {},
   "source": [
    "## partial vs bce"
   ]
  },
  {
   "cell_type": "code",
   "execution_count": 145,
   "metadata": {},
   "outputs": [],
   "source": [
    "bce = {\n",
    "    100: '/home/caleml/partial_experiments/exp_20190722_1214_baseline',\n",
    "    90: '/home/caleml/partial_experiments/exp_20190722_1233_baseline',\n",
    "    80: '/home/caleml/partial_experiments/exp_20190722_1413_baseline',\n",
    "    70: '/home/caleml/partial_experiments/exp_20190722_1233_baseline',\n",
    "    60: '/home/caleml/partial_experiments/exp_20190722_1413_baseline',\n",
    "    50: '/home/caleml/partial_experiments/exp_20190722_1233_baseline',\n",
    "    40: '/home/caleml/partial_experiments/exp_20190722_1413_baseline',\n",
    "    30: '/home/caleml/partial_experiments/exp_20190722_1233_baseline',\n",
    "    20: '/home/caleml/partial_experiments/exp_20190722_1413_baseline',\n",
    "    10: '/home/caleml/partial_experiments/exp_20190722_1233_baseline'\n",
    "}\n",
    "\n",
    "partial = {\n",
    "    100: '/home/caleml/partial_experiments/exp_20190722_1208_TESTNB',\n",
    "    90: '/home/caleml/partial_experiments/exp_20190722_1235_TESTNB',\n",
    "    80: '/home/caleml/partial_experiments/exp_20190722_1434_baseline/',\n",
    "    70: '/home/caleml/partial_experiments/exp_20190722_1318_baseline',\n",
    "    60: '/home/caleml/partial_experiments/exp_20190722_1416_TESTNB',\n",
    "    50: '/home/caleml/partial_experiments/exp_20190722_1346_TESTNB',\n",
    "    40: '/home/caleml/partial_experiments/exp_20190722_1359_baseline',\n",
    "    30: '/home/caleml/partial_experiments/exp_20190722_1350_baseline',\n",
    "    20: '/home/caleml/partial_experiments/exp_20190722_1444_baseline',\n",
    "    # 10: '/home/caleml/partial_experiments/exp_20190722_1257_TESTNB'\n",
    "}"
   ]
  },
  {
   "cell_type": "code",
   "execution_count": 146,
   "metadata": {},
   "outputs": [],
   "source": [
    "def find_map_data(folders):\n",
    "    # key: percent // val: best mAP\n",
    "    maps = dict()\n",
    "    \n",
    "    for pct, exp_folder in folders.items():\n",
    "        best_epoch = None\n",
    "        best_map = 0\n",
    "        \n",
    "        with open(os.path.join(exp_folder, 'map.csv'), 'r') as f_in:\n",
    "        \n",
    "            for line in f_in:\n",
    "                parts = line.split(',')\n",
    "\n",
    "                if len(parts) == 23:\n",
    "                    if int(parts[0]) != pct:\n",
    "                        continue\n",
    "                    epoch = int(parts[1])\n",
    "                    mAP = float(parts[2])\n",
    "\n",
    "                elif len(parts) == 22:\n",
    "                    epoch = int(parts[0])\n",
    "                    mAP = float(parts[1])\n",
    "                    \n",
    "                if mAP > best_map:\n",
    "                    best_map = mAP\n",
    "                    best_epoch = epoch\n",
    "\n",
    "        print(\"for percent %s, best map is %s at epoch %s\" % (pct, best_map, best_epoch))\n",
    "        maps[pct] = best_map\n",
    "    \n",
    "    return maps"
   ]
  },
  {
   "cell_type": "code",
   "execution_count": 147,
   "metadata": {},
   "outputs": [
    {
     "name": "stdout",
     "output_type": "stream",
     "text": [
      "for percent 80, best map is 0.838715 at epoch 4\n",
      "for percent 50, best map is 0.823468 at epoch 14\n",
      "for percent 100, best map is 0.850249 at epoch 13\n",
      "for percent 70, best map is 0.838721 at epoch 12\n",
      "for percent 40, best map is 0.818874 at epoch 14\n",
      "for percent 20, best map is 0.792368 at epoch 14\n",
      "for percent 90, best map is 0.845482 at epoch 13\n",
      "for percent 60, best map is 0.832514 at epoch 12\n",
      "for percent 10, best map is 0.73741 at epoch 14\n",
      "for percent 30, best map is 0.806251 at epoch 14\n",
      "for percent 80, best map is 0.849989 at epoch 23\n",
      "for percent 50, best map is 0.837094 at epoch 11\n",
      "for percent 100, best map is 0.849215 at epoch 18\n",
      "for percent 70, best map is 0.84505 at epoch 28\n",
      "for percent 40, best map is 0.822231 at epoch 23\n",
      "for percent 20, best map is 0.720791 at epoch 29\n",
      "for percent 90, best map is 0.851565 at epoch 13\n",
      "for percent 60, best map is 0.838604 at epoch 21\n",
      "for percent 30, best map is 0.795089 at epoch 13\n"
     ]
    }
   ],
   "source": [
    "bce_maps = find_map_data(bce)\n",
    "partial_maps = find_map_data(partial)"
   ]
  },
  {
   "cell_type": "code",
   "execution_count": 148,
   "metadata": {},
   "outputs": [
    {
     "data": {
      "image/png": "[encoded data removed]",
      "text/plain": [
       "<Figure size 432x288 with 1 Axes>"
      ]
     },
     "metadata": {
      "needs_background": "light"
     },
     "output_type": "display_data"
    }
   ],
   "source": [
    "# Data for plotting\n",
    "x_bce = sorted(list(bce_maps.keys()))\n",
    "y_bce = [float(bce_maps[k]) for k in x_bce]\n",
    "\n",
    "x_partial = sorted(list(partial_maps.keys()))\n",
    "y_partial = [float(partial_maps[k]) for k in x_partial]\n",
    "\n",
    "\n",
    "fig, ax = plt.subplots()\n",
    "ax.plot(x_bce, y_bce, label='bce')\n",
    "ax.plot(x_partial, y_partial, label='partial-bce')\n",
    "\n",
    "ax.set(xlabel='% known labels', ylabel='mAP')\n",
    "ax.legend()\n",
    "ax.grid()\n",
    "\n",
    "fig.savefig(\"eval_partial.png\")\n",
    "plt.show()"
   ]
  },
  {
   "cell_type": "code",
   "execution_count": null,
   "metadata": {},
   "outputs": [],
   "source": []
  },
  {
   "cell_type": "code",
   "execution_count": null,
   "metadata": {},
   "outputs": [],
   "source": []
  }
 ],
 "metadata": {
  "kernelspec": {
   "display_name": "Python 3",
   "language": "python",
   "name": "python3"
  },
  "language_info": {
   "codemirror_mode": {
    "name": "ipython",
    "version": 3
   },
   "file_extension": ".py",
   "mimetype": "text/x-python",
   "name": "python",
   "nbconvert_exporter": "python",
   "pygments_lexer": "ipython3",
   "version": "3.4.6"
  }
 },
 "nbformat": 4,
 "nbformat_minor": 2
}
