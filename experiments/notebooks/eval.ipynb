{
 "cells": [
  {
   "cell_type": "code",
   "execution_count": 9,
   "metadata": {},
   "outputs": [],
   "source": [
    "%load_ext autoreload\n",
    "%autoreload 2"
   ]
  },
  {
   "cell_type": "code",
   "execution_count": 24,
   "metadata": {},
   "outputs": [
    {
     "name": "stdout",
     "output_type": "stream",
     "text": [
      "['', '/home/caleml/partial-labels/experiments/notebooks', '/home/caleml/partial-labels', '/usr/lib/python34.zip', '/usr/lib64/python3.4', '/usr/lib64/python3.4/plat-linux', '/usr/lib64/python3.4/lib-dynload', '/home/caleml/.local/lib/python3.4/site-packages', '/usr/lib64/python3.4/site-packages', '/usr/lib64/python3.4/_import_failed', '/usr/lib/python3.4/site-packages', '/usr/lib/python3.4/site-packages/IPython/extensions', '/home/caleml/.ipython']\n"
     ]
    }
   ],
   "source": [
    "import os\n",
    "import sys\n",
    "\n",
    "print(sys.path)"
   ]
  },
  {
   "cell_type": "code",
   "execution_count": 23,
   "metadata": {},
   "outputs": [],
   "source": [
    "import numpy as np\n",
    "import tensorflow as tf"
   ]
  },
  {
   "cell_type": "code",
   "execution_count": 34,
   "metadata": {},
   "outputs": [],
   "source": [
    "from data.pascalvoc.pascalvoc import PascalVOC, NB_CLASSES"
   ]
  },
  {
   "cell_type": "code",
   "execution_count": 11,
   "metadata": {},
   "outputs": [],
   "source": [
    "from model.networks.baseline import Baseline\n",
    "from model import metrics"
   ]
  },
  {
   "cell_type": "code",
   "execution_count": 36,
   "metadata": {},
   "outputs": [],
   "source": [
    "import matplotlib\n",
    "import matplotlib.pyplot as plt"
   ]
  },
  {
   "cell_type": "code",
   "execution_count": 37,
   "metadata": {},
   "outputs": [
    {
     "data": {
      "text/plain": [
       "'0.20.2'"
      ]
     },
     "execution_count": 37,
     "metadata": {},
     "output_type": "execute_result"
    }
   ],
   "source": [
    "import sklearn\n",
    "sklearn.__version__"
   ]
  },
  {
   "cell_type": "code",
   "execution_count": 38,
   "metadata": {},
   "outputs": [
    {
     "name": "stderr",
     "output_type": "stream",
     "text": [
      "Using TensorFlow backend.\n"
     ]
    },
    {
     "ename": "ImportError",
     "evalue": "cannot import name 'parse_options_file'",
     "output_type": "error",
     "traceback": [
      "\u001b[0;31m---------------------------------------------------------------------------\u001b[0m",
      "\u001b[0;31mImportError\u001b[0m                               Traceback (most recent call last)",
      "\u001b[0;32m<ipython-input-38-fb51d5ec1ca2>\u001b[0m in \u001b[0;36m<module>\u001b[0;34m()\u001b[0m\n\u001b[0;32m----> 1\u001b[0;31m \u001b[0;32mfrom\u001b[0m \u001b[0mexperiments\u001b[0m\u001b[0;34m.\u001b[0m\u001b[0mlaunch\u001b[0m \u001b[0;32mimport\u001b[0m \u001b[0mparse_options_file\u001b[0m\u001b[0;34m\u001b[0m\u001b[0m\n\u001b[0m\u001b[1;32m      2\u001b[0m \u001b[0;32mfrom\u001b[0m \u001b[0mconfig\u001b[0m \u001b[0;32mimport\u001b[0m \u001b[0mconfig_utils\u001b[0m\u001b[0;34m\u001b[0m\u001b[0m\n",
      "\u001b[0;31mImportError\u001b[0m: cannot import name 'parse_options_file'"
     ]
    }
   ],
   "source": [
    "from experiments.launch import parse_options_file\n",
    "from config import config_utils"
   ]
  },
  {
   "cell_type": "markdown",
   "metadata": {},
   "source": [
    "## val dataset"
   ]
  },
  {
   "cell_type": "code",
   "execution_count": 7,
   "metadata": {},
   "outputs": [
    {
     "name": "stdout",
     "output_type": "stream",
     "text": [
      "1\n"
     ]
    }
   ],
   "source": [
    "dataset_path = '/share/DEEPLEARNING/datasets/pascalvoc/'\n",
    "dataset_val = PascalVOC(dataset_path, 2510, 'val', x_keys=['image'], y_keys=['multilabel'])\n",
    "print(len(dataset_val))"
   ]
  },
  {
   "cell_type": "code",
   "execution_count": 8,
   "metadata": {},
   "outputs": [],
   "source": [
    "x_val, y_val = dataset_val[0]"
   ]
  },
  {
   "cell_type": "markdown",
   "metadata": {},
   "source": [
    "## eval"
   ]
  },
  {
   "cell_type": "code",
   "execution_count": 9,
   "metadata": {},
   "outputs": [],
   "source": []
  },
  {
   "cell_type": "code",
   "execution_count": 26,
   "metadata": {},
   "outputs": [],
   "source": [
    "# partial_folder = '/home/caleml/partial_experiments/exp_20190624_1613_baseline'\n",
    "partial_folder = '/home/caleml/partial_experiments/exp_20190627_1641_baseline'\n",
    "model_weights = {\n",
    "    # 'model_10': os.path.join(partial_folder, 'weights_10_006.h5'),\n",
    "    # 'model_20': os.path.join(partial_folder, 'weights_20_020.h5'),\n",
    "    # 'model_30': os.path.join(partial_folder, 'weights_30_003.h5'),\n",
    "    'model_100': '/home/caleml/partial_experiments/exp_20190621_1834_baseline/weights_007.h5'\n",
    "}"
   ]
  },
  {
   "cell_type": "code",
   "execution_count": 27,
   "metadata": {},
   "outputs": [
    {
     "name": "stdout",
     "output_type": "stream",
     "text": [
      "\n",
      "========================\n",
      "Loaded config\n",
      "\n",
      "{'archi': {'classifier': 'resnet101', 'loss': 'bce', 'name': 'baseline'},\n",
      " 'batch_size': 8,\n",
      " 'dataset': {'name': 'pascalvoc',\n",
      "             'path': '/share/DEEPLEARNING/datasets/pascalvoc/'},\n",
      " 'training': {'n_epochs': 20}}\n",
      "========================\n",
      "\n"
     ]
    }
   ],
   "source": [
    "# config loading\n",
    "# conf = parse_options_file(os.path.join(partial_folder, 'config.yaml'))\n",
    "conf = parse_options_file('/home/caleml/partial-labels/config/baseline101.yaml')\n",
    "config_utils.update_config(conf)"
   ]
  },
  {
   "cell_type": "code",
   "execution_count": 28,
   "metadata": {},
   "outputs": [
    {
     "name": "stdout",
     "output_type": "stream",
     "text": [
      "Doing model model_100\n",
      "\u001b[95mOutputs shape (None, 20)\u001b[0m\n",
      "\u001b[95mFinal model summary\u001b[0m\n",
      "_________________________________________________________________\n",
      "Layer (type)                 Output Shape              Param #   \n",
      "=================================================================\n",
      "image_input (InputLayer)     (None, 448, 448, 3)       0         \n",
      "_________________________________________________________________\n",
      "cls_model (Model)            (None, 14, 14, 2048)      42658176  \n",
      "_________________________________________________________________\n",
      "flatten_5 (Flatten)          (None, 401408)            0         \n",
      "_________________________________________________________________\n",
      "dense_5 (Dense)              (None, 20)                8028180   \n",
      "=================================================================\n",
      "Total params: 50,686,356\n",
      "Trainable params: 50,581,012\n",
      "Non-trainable params: 105,344\n",
      "_________________________________________________________________\n",
      "y pred example [0.05703787 0.03876966 0.06486665 0.02170656 0.06401902 0.03992372\n",
      " 0.23413308 0.05507912 0.07292669 0.02245397 0.03004029 0.11245652\n",
      " 0.06244062 0.03530599 0.33977216 0.0383029  0.01283756 0.03870221\n",
      " 0.05472664 0.05308483]\n",
      "[0.054614510476001646, 0.0588444803777182, 0.06372964511061892, 0.0431100235677734, 0.04753478375522382, 0.036771822853698906, 0.13831597779648658, 0.07529499799022593, 0.10406580275783207, 0.030271158386558215, 0.046985906023250534, 0.08744528355984993, 0.0661751340858725, 0.05411210966602504, 0.41507178250318094, 0.04778536214555666, 0.033092313975561866, 0.05054564860422563, 0.059408601344953404, 0.057780391690422726]\n",
      "map2 0.07854778683355185\n",
      "type true <class 'numpy.ndarray'>, type pred <class 'numpy.ndarray'>\n",
      "ap scores for model_100: [0.0501992  0.05059761 0.05976096 0.03984064 0.04183267 0.03545817\n",
      " 0.13426295 0.06932271 0.08804781 0.02868526 0.04103586 0.08685259\n",
      " 0.05896414 0.0498008  0.39163347 0.04462151 0.01912351 0.04701195\n",
      " 0.05338645 0.05099602]\n",
      "model_100: 0.07207171314741037\n"
     ]
    }
   ],
   "source": [
    "# eval loop\n",
    "\n",
    "for model_name, model_path in model_weights.items():\n",
    "    print('Doing model %s' % model_name)  \n",
    "    model = Baseline(None, NB_CLASSES)\n",
    "    model.load_weights(model_path)\n",
    "    \n",
    "    y_pred = model.predict(x_val)\n",
    "    print('y pred example %s' % str(y_pred[0]))\n",
    "    \n",
    "    map_metric = metrics.MAP()\n",
    "    map_2 = metrics.calculate_map(y_val[0], y_pred)\n",
    "    print('map2 %s' % map_2)\n",
    "    ap_scores = map_metric.compute_separated(y_val[0], y_pred)\n",
    "    # ap_scores = map_metric.compute_separated(y_pred, y_val[0])\n",
    "    print('ap scores for %s: %s' % (model_name, str(ap_scores)))\n",
    "    map_score = sum(ap_scores) / len(ap_scores)\n",
    "\n",
    "    print('%s: %s' % (model_name, map_score))"
   ]
  },
  {
   "cell_type": "code",
   "execution_count": null,
   "metadata": {},
   "outputs": [],
   "source": [
    "# print(y_val)\n",
    "print(type(y_val[0]))\n",
    "print(y_val[0].shape)\n",
    "print(y_pred_100.shape)\n",
    "\n",
    "print(y_pred_100[-1])\n",
    "print(y_pred_100[2])\n",
    "\n",
    "print(y_pred_10[-1])\n",
    "print(y_pred_10[2])\n",
    "\n",
    "print(y_pred_20[-1])\n",
    "print(y_pred_20[2])"
   ]
  },
  {
   "cell_type": "code",
   "execution_count": 20,
   "metadata": {},
   "outputs": [
    {
     "name": "stdout",
     "output_type": "stream",
     "text": [
      "[0. 0. 0. 0. 0. 0. 0. 0. 1. 0. 0. 0. 0. 0. 0. 0. 0. 0. 0. 0.]\n"
     ]
    }
   ],
   "source": [
    "print(y_val[0][0])"
   ]
  },
  {
   "cell_type": "markdown",
   "metadata": {},
   "source": [
    "## plot mAP"
   ]
  },
  {
   "cell_type": "code",
   "execution_count": 10,
   "metadata": {},
   "outputs": [],
   "source": [
    "folder = '%s/partial_experiments/exp_20190628_0305_TEST_script' % os.environ['HOME']"
   ]
  },
  {
   "cell_type": "code",
   "execution_count": 13,
   "metadata": {},
   "outputs": [],
   "source": [
    "from pprint import pprint"
   ]
  },
  {
   "cell_type": "code",
   "execution_count": 14,
   "metadata": {},
   "outputs": [
    {
     "name": "stdout",
     "output_type": "stream",
     "text": [
      "{10: ['0.082854',\n",
      "      '0.090330',\n",
      "      '0.077200',\n",
      "      '0.074622',\n",
      "      '0.086840',\n",
      "      '0.087163',\n",
      "      '0.099346',\n",
      "      '0.103206',\n",
      "      '0.097967',\n",
      "      '0.098725',\n",
      "      '0.094966',\n",
      "      '0.106462',\n",
      "      '0.092181',\n",
      "      '0.100632',\n",
      "      '0.104738',\n",
      "      '0.093290',\n",
      "      '0.098259',\n",
      "      '0.089205',\n",
      "      '0.089280',\n",
      "      '0.094230'],\n",
      " 20: ['0.079084',\n",
      "      '0.129775',\n",
      "      '0.082999',\n",
      "      '0.147525',\n",
      "      '0.151059',\n",
      "      '0.138826',\n",
      "      '0.133107',\n",
      "      '0.140380',\n",
      "      '0.144374',\n",
      "      '0.153689',\n",
      "      '0.155001',\n",
      "      '0.122372',\n",
      "      '0.149584',\n",
      "      '0.151518',\n",
      "      '0.144176',\n",
      "      '0.154426',\n",
      "      '0.152721',\n",
      "      '0.155205',\n",
      "      '0.135074',\n",
      "      '0.154221'],\n",
      " 30: ['0.081828',\n",
      "      '0.269140',\n",
      "      '0.193136',\n",
      "      '0.278663',\n",
      "      '0.274600',\n",
      "      '0.082818',\n",
      "      '0.234682',\n",
      "      '0.284238',\n",
      "      '0.186499',\n",
      "      '0.208869',\n",
      "      '0.261126',\n",
      "      '0.302739',\n",
      "      '0.307479',\n",
      "      '0.296791',\n",
      "      '0.314388',\n",
      "      '0.314517',\n",
      "      '0.306071',\n",
      "      '0.313718',\n",
      "      '0.240694',\n",
      "      '0.256436'],\n",
      " 40: ['0.080835',\n",
      "      '0.076501',\n",
      "      '0.148357',\n",
      "      '0.096906',\n",
      "      '0.199956',\n",
      "      '0.093101',\n",
      "      '0.248151',\n",
      "      '0.268222',\n",
      "      '0.273415',\n",
      "      '0.213425',\n",
      "      '0.172426',\n",
      "      '0.214051',\n",
      "      '0.179610',\n",
      "      '0.201688',\n",
      "      '0.237327',\n",
      "      '0.245189',\n",
      "      '0.249791',\n",
      "      '0.252994',\n",
      "      '0.253844',\n",
      "      '0.255101'],\n",
      " 50: ['0.104236',\n",
      "      '0.156046',\n",
      "      '0.454163',\n",
      "      '0.291000',\n",
      "      '0.537763',\n",
      "      '0.551713',\n",
      "      '0.555184',\n",
      "      '0.562560',\n",
      "      '0.568390',\n",
      "      '0.569639',\n",
      "      '0.571236',\n",
      "      '0.573473',\n",
      "      '0.572554',\n",
      "      '0.574730',\n",
      "      '0.575417',\n",
      "      '0.576600',\n",
      "      '0.577606',\n",
      "      '0.579196',\n",
      "      '0.579168',\n",
      "      '0.578884'],\n",
      " 60: ['0.316033',\n",
      "      '0.204845',\n",
      "      '0.127441',\n",
      "      '0.073383',\n",
      "      '0.484320',\n",
      "      '0.124425',\n",
      "      '0.079245',\n",
      "      '0.369611',\n",
      "      '0.530078',\n",
      "      '0.534413',\n",
      "      '0.539459',\n",
      "      '0.547688',\n",
      "      '0.547489',\n",
      "      '0.548405',\n",
      "      '0.550030',\n",
      "      '0.551765',\n",
      "      '0.539097',\n",
      "      '0.551173',\n",
      "      '0.552540',\n",
      "      '0.552242'],\n",
      " 70: ['0.169629',\n",
      "      '0.109198',\n",
      "      '0.388010',\n",
      "      '0.629578',\n",
      "      '0.650723',\n",
      "      '0.648652',\n",
      "      '0.650337',\n",
      "      '0.658462',\n",
      "      '0.662576',\n",
      "      '0.663817',\n",
      "      '0.666271',\n",
      "      '0.667026',\n",
      "      '0.665829',\n",
      "      '0.665549',\n",
      "      '0.665749',\n",
      "      '0.670413',\n",
      "      '0.669417',\n",
      "      '0.670411',\n",
      "      '0.671900',\n",
      "      '0.672522'],\n",
      " 80: ['0.551235',\n",
      "      '0.666901',\n",
      "      '0.673174',\n",
      "      '0.587685',\n",
      "      '0.720591',\n",
      "      '0.740626',\n",
      "      '0.745287',\n",
      "      '0.750179',\n",
      "      '0.750407',\n",
      "      '0.752088',\n",
      "      '0.752927',\n",
      "      '0.754657',\n",
      "      '0.755540',\n",
      "      '0.756251',\n",
      "      '0.756427',\n",
      "      '0.757810',\n",
      "      '0.758669',\n",
      "      '0.759193',\n",
      "      '0.759033',\n",
      "      '0.759748'],\n",
      " 90: ['0.175930',\n",
      "      '0.339854',\n",
      "      '0.579708',\n",
      "      '0.614886',\n",
      "      '0.636796',\n",
      "      '0.648643',\n",
      "      '0.654232',\n",
      "      '0.657306',\n",
      "      '0.660862',\n",
      "      '0.660949',\n",
      "      '0.662306',\n",
      "      '0.664611',\n",
      "      '0.665533',\n",
      "      '0.665272',\n",
      "      '0.668458',\n",
      "      '0.669367',\n",
      "      '0.669645',\n",
      "      '0.670062',\n",
      "      '0.670021',\n",
      "      '0.669802']}\n"
     ]
    }
   ],
   "source": [
    "maps = dict()\n",
    "exp_pct = 0\n",
    "exp_maps = None\n",
    "\n",
    "with open(os.path.join(folder, 'map.csv'), 'r') as f_in:\n",
    "    for line in f_in:\n",
    "        parts = line.split(',')\n",
    "        epoch = parts[0]\n",
    "        mAP = parts[1]\n",
    "        \n",
    "        if int(epoch) == 0:\n",
    "            if exp_maps is not None:\n",
    "                maps[exp_pct] = exp_maps\n",
    "            \n",
    "            exp_pct += 10\n",
    "            exp_maps = list()\n",
    "        \n",
    "        exp_maps.append(mAP)\n",
    "        \n",
    "pprint(maps)\n",
    "            \n",
    "            \n",
    "            \n",
    "        "
   ]
  },
  {
   "cell_type": "code",
   "execution_count": 15,
   "metadata": {},
   "outputs": [],
   "source": [
    "mAP_100 = 0.69"
   ]
  },
  {
   "cell_type": "code",
   "execution_count": 24,
   "metadata": {},
   "outputs": [
    {
     "data": {
      "image/png": "[encoded data removed]",
      "text/plain": [
       "<Figure size 432x288 with 1 Axes>"
      ]
     },
     "metadata": {
      "needs_background": "light"
     },
     "output_type": "display_data"
    }
   ],
   "source": [
    "# Data for plotting\n",
    "x = sorted(list(maps.keys()))\n",
    "y = [float(maps[k][-1]) for k in x]\n",
    "\n",
    "x += [100]\n",
    "y += [mAP_100]\n",
    "\n",
    "fig, ax = plt.subplots()\n",
    "ax.plot(x, y)\n",
    "\n",
    "ax.set(xlabel='% known labels', ylabel='mAP')\n",
    "ax.grid()\n",
    "\n",
    "fig.savefig(\"test.png\")\n",
    "plt.show()"
   ]
  },
  {
   "cell_type": "markdown",
   "metadata": {},
   "source": [
    "## partial vs bce"
   ]
  },
  {
   "cell_type": "code",
   "execution_count": 51,
   "metadata": {},
   "outputs": [],
   "source": [
    "bce = {\n",
    "    100: '/home/caleml/partial_experiments/exp_20190722_1214_baseline',\n",
    "    90: '/home/caleml/partial_experiments/exp_20190722_1233_baseline',\n",
    "    80: '/home/caleml/partial_experiments/exp_20190722_1413_baseline',\n",
    "    70: '/home/caleml/partial_experiments/exp_20190722_1233_baseline',\n",
    "    60: '/home/caleml/partial_experiments/exp_20190722_1413_baseline',\n",
    "    50: '/home/caleml/partial_experiments/exp_20190722_1233_baseline',\n",
    "    40: '/home/caleml/partial_experiments/exp_20190722_1413_baseline',\n",
    "    30: '/home/caleml/partial_experiments/exp_20190722_1233_baseline',\n",
    "    20: '/home/caleml/partial_experiments/exp_20190722_1413_baseline',\n",
    "    10: '/home/caleml/partial_experiments/exp_20190722_1233_baseline'\n",
    "}\n",
    "\n",
    "partial = {\n",
    "    100: '/home/caleml/partial_experiments/exp_20190722_1208_TESTNB',\n",
    "    90: '/home/caleml/partial_experiments/exp_20190722_1235_TESTNB',\n",
    "    80: '/home/caleml/partial_experiments/exp_20190722_1434_baseline/',\n",
    "    70: '/home/caleml/partial_experiments/exp_20190722_1318_baseline',\n",
    "    60: '/home/caleml/partial_experiments/exp_20190722_1416_TESTNB',\n",
    "    50: '/home/caleml/partial_experiments/exp_20190722_1346_TESTNB',\n",
    "    40: '/home/caleml/partial_experiments/exp_20190722_1359_baseline',\n",
    "    30: '/home/caleml/partial_experiments/exp_20190722_1350_baseline',\n",
    "    20: '/home/caleml/partial_experiments/exp_20190722_1444_baseline',\n",
    "    # 10: '/home/caleml/partial_experiments/exp_20190722_1257_TESTNB'\n",
    "}"
   ]
  },
  {
   "cell_type": "code",
   "execution_count": 52,
   "metadata": {},
   "outputs": [],
   "source": [
    "coco_partial = {\n",
    "    100: '/home/caleml/partial_experiments/tensorboard/exp_20190723_0029_baseline',\n",
    "    90: '/home/caleml/partial_experiments/exp_20190723_0133_baseline'\n",
    "}\n",
    "\n",
    "coco_bce= {\n",
    "    100: '/home/caleml/partial_experiments/exp_20190723_0050_TESTNB',\n",
    "    90: '/home/caleml/partial_experiments/exp_20190723_0130_baseline'\n",
    "}"
   ]
  },
  {
   "cell_type": "code",
   "execution_count": 112,
   "metadata": {},
   "outputs": [],
   "source": [
    "# PascalVOC 448 + LRS (sgd 0.01 -> 0.001@10)\n",
    "pv_bce = {\n",
    "    100: '/home/caleml/partial_experiments/exp_20190725_1516_baseline',\n",
    "    90: '/home/caleml/partial_experiments/exp_20190725_1710_baseline',\n",
    "    # 80: '/home/caleml/partial_experiments/exp_20190726_1531_baseline',\n",
    "    70: '/home/caleml/partial_experiments/exp_20190725_1710_baseline',\n",
    "    # 60: '/home/caleml/partial_experiments/exp_20190726_1531_baseline',\n",
    "    50: '/home/caleml/partial_experiments/exp_20190725_1710_baseline',\n",
    "    # 40: '/home/caleml/partial_experiments/exp_20190726_1531_baseline',\n",
    "    30: '/home/caleml/partial_experiments/exp_20190726_1126_baseline',\n",
    "    20: '/home/caleml/partial_experiments/exp_20190726_1126_baseline',\n",
    "    10: '/home/caleml/partial_experiments/exp_20190726_1126_baseline'\n",
    "    \n",
    "}\n",
    "\n",
    "pv_pbce = {\n",
    "    100: '/home/caleml/partial_experiments/exp_20190726_1141_baseline',\n",
    "    90: '/home/caleml/partial_experiments/exp_20190725_1711_baseline',\n",
    "    # 80: '/home/caleml/partial_experiments/exp_20190726_1532_baseline',\n",
    "    70: '/home/caleml/partial_experiments/exp_20190725_1711_baseline',\n",
    "    # 60: '/home/caleml/partial_experiments/exp_20190726_1532_baseline',\n",
    "    50: '/home/caleml/partial_experiments/exp_20190725_1711_baseline',\n",
    "    40: '/home/caleml/partial_experiments/exp_20190726_1532_baseline',\n",
    "    30: '/home/caleml/partial_experiments/exp_20190725_1711_baseline',\n",
    "    20: '/home/caleml/partial_experiments/exp_20190726_1127_baseline',\n",
    "    10: '/home/caleml/partial_experiments/exp_20190726_1127_baseline'\n",
    "}"
   ]
  },
  {
   "cell_type": "code",
   "execution_count": 72,
   "metadata": {},
   "outputs": [],
   "source": [
    "# MSCoco 448 + LRS (sgd 0.01 -> 0.001@10)\n",
    "cc_bce = {\n",
    "    100: '/home/caleml/partial_experiments/exp_20190729_1635_baseline',\n",
    "    90: '/home/caleml/partial_experiments/exp_20190729_1718_baseline',\n",
    "    70: '/home/caleml/partial_experiments/exp_20190730_1451_baseline',\n",
    "    50: '/home/caleml/partial_experiments/exp_20190731_1119_baseline'\n",
    "}\n",
    "\n",
    "cc_pbce = {\n",
    "    100: '/home/caleml/partial_experiments/exp_20190729_1614_baseline',\n",
    "    90: '/home/caleml/partial_experiments/exp_20190729_1720_baseline',\n",
    "    70: '/home/caleml/partial_experiments/exp_20190730_1452_baseline'\n",
    "}"
   ]
  },
  {
   "cell_type": "code",
   "execution_count": 113,
   "metadata": {},
   "outputs": [],
   "source": [
    "def find_map_data(folders):\n",
    "    # key: percent // val: best mAP\n",
    "    maps = dict()\n",
    "    \n",
    "    for pct, exp_folder in folders.items():\n",
    "        best_epoch = None\n",
    "        best_map = 0\n",
    "        \n",
    "        with open(os.path.join(exp_folder, 'map.csv'), 'r') as f_in:\n",
    "        \n",
    "            for line in f_in:\n",
    "                parts = line.split(',')\n",
    "\n",
    "                if len(parts) == 23:\n",
    "                    if int(parts[0]) != pct:\n",
    "                        continue\n",
    "                    epoch = int(parts[1])\n",
    "                    mAP = float(parts[2])\n",
    "\n",
    "                elif len(parts) == 22:\n",
    "                    epoch = int(parts[0])\n",
    "                    mAP = float(parts[1])\n",
    "                    \n",
    "                if mAP > best_map:\n",
    "                    best_map = mAP\n",
    "                    best_epoch = epoch\n",
    "\n",
    "        print(\"for percent %s, best map is %s at epoch %s\" % (pct, best_map, best_epoch))\n",
    "        maps[pct] = best_map\n",
    "    \n",
    "    return maps"
   ]
  },
  {
   "cell_type": "code",
   "execution_count": 114,
   "metadata": {},
   "outputs": [
    {
     "name": "stdout",
     "output_type": "stream",
     "text": [
      "for percent 50, best map is 0.864272 at epoch 19\n",
      "for percent 100, best map is 0.880162 at epoch 19\n",
      "for percent 70, best map is 0.874514 at epoch 19\n",
      "for percent 20, best map is 0.835823 at epoch 19\n",
      "for percent 90, best map is 0.87457 at epoch 19\n",
      "for percent 10, best map is 0.785676 at epoch 19\n",
      "for percent 30, best map is 0.849913 at epoch 19\n",
      "for percent 50, best map is 0.888014 at epoch 18\n",
      "for percent 100, best map is 0.879263 at epoch 19\n",
      "for percent 70, best map is 0.899833 at epoch 19\n",
      "for percent 40, best map is 0.884248 at epoch 19\n",
      "for percent 20, best map is 0.863204 at epoch 13\n",
      "for percent 90, best map is 0.895631 at epoch 19\n",
      "for percent 10, best map is 0.819686 at epoch 17\n",
      "for percent 30, best map is 0.873455 at epoch 7\n"
     ]
    }
   ],
   "source": [
    "bce_maps = find_map_data(pv_bce)\n",
    "partial_maps = find_map_data(pv_pbce)"
   ]
  },
  {
   "cell_type": "code",
   "execution_count": 115,
   "metadata": {},
   "outputs": [
    {
     "data": {
      "image/png": "[encoded data removed]",
      "text/plain": [
       "<Figure size 432x288 with 1 Axes>"
      ]
     },
     "metadata": {
      "needs_background": "light"
     },
     "output_type": "display_data"
    }
   ],
   "source": [
    "# Data for plotting\n",
    "x_bce = sorted(list(bce_maps.keys()))\n",
    "y_bce = [float(bce_maps[k]) for k in x_bce]\n",
    "\n",
    "x_partial = sorted(list(partial_maps.keys()))\n",
    "y_partial = [float(partial_maps[k]) for k in x_partial]\n",
    "\n",
    "\n",
    "fig, ax = plt.subplots()\n",
    "ax.plot(x_bce, y_bce, label='bce')\n",
    "ax.plot(x_partial, y_partial, label='partial-bce')\n",
    "\n",
    "ax.set(xlabel='% known labels', ylabel='mAP')\n",
    "ax.legend()\n",
    "ax.grid()\n",
    "\n",
    "fig.savefig(\"eval_partial.png\")\n",
    "plt.show()"
   ]
  },
  {
   "cell_type": "code",
   "execution_count": null,
   "metadata": {},
   "outputs": [],
   "source": []
  },
  {
   "cell_type": "markdown",
   "metadata": {},
   "source": [
    "## Load and compute"
   ]
  },
  {
   "cell_type": "code",
   "execution_count": 117,
   "metadata": {},
   "outputs": [],
   "source": [
    "from data.coco.coco import CocoGenerator\n"
   ]
  },
  {
   "cell_type": "code",
   "execution_count": 118,
   "metadata": {},
   "outputs": [],
   "source": [
    "prop = 100"
   ]
  },
  {
   "cell_type": "code",
   "execution_count": 119,
   "metadata": {},
   "outputs": [
    {
     "name": "stdout",
     "output_type": "stream",
     "text": [
      "loading dataset from /share/DEEPLEARNING/datasets/mscoco/annotations/multilabel_val2014.csv\n"
     ]
    }
   ],
   "source": [
    "data_dir = '/share/DEEPLEARNING/datasets/mscoco'\n",
    "# data_dir = '/home/caleml/datasets/mscoco'\n",
    "dataset_test = CocoGenerator('val', data_dir)"
   ]
  },
  {
   "cell_type": "code",
   "execution_count": null,
   "metadata": {},
   "outputs": [],
   "source": [
    "# BatchNormalizationV1??\n",
    "from tensorflow.keras.models import load_model\n",
    "model_path = '/home/caleml/partial_experiments/exp_20190729_1614_baseline/model_100_020.h5'\n",
    "model = load_model(model_path)"
   ]
  },
  {
   "cell_type": "code",
   "execution_count": 95,
   "metadata": {},
   "outputs": [
    {
     "name": "stdout",
     "output_type": "stream",
     "text": [
      "Init input_shape (448, 448, 3)\n",
      "Loading options\n",
      "\n",
      "========================\n",
      "Loaded config\n",
      "\n",
      "{'archi': {'classifier': 'resnet50', 'loss': 'bce', 'name': 'baseline'},\n",
      " 'batch_size': 16,\n",
      " 'callbacks': {'lr_factor': 0.1, 'lr_trigger': [10]},\n",
      " 'dataset': {'name': 'coco',\n",
      "             'path': '/share/DEEPLEARNING/datasets/mscoco/',\n",
      "             'test': 'val',\n",
      "             'train': 'train'},\n",
      " 'image': {'img_size': 448},\n",
      " 'training': {'n_epochs': 20, 'optimizer': 'sgd', 'start_lr': 0.01}}\n",
      "========================\n",
      "\n"
     ]
    },
    {
     "name": "stderr",
     "output_type": "stream",
     "text": [
      "/home/caleml/.local/lib/python3.4/site-packages/keras_applications/resnet50.py:265: UserWarning: The output shape of `ResNet50(include_top=False)` has been changed since Keras 2.2.0.\n",
      "  warnings.warn('The output shape of `ResNet50(include_top=False)` '\n"
     ]
    },
    {
     "name": "stdout",
     "output_type": "stream",
     "text": [
      "\u001b[95mOutputs shape (None, 80)\u001b[0m\n",
      "\u001b[95mFinal model summary\u001b[0m\n",
      "_________________________________________________________________\n",
      "Layer (type)                 Output Shape              Param #   \n",
      "=================================================================\n",
      "image_input (InputLayer)     (None, 448, 448, 3)       0         \n",
      "_________________________________________________________________\n",
      "cls_model (Model)            (None, 14, 14, 2048)      23587712  \n",
      "_________________________________________________________________\n",
      "global_average_pooling2d_1 ( (None, 2048)              0         \n",
      "_________________________________________________________________\n",
      "dense_1 (Dense)              (None, 80)                163920    \n",
      "=================================================================\n",
      "Total params: 23,751,632\n",
      "Trainable params: 23,698,512\n",
      "Non-trainable params: 53,120\n",
      "_________________________________________________________________\n"
     ]
    }
   ],
   "source": [
    "# load model\n",
    "weights_path = '/home/caleml/partial_experiments/exp_20190729_1614_baseline/weights_100_020.h5'\n",
    "config_path = '/home/caleml/partial-labels/config/coco_baseline50_sgd_448lrs.yaml'\n",
    "model = Baseline('/home/caleml/partial_experiments/', 80)\n",
    "model.load_weights(weights_path, build_args={'p': prop / 100}, config_file=config_path)"
   ]
  },
  {
   "cell_type": "code",
   "execution_count": 120,
   "metadata": {},
   "outputs": [
    {
     "name": "stdout",
     "output_type": "stream",
     "text": [
      "test data length 40504\n"
     ]
    },
    {
     "ename": "MemoryError",
     "evalue": "",
     "output_type": "error",
     "traceback": [
      "\u001b[0;31m---------------------------------------------------------------------------\u001b[0m",
      "\u001b[0;31mAttributeError\u001b[0m                            Traceback (most recent call last)",
      "\u001b[0;32m/usr/lib64/python3.4/site-packages/numpy/core/fromnumeric.py\u001b[0m in \u001b[0;36m_wrapfunc\u001b[0;34m(obj, method, *args, **kwds)\u001b[0m\n\u001b[1;32m     51\u001b[0m     \u001b[0;32mtry\u001b[0m\u001b[0;34m:\u001b[0m\u001b[0;34m\u001b[0m\u001b[0m\n\u001b[0;32m---> 52\u001b[0;31m         \u001b[0;32mreturn\u001b[0m \u001b[0mgetattr\u001b[0m\u001b[0;34m(\u001b[0m\u001b[0mobj\u001b[0m\u001b[0;34m,\u001b[0m \u001b[0mmethod\u001b[0m\u001b[0;34m)\u001b[0m\u001b[0;34m(\u001b[0m\u001b[0;34m*\u001b[0m\u001b[0margs\u001b[0m\u001b[0;34m,\u001b[0m \u001b[0;34m**\u001b[0m\u001b[0mkwds\u001b[0m\u001b[0;34m)\u001b[0m\u001b[0;34m\u001b[0m\u001b[0m\n\u001b[0m\u001b[1;32m     53\u001b[0m \u001b[0;34m\u001b[0m\u001b[0m\n",
      "\u001b[0;31mAttributeError\u001b[0m: 'list' object has no attribute 'reshape'",
      "\nDuring handling of the above exception, another exception occurred:\n",
      "\u001b[0;31mMemoryError\u001b[0m                               Traceback (most recent call last)",
      "\u001b[0;32m<ipython-input-120-234b73ca6ac4>\u001b[0m in \u001b[0;36m<module>\u001b[0;34m()\u001b[0m\n\u001b[1;32m      3\u001b[0m \u001b[0mgenerator_test\u001b[0m \u001b[0;34m=\u001b[0m \u001b[0mdataset_test\u001b[0m\u001b[0;34m.\u001b[0m\u001b[0mflow\u001b[0m\u001b[0;34m(\u001b[0m\u001b[0mbatch_size\u001b[0m\u001b[0;34m=\u001b[0m\u001b[0mbatch_size\u001b[0m\u001b[0;34m)\u001b[0m\u001b[0;34m\u001b[0m\u001b[0m\n\u001b[1;32m      4\u001b[0m \u001b[0mprint\u001b[0m\u001b[0;34m(\u001b[0m\u001b[0;34m\"test data length %s\"\u001b[0m \u001b[0;34m%\u001b[0m \u001b[0mlen\u001b[0m\u001b[0;34m(\u001b[0m\u001b[0mdataset_test\u001b[0m\u001b[0;34m)\u001b[0m\u001b[0;34m)\u001b[0m\u001b[0;34m\u001b[0m\u001b[0m\n\u001b[0;32m----> 5\u001b[0;31m \u001b[0mX_test\u001b[0m\u001b[0;34m,\u001b[0m \u001b[0mY_test\u001b[0m \u001b[0;34m=\u001b[0m \u001b[0mnext\u001b[0m\u001b[0;34m(\u001b[0m\u001b[0mgenerator_test\u001b[0m\u001b[0;34m)\u001b[0m\u001b[0;34m\u001b[0m\u001b[0m\n\u001b[0m",
      "\u001b[0;32m~/partial-labels/data/coco/coco.py\u001b[0m in \u001b[0;36mflow\u001b[0;34m(self, batch_size)\u001b[0m\n\u001b[1;32m     96\u001b[0m \u001b[0;34m\u001b[0m\u001b[0m\n\u001b[1;32m     97\u001b[0m                 \u001b[0;31m# resize X_batch in (batch_size, IMG_HEIGHT, IMG_WIDTH, 3)\u001b[0m\u001b[0;34m\u001b[0m\u001b[0;34m\u001b[0m\u001b[0m\n\u001b[0;32m---> 98\u001b[0;31m                 \u001b[0mX_batch\u001b[0m \u001b[0;34m=\u001b[0m \u001b[0mnp\u001b[0m\u001b[0;34m.\u001b[0m\u001b[0mreshape\u001b[0m\u001b[0;34m(\u001b[0m\u001b[0mX_batch\u001b[0m\u001b[0;34m,\u001b[0m \u001b[0;34m(\u001b[0m\u001b[0;34m-\u001b[0m\u001b[0;36m1\u001b[0m\u001b[0;34m,\u001b[0m \u001b[0mcfg\u001b[0m\u001b[0;34m.\u001b[0m\u001b[0mIMAGE\u001b[0m\u001b[0;34m.\u001b[0m\u001b[0mIMG_SIZE\u001b[0m\u001b[0;34m,\u001b[0m \u001b[0mcfg\u001b[0m\u001b[0;34m.\u001b[0m\u001b[0mIMAGE\u001b[0m\u001b[0;34m.\u001b[0m\u001b[0mIMG_SIZE\u001b[0m\u001b[0;34m,\u001b[0m \u001b[0;36m3\u001b[0m\u001b[0;34m)\u001b[0m\u001b[0;34m)\u001b[0m\u001b[0;34m\u001b[0m\u001b[0m\n\u001b[0m\u001b[1;32m     99\u001b[0m                 \u001b[0;31m# resize Y_batch in (None, nb_classes)\u001b[0m\u001b[0;34m\u001b[0m\u001b[0;34m\u001b[0m\u001b[0m\n\u001b[1;32m    100\u001b[0m                 \u001b[0mY_batch\u001b[0m \u001b[0;34m=\u001b[0m \u001b[0mnp\u001b[0m\u001b[0;34m.\u001b[0m\u001b[0mreshape\u001b[0m\u001b[0;34m(\u001b[0m\u001b[0mY_batch\u001b[0m\u001b[0;34m,\u001b[0m \u001b[0;34m(\u001b[0m\u001b[0;34m-\u001b[0m\u001b[0;36m1\u001b[0m\u001b[0;34m,\u001b[0m \u001b[0mself\u001b[0m\u001b[0;34m.\u001b[0m\u001b[0mnb_classes\u001b[0m\u001b[0;34m)\u001b[0m\u001b[0;34m)\u001b[0m\u001b[0;34m\u001b[0m\u001b[0m\n",
      "\u001b[0;32m/usr/lib64/python3.4/site-packages/numpy/core/fromnumeric.py\u001b[0m in \u001b[0;36mreshape\u001b[0;34m(a, newshape, order)\u001b[0m\n\u001b[1;32m    255\u001b[0m            [5, 6]])\n\u001b[1;32m    256\u001b[0m     \"\"\"\n\u001b[0;32m--> 257\u001b[0;31m     \u001b[0;32mreturn\u001b[0m \u001b[0m_wrapfunc\u001b[0m\u001b[0;34m(\u001b[0m\u001b[0ma\u001b[0m\u001b[0;34m,\u001b[0m \u001b[0;34m'reshape'\u001b[0m\u001b[0;34m,\u001b[0m \u001b[0mnewshape\u001b[0m\u001b[0;34m,\u001b[0m \u001b[0morder\u001b[0m\u001b[0;34m=\u001b[0m\u001b[0morder\u001b[0m\u001b[0;34m)\u001b[0m\u001b[0;34m\u001b[0m\u001b[0m\n\u001b[0m\u001b[1;32m    258\u001b[0m \u001b[0;34m\u001b[0m\u001b[0m\n\u001b[1;32m    259\u001b[0m \u001b[0;34m\u001b[0m\u001b[0m\n",
      "\u001b[0;32m/usr/lib64/python3.4/site-packages/numpy/core/fromnumeric.py\u001b[0m in \u001b[0;36m_wrapfunc\u001b[0;34m(obj, method, *args, **kwds)\u001b[0m\n\u001b[1;32m     60\u001b[0m     \u001b[0;31m# a downstream library like 'pandas'.\u001b[0m\u001b[0;34m\u001b[0m\u001b[0;34m\u001b[0m\u001b[0m\n\u001b[1;32m     61\u001b[0m     \u001b[0;32mexcept\u001b[0m \u001b[0;34m(\u001b[0m\u001b[0mAttributeError\u001b[0m\u001b[0;34m,\u001b[0m \u001b[0mTypeError\u001b[0m\u001b[0;34m)\u001b[0m\u001b[0;34m:\u001b[0m\u001b[0;34m\u001b[0m\u001b[0m\n\u001b[0;32m---> 62\u001b[0;31m         \u001b[0;32mreturn\u001b[0m \u001b[0m_wrapit\u001b[0m\u001b[0;34m(\u001b[0m\u001b[0mobj\u001b[0m\u001b[0;34m,\u001b[0m \u001b[0mmethod\u001b[0m\u001b[0;34m,\u001b[0m \u001b[0;34m*\u001b[0m\u001b[0margs\u001b[0m\u001b[0;34m,\u001b[0m \u001b[0;34m**\u001b[0m\u001b[0mkwds\u001b[0m\u001b[0;34m)\u001b[0m\u001b[0;34m\u001b[0m\u001b[0m\n\u001b[0m\u001b[1;32m     63\u001b[0m \u001b[0;34m\u001b[0m\u001b[0m\n\u001b[1;32m     64\u001b[0m \u001b[0;34m\u001b[0m\u001b[0m\n",
      "\u001b[0;32m/usr/lib64/python3.4/site-packages/numpy/core/fromnumeric.py\u001b[0m in \u001b[0;36m_wrapit\u001b[0;34m(obj, method, *args, **kwds)\u001b[0m\n\u001b[1;32m     40\u001b[0m     \u001b[0;32mexcept\u001b[0m \u001b[0mAttributeError\u001b[0m\u001b[0;34m:\u001b[0m\u001b[0;34m\u001b[0m\u001b[0m\n\u001b[1;32m     41\u001b[0m         \u001b[0mwrap\u001b[0m \u001b[0;34m=\u001b[0m \u001b[0;32mNone\u001b[0m\u001b[0;34m\u001b[0m\u001b[0m\n\u001b[0;32m---> 42\u001b[0;31m     \u001b[0mresult\u001b[0m \u001b[0;34m=\u001b[0m \u001b[0mgetattr\u001b[0m\u001b[0;34m(\u001b[0m\u001b[0masarray\u001b[0m\u001b[0;34m(\u001b[0m\u001b[0mobj\u001b[0m\u001b[0;34m)\u001b[0m\u001b[0;34m,\u001b[0m \u001b[0mmethod\u001b[0m\u001b[0;34m)\u001b[0m\u001b[0;34m(\u001b[0m\u001b[0;34m*\u001b[0m\u001b[0margs\u001b[0m\u001b[0;34m,\u001b[0m \u001b[0;34m**\u001b[0m\u001b[0mkwds\u001b[0m\u001b[0;34m)\u001b[0m\u001b[0;34m\u001b[0m\u001b[0m\n\u001b[0m\u001b[1;32m     43\u001b[0m     \u001b[0;32mif\u001b[0m \u001b[0mwrap\u001b[0m\u001b[0;34m:\u001b[0m\u001b[0;34m\u001b[0m\u001b[0m\n\u001b[1;32m     44\u001b[0m         \u001b[0;32mif\u001b[0m \u001b[0;32mnot\u001b[0m \u001b[0misinstance\u001b[0m\u001b[0;34m(\u001b[0m\u001b[0mresult\u001b[0m\u001b[0;34m,\u001b[0m \u001b[0mmu\u001b[0m\u001b[0;34m.\u001b[0m\u001b[0mndarray\u001b[0m\u001b[0;34m)\u001b[0m\u001b[0;34m:\u001b[0m\u001b[0;34m\u001b[0m\u001b[0m\n",
      "\u001b[0;32m/usr/lib64/python3.4/site-packages/numpy/core/numeric.py\u001b[0m in \u001b[0;36masarray\u001b[0;34m(a, dtype, order)\u001b[0m\n\u001b[1;32m    490\u001b[0m \u001b[0;34m\u001b[0m\u001b[0m\n\u001b[1;32m    491\u001b[0m     \"\"\"\n\u001b[0;32m--> 492\u001b[0;31m     \u001b[0;32mreturn\u001b[0m \u001b[0marray\u001b[0m\u001b[0;34m(\u001b[0m\u001b[0ma\u001b[0m\u001b[0;34m,\u001b[0m \u001b[0mdtype\u001b[0m\u001b[0;34m,\u001b[0m \u001b[0mcopy\u001b[0m\u001b[0;34m=\u001b[0m\u001b[0;32mFalse\u001b[0m\u001b[0;34m,\u001b[0m \u001b[0morder\u001b[0m\u001b[0;34m=\u001b[0m\u001b[0morder\u001b[0m\u001b[0;34m)\u001b[0m\u001b[0;34m\u001b[0m\u001b[0m\n\u001b[0m\u001b[1;32m    493\u001b[0m \u001b[0;34m\u001b[0m\u001b[0m\n\u001b[1;32m    494\u001b[0m \u001b[0;34m\u001b[0m\u001b[0m\n",
      "\u001b[0;31mMemoryError\u001b[0m: "
     ]
    }
   ],
   "source": [
    "# load val dataset (/!\\ LONG)\n",
    "batch_size = len(dataset_test)\n",
    "generator_test = dataset_test.flow(batch_size=batch_size)\n",
    "print(\"test data length %s\" % len(dataset_test))\n",
    "X_test, Y_test = next(generator_test)"
   ]
  },
  {
   "cell_type": "code",
   "execution_count": null,
   "metadata": {},
   "outputs": [],
   "source": [
    "# execute mAP measures\n",
    "from model import metrics\n",
    "map_fn =  metrics.MAP()\n",
    "\n",
    "y_pred = model.predict(X_test)\n",
    "ap_scores = map_fn.compute_separated(Y_test, y_pred)\n",
    "print('ap scores type %s' % type(ap_scores))\n",
    "map_score = sum(ap_scores) / len(ap_scores)\n",
    "\n",
    "with open(os.path.join(self.exp_folder, 'map.csv'), 'a') as f_out:\n",
    "    line = '%d,%d,%6f,' % (prop, epoch, map_score) + ','.join([str(s) for s in ap_scores]) + '\\n'\n",
    "    f_out.write(line)\n",
    "\n",
    "print(\"interval evaluation - epoch: {:d} - mAP score: {:.6f}\".format(epoch, map_score))"
   ]
  },
  {
   "cell_type": "code",
   "execution_count": null,
   "metadata": {},
   "outputs": [],
   "source": []
  },
  {
   "cell_type": "code",
   "execution_count": 101,
   "metadata": {},
   "outputs": [],
   "source": [
    "def extract_folder_and_epoch(weights_path):\n",
    "    parts = weights_path.split('/')\n",
    "    parts_name = parts[-1].split('_')\n",
    "    assert len(parts_name) == 3\n",
    "    epoch = int(parts_name[1])\n",
    "    \n",
    "    exp_folder = '/'.join(parts[:-1])\n",
    "    return exp_folder, epoch"
   ]
  },
  {
   "cell_type": "code",
   "execution_count": 103,
   "metadata": {},
   "outputs": [
    {
     "name": "stdout",
     "output_type": "stream",
     "text": [
      "/home/caleml/partial_experiments/exp_20190729_1614_baseline\n",
      "100\n"
     ]
    }
   ],
   "source": [
    "exp_folder, epoch = extract_folder_and_epoch(weights_path)\n",
    "print(exp_folder)\n",
    "print(epoch)"
   ]
  },
  {
   "cell_type": "markdown",
   "metadata": {},
   "source": [
    "## Test eval stream"
   ]
  },
  {
   "cell_type": "code",
   "execution_count": 5,
   "metadata": {},
   "outputs": [],
   "source": [
    "from data.coco.coco2 import CocoGenerator"
   ]
  },
  {
   "cell_type": "code",
   "execution_count": 6,
   "metadata": {},
   "outputs": [],
   "source": [
    "data_dir = '/home/caleml/datasets/mscoco/'"
   ]
  },
  {
   "cell_type": "code",
   "execution_count": 33,
   "metadata": {},
   "outputs": [
    {
     "name": "stdout",
     "output_type": "stream",
     "text": [
      "loading dataset from /home/caleml/datasets/mscoco/annotations/multilabel_val2014.csv\n"
     ]
    }
   ],
   "source": [
    "dataset_val = CocoGenerator(data_dir, 16, 'val', x_keys=['image', 'image_id'], y_keys=['multilabel'], year='2014')"
   ]
  },
  {
   "cell_type": "markdown",
   "metadata": {},
   "source": [
    "### model"
   ]
  },
  {
   "cell_type": "code",
   "execution_count": 13,
   "metadata": {},
   "outputs": [],
   "source": [
    "prop = 100"
   ]
  },
  {
   "cell_type": "code",
   "execution_count": 32,
   "metadata": {},
   "outputs": [
    {
     "name": "stdout",
     "output_type": "stream",
     "text": [
      "Init input_shape (448, 448, 3)\n",
      "Loading options\n",
      "{'ARCHI': {'CLASSIFIER': 'resnet50', 'LOSS': 'bce', 'NAME': 'baseline'},\n",
      " 'BATCH_SIZE': 16,\n",
      " 'CALLBACK': {'LR_FACTOR': 0.1,\n",
      "              'LR_TRIGGER': [10],\n",
      "              'MIN_DELTA': 0.0,\n",
      "              'PATIENCE': 10,\n",
      "              'PATIENCE_LR': 2,\n",
      "              'TENSORBOARD': {'SAVE_GRAPH': True, 'USE_TENSORBOARD': False},\n",
      "              'VAL_CB': None},\n",
      " 'CALLBACKS': {'LR_FACTOR': 0.1, 'LR_TRIGGER': [10]},\n",
      " 'DATAAUGMENTATION': {'DEFAULT_DICT': {'HORIZONTAL_FLIP': True,\n",
      "                                       'horizontal_flip': True}},\n",
      " 'DATASET': {'NAME': 'coco',\n",
      "             'PATH': '/share/DEEPLEARNING/datasets/mscoco/',\n",
      "             'SHUFFLE': True,\n",
      "             'TEST': 'val',\n",
      "             'TRAIN': 'train'},\n",
      " 'DEBUG': {'IS_TEST': False},\n",
      " 'EPSILON': 1e-07,\n",
      " 'IMAGE': {'IMG_SIZE': 448, 'N_CHANNELS': 3},\n",
      " 'MULTIP': {'MAX_QUEUE_SIZE': 10, 'N_WORKERS': 2, 'USE_MULTIPROCESS': False},\n",
      " 'RANDOM_SEED': 1,\n",
      " 'RELABEL': {'ACTIVE': False},\n",
      " 'TRAINING': {'N_EPOCH': 15,\n",
      "              'N_EPOCHS': 20,\n",
      "              'OPTIMIZER': 'sgd',\n",
      "              'START_LR': 0.01},\n",
      " 'VERBOSE': True}\n"
     ]
    },
    {
     "name": "stderr",
     "output_type": "stream",
     "text": [
      "/home/caleml/.local/lib/python3.4/site-packages/keras_applications/resnet50.py:265: UserWarning: The output shape of `ResNet50(include_top=False)` has been changed since Keras 2.2.0.\n",
      "  warnings.warn('The output shape of `ResNet50(include_top=False)` '\n"
     ]
    },
    {
     "name": "stdout",
     "output_type": "stream",
     "text": [
      "\u001b[95mOutputs shape (None, 80)\u001b[0m\n",
      "\u001b[95mFinal model summary\u001b[0m\n",
      "_________________________________________________________________\n",
      "Layer (type)                 Output Shape              Param #   \n",
      "=================================================================\n",
      "image_input (InputLayer)     (None, 448, 448, 3)       0         \n",
      "_________________________________________________________________\n",
      "cls_model (Model)            (None, 14, 14, 2048)      23587712  \n",
      "_________________________________________________________________\n",
      "global_average_pooling2d_2 ( (None, 2048)              0         \n",
      "_________________________________________________________________\n",
      "dense_2 (Dense)              (None, 80)                163920    \n",
      "=================================================================\n",
      "Total params: 23,751,632\n",
      "Trainable params: 23,698,512\n",
      "Non-trainable params: 53,120\n",
      "_________________________________________________________________\n"
     ]
    }
   ],
   "source": [
    "weights_path = '/home/caleml/partial_experiments/exp_20190729_1614_baseline/weights_%s_020.h5' % prop\n",
    "model = Baseline('/home/caleml/partial_experiments/', 80)\n",
    "model.load_weights(weights_path)"
   ]
  },
  {
   "cell_type": "markdown",
   "metadata": {},
   "source": [
    "### predictions"
   ]
  },
  {
   "cell_type": "code",
   "execution_count": 56,
   "metadata": {},
   "outputs": [
    {
     "name": "stdout",
     "output_type": "stream",
     "text": [
      "done 0/2532\n",
      "done 10/2532\n",
      "done 20/2532\n",
      "done 30/2532\n",
      "done 40/2532\n",
      "done 50/2532\n",
      "done 60/2532\n",
      "done 70/2532\n",
      "done 80/2532\n",
      "done 90/2532\n",
      "done 100/2532\n",
      "done 110/2532\n",
      "done 120/2532\n",
      "done 130/2532\n",
      "done 140/2532\n",
      "done 150/2532\n",
      "done 160/2532\n",
      "done 170/2532\n",
      "done 180/2532\n",
      "done 190/2532\n",
      "done 200/2532\n",
      "done 210/2532\n",
      "done 220/2532\n",
      "done 230/2532\n",
      "done 240/2532\n",
      "done 250/2532\n",
      "done 260/2532\n",
      "done 270/2532\n",
      "done 280/2532\n",
      "done 290/2532\n",
      "done 300/2532\n",
      "done 310/2532\n",
      "done 320/2532\n",
      "done 330/2532\n",
      "done 340/2532\n",
      "done 350/2532\n",
      "done 360/2532\n",
      "done 370/2532\n",
      "done 380/2532\n",
      "done 390/2532\n",
      "done 400/2532\n",
      "done 410/2532\n",
      "done 420/2532\n",
      "done 430/2532\n",
      "done 440/2532\n",
      "done 450/2532\n",
      "done 460/2532\n",
      "done 470/2532\n",
      "done 480/2532\n",
      "done 490/2532\n",
      "done 500/2532\n",
      "done 510/2532\n",
      "done 520/2532\n",
      "done 530/2532\n",
      "done 540/2532\n",
      "done 550/2532\n",
      "done 560/2532\n",
      "done 570/2532\n",
      "done 580/2532\n",
      "done 590/2532\n",
      "done 600/2532\n",
      "done 610/2532\n",
      "done 620/2532\n",
      "done 630/2532\n",
      "done 640/2532\n",
      "done 650/2532\n",
      "done 660/2532\n",
      "done 670/2532\n",
      "done 680/2532\n",
      "done 690/2532\n",
      "done 700/2532\n",
      "done 710/2532\n",
      "done 720/2532\n",
      "done 730/2532\n",
      "done 740/2532\n",
      "done 750/2532\n",
      "done 760/2532\n",
      "done 770/2532\n",
      "done 780/2532\n",
      "done 790/2532\n",
      "done 800/2532\n",
      "done 810/2532\n",
      "done 820/2532\n",
      "done 830/2532\n",
      "done 840/2532\n",
      "done 850/2532\n",
      "done 860/2532\n",
      "done 870/2532\n",
      "done 880/2532\n",
      "done 890/2532\n",
      "done 900/2532\n",
      "done 910/2532\n",
      "done 920/2532\n",
      "done 930/2532\n",
      "done 940/2532\n",
      "done 950/2532\n",
      "done 960/2532\n",
      "done 970/2532\n",
      "done 980/2532\n",
      "done 990/2532\n",
      "done 1000/2532\n",
      "done 1010/2532\n",
      "done 1020/2532\n",
      "done 1030/2532\n",
      "done 1040/2532\n",
      "done 1050/2532\n",
      "done 1060/2532\n",
      "done 1070/2532\n",
      "done 1080/2532\n",
      "done 1090/2532\n",
      "done 1100/2532\n",
      "done 1110/2532\n",
      "done 1120/2532\n",
      "done 1130/2532\n",
      "done 1140/2532\n",
      "done 1150/2532\n",
      "done 1160/2532\n",
      "done 1170/2532\n",
      "done 1180/2532\n",
      "done 1190/2532\n",
      "done 1200/2532\n",
      "done 1210/2532\n",
      "done 1220/2532\n",
      "done 1230/2532\n",
      "done 1240/2532\n",
      "done 1250/2532\n",
      "done 1260/2532\n",
      "done 1270/2532\n",
      "done 1280/2532\n",
      "done 1290/2532\n",
      "done 1300/2532\n",
      "done 1310/2532\n",
      "done 1320/2532\n",
      "done 1330/2532\n",
      "done 1340/2532\n",
      "done 1350/2532\n",
      "done 1360/2532\n",
      "done 1370/2532\n",
      "done 1380/2532\n",
      "done 1390/2532\n",
      "done 1400/2532\n",
      "done 1410/2532\n",
      "done 1420/2532\n",
      "done 1430/2532\n",
      "done 1440/2532\n",
      "done 1450/2532\n",
      "done 1460/2532\n",
      "done 1470/2532\n",
      "done 1480/2532\n",
      "done 1490/2532\n",
      "done 1500/2532\n",
      "done 1510/2532\n",
      "done 1520/2532\n",
      "done 1530/2532\n",
      "done 1540/2532\n",
      "done 1550/2532\n",
      "done 1560/2532\n",
      "done 1570/2532\n",
      "done 1580/2532\n",
      "done 1590/2532\n",
      "done 1600/2532\n",
      "done 1610/2532\n",
      "done 1620/2532\n",
      "done 1630/2532\n",
      "done 1640/2532\n",
      "done 1650/2532\n",
      "done 1660/2532\n",
      "done 1670/2532\n",
      "done 1680/2532\n",
      "done 1690/2532\n",
      "done 1700/2532\n",
      "done 1710/2532\n",
      "done 1720/2532\n",
      "done 1730/2532\n",
      "done 1740/2532\n",
      "done 1750/2532\n",
      "done 1760/2532\n",
      "done 1770/2532\n",
      "done 1780/2532\n",
      "done 1790/2532\n",
      "done 1800/2532\n",
      "done 1810/2532\n",
      "done 1820/2532\n",
      "done 1830/2532\n",
      "done 1840/2532\n",
      "done 1850/2532\n",
      "done 1860/2532\n",
      "done 1870/2532\n",
      "done 1880/2532\n",
      "done 1890/2532\n",
      "done 1900/2532\n",
      "done 1910/2532\n",
      "done 1920/2532\n",
      "done 1930/2532\n",
      "done 1940/2532\n",
      "done 1950/2532\n",
      "done 1960/2532\n",
      "done 1970/2532\n",
      "done 1980/2532\n",
      "done 1990/2532\n",
      "done 2000/2532\n",
      "done 2010/2532\n",
      "done 2020/2532\n",
      "done 2030/2532\n",
      "done 2040/2532\n",
      "done 2050/2532\n",
      "done 2060/2532\n",
      "done 2070/2532\n",
      "done 2080/2532\n",
      "done 2090/2532\n",
      "done 2100/2532\n",
      "done 2110/2532\n",
      "done 2120/2532\n",
      "done 2130/2532\n",
      "done 2140/2532\n",
      "done 2150/2532\n",
      "done 2160/2532\n",
      "done 2170/2532\n",
      "done 2180/2532\n",
      "done 2190/2532\n",
      "done 2200/2532\n",
      "done 2210/2532\n",
      "done 2220/2532\n",
      "done 2230/2532\n",
      "done 2240/2532\n",
      "done 2250/2532\n",
      "done 2260/2532\n",
      "done 2270/2532\n",
      "done 2280/2532\n",
      "done 2290/2532\n",
      "done 2300/2532\n",
      "done 2310/2532\n",
      "done 2320/2532\n",
      "done 2330/2532\n",
      "done 2340/2532\n",
      "done 2350/2532\n",
      "done 2360/2532\n",
      "done 2370/2532\n",
      "done 2380/2532\n",
      "done 2390/2532\n",
      "done 2400/2532\n",
      "done 2410/2532\n",
      "done 2420/2532\n",
      "done 2430/2532\n",
      "done 2440/2532\n",
      "done 2450/2532\n",
      "done 2460/2532\n",
      "done 2470/2532\n",
      "done 2480/2532\n",
      "done 2490/2532\n",
      "done 2500/2532\n",
      "done 2510/2532\n",
      "done 2520/2532\n",
      "done 2530/2532\n"
     ]
    }
   ],
   "source": [
    "y_test_stacked = list()\n",
    "y_pred_stacked = list()\n",
    "\n",
    "for i in range(len(dataset_val)):\n",
    "    if i % 10 == 0:\n",
    "        print('done %s/%s' % (i, len(dataset_val)))\n",
    "        \n",
    "    x_batch, y_batch = dataset_val[i]\n",
    "    y_pred = model.predict(x_batch)\n",
    "    \n",
    "    y_test_stacked.append(y_batch[0])\n",
    "    y_pred_stacked.append(y_pred)"
   ]
  },
  {
   "cell_type": "code",
   "execution_count": 57,
   "metadata": {},
   "outputs": [
    {
     "name": "stdout",
     "output_type": "stream",
     "text": [
      "(40512, 80)\n",
      "(40512, 80)\n"
     ]
    }
   ],
   "source": [
    "y_test = np.vstack(y_test_stacked)\n",
    "y_pred = np.vstack(y_pred_stacked)\n",
    "\n",
    "print(y_test.shape)\n",
    "print(y_pred.shape)"
   ]
  },
  {
   "cell_type": "markdown",
   "metadata": {},
   "source": [
    "### mAP"
   ]
  },
  {
   "cell_type": "code",
   "execution_count": 59,
   "metadata": {},
   "outputs": [
    {
     "name": "stdout",
     "output_type": "stream",
     "text": [
      "ap scores type <class 'numpy.ndarray'>\n",
      "map score 0.6584996116819647\n"
     ]
    }
   ],
   "source": [
    "from model.metrics.map import MAP\n",
    "map_fn =  MAP()\n",
    "\n",
    "ap_scores = map_fn.compute_separated([y_test], y_pred)\n",
    "print('ap scores type %s' % type(ap_scores))\n",
    "map_score = sum(ap_scores) / len(ap_scores)\n",
    "print('map score %s' % map_score)"
   ]
  },
  {
   "cell_type": "markdown",
   "metadata": {},
   "source": [
    "## multi eval (writing in map.csv)"
   ]
  },
  {
   "cell_type": "code",
   "execution_count": null,
   "metadata": {},
   "outputs": [],
   "source": []
  },
  {
   "cell_type": "code",
   "execution_count": null,
   "metadata": {},
   "outputs": [],
   "source": [
    "def eval_model(exp_folder, prop='all', epoch='20'):\n",
    "    \n",
    "    # first create the list of all model weights to be evaluated\n",
    "    eval_weights = list()\n",
    "    for filename in os.path.listdir(exp_folder):\n",
    "        \n",
    "    weights_path = '/home/caleml/partial_experiments/exp_20190729_1614_baseline/weights_%s_020.h5' % prop\n",
    "    \n",
    "    # for each weight file create a new model\n",
    "    for \n",
    "    model = Baseline('/home/caleml/partial_experiments/', 80)\n",
    "    model.load_weights(weights_path)\n",
    "    "
   ]
  }
 ],
 "metadata": {
  "kernelspec": {
   "display_name": "Python 3",
   "language": "python",
   "name": "python3"
  },
  "language_info": {
   "codemirror_mode": {
    "name": "ipython",
    "version": 3
   },
   "file_extension": ".py",
   "mimetype": "text/x-python",
   "name": "python",
   "nbconvert_exporter": "python",
   "pygments_lexer": "ipython3",
   "version": "3.4.6"
  }
 },
 "nbformat": 4,
 "nbformat_minor": 2
}
