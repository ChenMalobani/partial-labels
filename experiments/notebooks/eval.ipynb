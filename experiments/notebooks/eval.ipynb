{
 "cells": [
  {
   "cell_type": "code",
   "execution_count": null,
   "metadata": {},
   "outputs": [],
   "source": [
    "%load_ext autoreload\n",
    "%autoreload 2"
   ]
  },
  {
   "cell_type": "code",
   "execution_count": null,
   "metadata": {},
   "outputs": [],
   "source": [
    "import os\n",
    "import sys\n",
    "\n",
    "print(sys.path)"
   ]
  },
  {
   "cell_type": "code",
   "execution_count": null,
   "metadata": {},
   "outputs": [],
   "source": [
    "import numpy as np\n",
    "import tensorflow as tf"
   ]
  },
  {
   "cell_type": "code",
   "execution_count": null,
   "metadata": {},
   "outputs": [],
   "source": [
    "from data.pascalvoc.pascalvoc import PascalVOC, NB_CLASSES"
   ]
  },
  {
   "cell_type": "code",
   "execution_count": null,
   "metadata": {},
   "outputs": [],
   "source": [
    "from model.networks.baseline import Baseline\n",
    "from model import metrics"
   ]
  },
  {
   "cell_type": "code",
   "execution_count": null,
   "metadata": {},
   "outputs": [],
   "source": [
    "import sklearn\n",
    "sklearn.__version__"
   ]
  },
  {
   "cell_type": "markdown",
   "metadata": {},
   "source": [
    "## val dataset"
   ]
  },
  {
   "cell_type": "code",
   "execution_count": null,
   "metadata": {},
   "outputs": [],
   "source": [
    "dataset_path = '/share/DEEPLEARNING/datasets/pascalvoc/'\n",
    "dataset_val = PascalVOC(dataset_path, 2510, 'val', x_keys=['image'], y_keys=['multilabel'])\n",
    "print(len(dataset_val))"
   ]
  },
  {
   "cell_type": "code",
   "execution_count": null,
   "metadata": {},
   "outputs": [],
   "source": [
    "x_val, y_val = dataset_val[0]"
   ]
  },
  {
   "cell_type": "markdown",
   "metadata": {},
   "source": [
    "## eval"
   ]
  },
  {
   "cell_type": "code",
   "execution_count": null,
   "metadata": {},
   "outputs": [],
   "source": [
    "map_metric = metrics.MAP()"
   ]
  },
  {
   "cell_type": "code",
   "execution_count": null,
   "metadata": {},
   "outputs": [],
   "source": [
    "partial_folder = '/home/caleml/partial_experiments/exp_20190624_1613_baseline'\n",
    "model_weights = {\n",
    "    'model_10': os.path.join(partial_folder, 'weights_10_020.h5'),\n",
    "    'model_20': os.path.join(partial_folder, 'weights_20_020.h5'),\n",
    "    'model_30': os.path.join(partial_folder, 'weights_30_003.h5'),\n",
    "    'model_100': '/home/caleml/partial_experiments/exp_20190621_1834_baseline/weights_007.h5'\n",
    "}"
   ]
  },
  {
   "cell_type": "code",
   "execution_count": null,
   "metadata": {},
   "outputs": [],
   "source": [
    "# eval loop\n",
    "model = Baseline(None, NB_CLASSES)\n",
    "\n",
    "for model_name, model_path in model_weights.items():\n",
    "    print('Doing model %s' % model_name)  \n",
    "    model.load_weights(model_path)\n",
    "    \n",
    "    y_pred = model.predict(x_val)\n",
    "    print('y pred example %s' % str(y_pred[0]))\n",
    "    \n",
    "    ap_scores = map_metric.compute_separated(y_val[0], y_pred)\n",
    "    print('ap scores for %s: %s' % (model_name, str(ap_scores)))\n",
    "    map_score = sum(ap_scores) / len(ap_scores)\n",
    "\n",
    "    print('%s: %s' % (model_name, map_score))"
   ]
  },
  {
   "cell_type": "code",
   "execution_count": null,
   "metadata": {},
   "outputs": [],
   "source": [
    "# print(y_val)\n",
    "print(type(y_val[0]))\n",
    "print(y_val[0].shape)\n",
    "print(y_pred_100.shape)\n",
    "\n",
    "print(y_pred_100[-1])\n",
    "print(y_pred_100[2])\n",
    "\n",
    "print(y_pred_10[-1])\n",
    "print(y_pred_10[2])\n",
    "\n",
    "print(y_pred_20[-1])\n",
    "print(y_pred_20[2])"
   ]
  },
  {
   "cell_type": "code",
   "execution_count": null,
   "metadata": {},
   "outputs": [],
   "source": [
    "print(y_val[0][0])"
   ]
  },
  {
   "cell_type": "code",
   "execution_count": null,
   "metadata": {},
   "outputs": [],
   "source": []
  }
 ],
 "metadata": {
  "kernelspec": {
   "display_name": "Python 3",
   "language": "python",
   "name": "python3"
  },
  "language_info": {
   "codemirror_mode": {
    "name": "ipython",
    "version": 3
   },
   "file_extension": ".py",
   "mimetype": "text/x-python",
   "name": "python",
   "nbconvert_exporter": "python",
   "pygments_lexer": "ipython3",
   "version": "3.6.5"
  }
 },
 "nbformat": 4,
 "nbformat_minor": 2
}
