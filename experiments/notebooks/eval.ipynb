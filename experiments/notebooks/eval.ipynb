{
 "cells": [
  {
   "cell_type": "code",
   "execution_count": 1,
   "metadata": {},
   "outputs": [],
   "source": [
    "%load_ext autoreload\n",
    "%autoreload 2"
   ]
  },
  {
   "cell_type": "code",
   "execution_count": 2,
   "metadata": {},
   "outputs": [
    {
     "name": "stdout",
     "output_type": "stream",
     "text": [
      "['/home/caleml/partial-labels/experiments/notebooks', '/home/caleml/partial-labels', '/usr/lib/python36.zip', '/usr/lib64/python3.6', '/usr/lib64/python3.6/lib-dynload', '', '/home/caleml/.local/lib/python3.6/site-packages', '/usr/lib64/python3.6/site-packages', '/usr/lib64/python3.6/_import_failed', '/usr/lib/python3.6/site-packages', '/usr/lib/python3.6/site-packages/IPython/extensions', '/home/caleml/.ipython']\n"
     ]
    }
   ],
   "source": [
    "import os\n",
    "import sys\n",
    "\n",
    "print(sys.path)"
   ]
  },
  {
   "cell_type": "code",
   "execution_count": 3,
   "metadata": {},
   "outputs": [],
   "source": [
    "import numpy as np\n",
    "import tensorflow as tf"
   ]
  },
  {
   "cell_type": "code",
   "execution_count": 4,
   "metadata": {},
   "outputs": [
    {
     "name": "stderr",
     "output_type": "stream",
     "text": [
      "Using TensorFlow backend.\n"
     ]
    }
   ],
   "source": [
    "from data.pascalvoc.pascalvoc import PascalVOC, NB_CLASSES"
   ]
  },
  {
   "cell_type": "code",
   "execution_count": 5,
   "metadata": {},
   "outputs": [],
   "source": [
    "from model.networks.baseline import Baseline\n",
    "from model import metrics"
   ]
  },
  {
   "cell_type": "code",
   "execution_count": 6,
   "metadata": {},
   "outputs": [],
   "source": [
    "import matplotlib\n",
    "import matplotlib.pyplot as plt"
   ]
  },
  {
   "cell_type": "code",
   "execution_count": 7,
   "metadata": {},
   "outputs": [
    {
     "data": {
      "text/plain": [
       "'0.21.3'"
      ]
     },
     "execution_count": 7,
     "metadata": {},
     "output_type": "execute_result"
    }
   ],
   "source": [
    "import sklearn\n",
    "sklearn.__version__"
   ]
  },
  {
   "cell_type": "code",
   "execution_count": 8,
   "metadata": {},
   "outputs": [
    {
     "ename": "ImportError",
     "evalue": "cannot import name 'parse_options_file'",
     "output_type": "error",
     "traceback": [
      "\u001b[0;31m---------------------------------------------------------------------------\u001b[0m",
      "\u001b[0;31mImportError\u001b[0m                               Traceback (most recent call last)",
      "\u001b[0;32m<ipython-input-8-fb51d5ec1ca2>\u001b[0m in \u001b[0;36m<module>\u001b[0;34m\u001b[0m\n\u001b[0;32m----> 1\u001b[0;31m \u001b[0;32mfrom\u001b[0m \u001b[0mexperiments\u001b[0m\u001b[0;34m.\u001b[0m\u001b[0mlaunch\u001b[0m \u001b[0;32mimport\u001b[0m \u001b[0mparse_options_file\u001b[0m\u001b[0;34m\u001b[0m\u001b[0m\n\u001b[0m\u001b[1;32m      2\u001b[0m \u001b[0;32mfrom\u001b[0m \u001b[0mconfig\u001b[0m \u001b[0;32mimport\u001b[0m \u001b[0mconfig_utils\u001b[0m\u001b[0;34m\u001b[0m\u001b[0m\n",
      "\u001b[0;31mImportError\u001b[0m: cannot import name 'parse_options_file'"
     ]
    }
   ],
   "source": [
    "from experiments.launch import parse_options_file\n",
    "from config import config_utils"
   ]
  },
  {
   "cell_type": "markdown",
   "metadata": {},
   "source": [
    "## val dataset"
   ]
  },
  {
   "cell_type": "code",
   "execution_count": null,
   "metadata": {},
   "outputs": [],
   "source": [
    "dataset_path = '/share/DEEPLEARNING/datasets/pascalvoc/'\n",
    "dataset_val = PascalVOC(dataset_path, 2510, 'val', x_keys=['image'], y_keys=['multilabel'])\n",
    "print(len(dataset_val))"
   ]
  },
  {
   "cell_type": "code",
   "execution_count": null,
   "metadata": {},
   "outputs": [],
   "source": [
    "x_val, y_val = dataset_val[0]"
   ]
  },
  {
   "cell_type": "markdown",
   "metadata": {},
   "source": [
    "## eval"
   ]
  },
  {
   "cell_type": "code",
   "execution_count": null,
   "metadata": {},
   "outputs": [],
   "source": []
  },
  {
   "cell_type": "code",
   "execution_count": null,
   "metadata": {},
   "outputs": [],
   "source": [
    "# partial_folder = '/home/caleml/partial_experiments/exp_20190624_1613_baseline'\n",
    "partial_folder = '/home/caleml/partial_experiments/exp_20190627_1641_baseline'\n",
    "model_weights = {\n",
    "    # 'model_10': os.path.join(partial_folder, 'weights_10_006.h5'),\n",
    "    # 'model_20': os.path.join(partial_folder, 'weights_20_020.h5'),\n",
    "    # 'model_30': os.path.join(partial_folder, 'weights_30_003.h5'),\n",
    "    'model_100': '/home/caleml/partial_experiments/exp_20190621_1834_baseline/weights_007.h5'\n",
    "}"
   ]
  },
  {
   "cell_type": "code",
   "execution_count": null,
   "metadata": {},
   "outputs": [],
   "source": [
    "# config loading\n",
    "# conf = parse_options_file(os.path.join(partial_folder, 'config.yaml'))\n",
    "conf = parse_options_file('/home/caleml/partial-labels/config/baseline101.yaml')\n",
    "config_utils.update_config(conf)"
   ]
  },
  {
   "cell_type": "code",
   "execution_count": null,
   "metadata": {},
   "outputs": [],
   "source": [
    "# eval loop\n",
    "\n",
    "for model_name, model_path in model_weights.items():\n",
    "    print('Doing model %s' % model_name)  \n",
    "    model = Baseline(None, NB_CLASSES)\n",
    "    model.load_weights(model_path)\n",
    "    \n",
    "    y_pred = model.predict(x_val)\n",
    "    print('y pred example %s' % str(y_pred[0]))\n",
    "    \n",
    "    map_metric = metrics.MAP()\n",
    "    map_2 = metrics.calculate_map(y_val[0], y_pred)\n",
    "    print('map2 %s' % map_2)\n",
    "    ap_scores = map_metric.compute_separated(y_val[0], y_pred)\n",
    "    # ap_scores = map_metric.compute_separated(y_pred, y_val[0])\n",
    "    print('ap scores for %s: %s' % (model_name, str(ap_scores)))\n",
    "    map_score = sum(ap_scores) / len(ap_scores)\n",
    "\n",
    "    print('%s: %s' % (model_name, map_score))"
   ]
  },
  {
   "cell_type": "code",
   "execution_count": null,
   "metadata": {},
   "outputs": [],
   "source": [
    "# print(y_val)\n",
    "print(type(y_val[0]))\n",
    "print(y_val[0].shape)\n",
    "print(y_pred_100.shape)\n",
    "\n",
    "print(y_pred_100[-1])\n",
    "print(y_pred_100[2])\n",
    "\n",
    "print(y_pred_10[-1])\n",
    "print(y_pred_10[2])\n",
    "\n",
    "print(y_pred_20[-1])\n",
    "print(y_pred_20[2])"
   ]
  },
  {
   "cell_type": "code",
   "execution_count": null,
   "metadata": {},
   "outputs": [],
   "source": [
    "print(y_val[0][0])"
   ]
  },
  {
   "cell_type": "markdown",
   "metadata": {},
   "source": [
    "## plot mAP"
   ]
  },
  {
   "cell_type": "code",
   "execution_count": null,
   "metadata": {},
   "outputs": [],
   "source": [
    "folder = '%s/partial_experiments/exp_20190628_0305_TEST_script' % os.environ['HOME']"
   ]
  },
  {
   "cell_type": "code",
   "execution_count": null,
   "metadata": {},
   "outputs": [],
   "source": [
    "from pprint import pprint"
   ]
  },
  {
   "cell_type": "code",
   "execution_count": null,
   "metadata": {},
   "outputs": [],
   "source": [
    "maps = dict()\n",
    "exp_pct = 0\n",
    "exp_maps = None\n",
    "\n",
    "with open(os.path.join(folder, 'map.csv'), 'r') as f_in:\n",
    "    for line in f_in:\n",
    "        parts = line.split(',')\n",
    "        epoch = parts[0]\n",
    "        mAP = parts[1]\n",
    "        \n",
    "        if int(epoch) == 0:\n",
    "            if exp_maps is not None:\n",
    "                maps[exp_pct] = exp_maps\n",
    "            \n",
    "            exp_pct += 10\n",
    "            exp_maps = list()\n",
    "        \n",
    "        exp_maps.append(mAP)\n",
    "        \n",
    "pprint(maps)\n",
    "            \n",
    "            \n",
    "            \n",
    "        "
   ]
  },
  {
   "cell_type": "code",
   "execution_count": null,
   "metadata": {},
   "outputs": [],
   "source": [
    "mAP_100 = 0.69"
   ]
  },
  {
   "cell_type": "code",
   "execution_count": null,
   "metadata": {},
   "outputs": [],
   "source": [
    "# Data for plotting\n",
    "x = sorted(list(maps.keys()))\n",
    "y = [float(maps[k][-1]) for k in x]\n",
    "\n",
    "x += [100]\n",
    "y += [mAP_100]\n",
    "\n",
    "fig, ax = plt.subplots()\n",
    "ax.plot(x, y)\n",
    "\n",
    "ax.set(xlabel='% known labels', ylabel='mAP')\n",
    "ax.grid()\n",
    "\n",
    "fig.savefig(\"test.png\")\n",
    "plt.show()"
   ]
  },
  {
   "cell_type": "markdown",
   "metadata": {},
   "source": [
    "## partial vs bce"
   ]
  },
  {
   "cell_type": "code",
   "execution_count": null,
   "metadata": {},
   "outputs": [],
   "source": [
    "bce = {\n",
    "    100: '/home/caleml/partial_experiments/exp_20190722_1214_baseline',\n",
    "    90: '/home/caleml/partial_experiments/exp_20190722_1233_baseline',\n",
    "    80: '/home/caleml/partial_experiments/exp_20190722_1413_baseline',\n",
    "    70: '/home/caleml/partial_experiments/exp_20190722_1233_baseline',\n",
    "    60: '/home/caleml/partial_experiments/exp_20190722_1413_baseline',\n",
    "    50: '/home/caleml/partial_experiments/exp_20190722_1233_baseline',\n",
    "    40: '/home/caleml/partial_experiments/exp_20190722_1413_baseline',\n",
    "    30: '/home/caleml/partial_experiments/exp_20190722_1233_baseline',\n",
    "    20: '/home/caleml/partial_experiments/exp_20190722_1413_baseline',\n",
    "    10: '/home/caleml/partial_experiments/exp_20190722_1233_baseline'\n",
    "}\n",
    "\n",
    "partial = {\n",
    "    100: '/home/caleml/partial_experiments/exp_20190722_1208_TESTNB',\n",
    "    90: '/home/caleml/partial_experiments/exp_20190722_1235_TESTNB',\n",
    "    80: '/home/caleml/partial_experiments/exp_20190722_1434_baseline/',\n",
    "    70: '/home/caleml/partial_experiments/exp_20190722_1318_baseline',\n",
    "    60: '/home/caleml/partial_experiments/exp_20190722_1416_TESTNB',\n",
    "    50: '/home/caleml/partial_experiments/exp_20190722_1346_TESTNB',\n",
    "    40: '/home/caleml/partial_experiments/exp_20190722_1359_baseline',\n",
    "    30: '/home/caleml/partial_experiments/exp_20190722_1350_baseline',\n",
    "    20: '/home/caleml/partial_experiments/exp_20190722_1444_baseline',\n",
    "    # 10: '/home/caleml/partial_experiments/exp_20190722_1257_TESTNB'\n",
    "}"
   ]
  },
  {
   "cell_type": "code",
   "execution_count": null,
   "metadata": {},
   "outputs": [],
   "source": [
    "coco_partial = {\n",
    "    100: '/home/caleml/partial_experiments/tensorboard/exp_20190723_0029_baseline',\n",
    "    90: '/home/caleml/partial_experiments/exp_20190723_0133_baseline'\n",
    "}\n",
    "\n",
    "coco_bce= {\n",
    "    100: '/home/caleml/partial_experiments/exp_20190723_0050_TESTNB',\n",
    "    90: '/home/caleml/partial_experiments/exp_20190723_0130_baseline'\n",
    "}"
   ]
  },
  {
   "cell_type": "code",
   "execution_count": null,
   "metadata": {},
   "outputs": [],
   "source": [
    "# PascalVOC 448 + LRS (sgd 0.01 -> 0.001@10)\n",
    "pv_bce = {\n",
    "    100: '/home/caleml/partial_experiments/exp_20190725_1516_baseline',\n",
    "    90: '/home/caleml/partial_experiments/exp_20190725_1710_baseline',\n",
    "    # 80: '/home/caleml/partial_experiments/exp_20190726_1531_baseline',\n",
    "    70: '/home/caleml/partial_experiments/exp_20190725_1710_baseline',\n",
    "    # 60: '/home/caleml/partial_experiments/exp_20190726_1531_baseline',\n",
    "    50: '/home/caleml/partial_experiments/exp_20190725_1710_baseline',\n",
    "    # 40: '/home/caleml/partial_experiments/exp_20190726_1531_baseline',\n",
    "    30: '/home/caleml/partial_experiments/exp_20190726_1126_baseline',\n",
    "    20: '/home/caleml/partial_experiments/exp_20190726_1126_baseline',\n",
    "    10: '/home/caleml/partial_experiments/exp_20190726_1126_baseline'\n",
    "    \n",
    "}\n",
    "\n",
    "pv_pbce = {\n",
    "    100: '/home/caleml/partial_experiments/exp_20190726_1141_baseline',\n",
    "    90: '/home/caleml/partial_experiments/exp_20190725_1711_baseline',\n",
    "    # 80: '/home/caleml/partial_experiments/exp_20190726_1532_baseline',\n",
    "    70: '/home/caleml/partial_experiments/exp_20190725_1711_baseline',\n",
    "    # 60: '/home/caleml/partial_experiments/exp_20190726_1532_baseline',\n",
    "    50: '/home/caleml/partial_experiments/exp_20190725_1711_baseline',\n",
    "    40: '/home/caleml/partial_experiments/exp_20190726_1532_baseline',\n",
    "    30: '/home/caleml/partial_experiments/exp_20190725_1711_baseline',\n",
    "    20: '/home/caleml/partial_experiments/exp_20190726_1127_baseline',\n",
    "    10: '/home/caleml/partial_experiments/exp_20190726_1127_baseline'\n",
    "}"
   ]
  },
  {
   "cell_type": "code",
   "execution_count": null,
   "metadata": {},
   "outputs": [],
   "source": [
    "# MSCoco 448 + LRS (sgd 0.01 -> 0.001@10)\n",
    "cc_bce = {\n",
    "    100: '/home/caleml/partial_experiments/exp_20190729_1635_baseline',\n",
    "    90: '/home/caleml/partial_experiments/exp_20190729_1718_baseline',\n",
    "    70: '/home/caleml/partial_experiments/exp_20190730_1451_baseline',\n",
    "    50: '/home/caleml/partial_experiments/exp_20190731_1119_baseline'\n",
    "}\n",
    "\n",
    "cc_pbce = {\n",
    "    100: '/home/caleml/partial_experiments/exp_20190729_1614_baseline',\n",
    "    90: '/home/caleml/partial_experiments/exp_20190729_1720_baseline',\n",
    "    70: '/home/caleml/partial_experiments/exp_20190730_1452_baseline'\n",
    "}"
   ]
  },
  {
   "cell_type": "code",
   "execution_count": null,
   "metadata": {},
   "outputs": [],
   "source": [
    "def find_map_data(folders):\n",
    "    # key: percent // val: best mAP\n",
    "    maps = dict()\n",
    "    \n",
    "    for pct, exp_folder in folders.items():\n",
    "        best_epoch = None\n",
    "        best_map = 0\n",
    "        \n",
    "        with open(os.path.join(exp_folder, 'map.csv'), 'r') as f_in:\n",
    "        \n",
    "            for line in f_in:\n",
    "                parts = line.split(',')\n",
    "\n",
    "                if len(parts) == 23:\n",
    "                    if int(parts[0]) != pct:\n",
    "                        continue\n",
    "                    epoch = int(parts[1])\n",
    "                    mAP = float(parts[2])\n",
    "\n",
    "                elif len(parts) == 22:\n",
    "                    epoch = int(parts[0])\n",
    "                    mAP = float(parts[1])\n",
    "                    \n",
    "                if mAP > best_map:\n",
    "                    best_map = mAP\n",
    "                    best_epoch = epoch\n",
    "\n",
    "        print(\"for percent %s, best map is %s at epoch %s\" % (pct, best_map, best_epoch))\n",
    "        maps[pct] = best_map\n",
    "    \n",
    "    return maps"
   ]
  },
  {
   "cell_type": "code",
   "execution_count": null,
   "metadata": {},
   "outputs": [],
   "source": [
    "bce_maps = find_map_data(pv_bce)\n",
    "partial_maps = find_map_data(pv_pbce)"
   ]
  },
  {
   "cell_type": "code",
   "execution_count": null,
   "metadata": {},
   "outputs": [],
   "source": [
    "# Data for plotting\n",
    "x_bce = sorted(list(bce_maps.keys()))\n",
    "y_bce = [float(bce_maps[k]) for k in x_bce]\n",
    "\n",
    "x_partial = sorted(list(partial_maps.keys()))\n",
    "y_partial = [float(partial_maps[k]) for k in x_partial]\n",
    "\n",
    "\n",
    "fig, ax = plt.subplots()\n",
    "ax.plot(x_bce, y_bce, label='bce')\n",
    "ax.plot(x_partial, y_partial, label='partial-bce')\n",
    "\n",
    "ax.set(xlabel='% known labels', ylabel='mAP')\n",
    "ax.legend()\n",
    "ax.grid()\n",
    "\n",
    "fig.savefig(\"eval_partial.png\")\n",
    "plt.show()"
   ]
  },
  {
   "cell_type": "code",
   "execution_count": null,
   "metadata": {},
   "outputs": [],
   "source": []
  },
  {
   "cell_type": "markdown",
   "metadata": {},
   "source": [
    "## Load and compute"
   ]
  },
  {
   "cell_type": "code",
   "execution_count": null,
   "metadata": {},
   "outputs": [],
   "source": [
    "from data.coco.coco import CocoGenerator\n"
   ]
  },
  {
   "cell_type": "code",
   "execution_count": null,
   "metadata": {},
   "outputs": [],
   "source": [
    "prop = 100"
   ]
  },
  {
   "cell_type": "code",
   "execution_count": null,
   "metadata": {},
   "outputs": [],
   "source": [
    "data_dir = '/share/DEEPLEARNING/datasets/mscoco'\n",
    "# data_dir = '/home/caleml/datasets/mscoco'\n",
    "dataset_test = CocoGenerator('val', data_dir)"
   ]
  },
  {
   "cell_type": "code",
   "execution_count": null,
   "metadata": {},
   "outputs": [],
   "source": [
    "# BatchNormalizationV1??\n",
    "from tensorflow.keras.models import load_model\n",
    "model_path = '/home/caleml/partial_experiments/exp_20190729_1614_baseline/model_100_020.h5'\n",
    "model = load_model(model_path)"
   ]
  },
  {
   "cell_type": "code",
   "execution_count": null,
   "metadata": {},
   "outputs": [],
   "source": [
    "# load model\n",
    "weights_path = '/home/caleml/partial_experiments/exp_20190729_1614_baseline/weights_100_020.h5'\n",
    "config_path = '/home/caleml/partial-labels/config/coco_baseline50_sgd_448lrs.yaml'\n",
    "model = Baseline('/home/caleml/partial_experiments/', 80)\n",
    "model.load_weights(weights_path, build_args={'p': prop / 100}, config_file=config_path)"
   ]
  },
  {
   "cell_type": "code",
   "execution_count": null,
   "metadata": {},
   "outputs": [],
   "source": [
    "# load val dataset (/!\\ LONG)\n",
    "batch_size = len(dataset_test)\n",
    "generator_test = dataset_test.flow(batch_size=batch_size)\n",
    "print(\"test data length %s\" % len(dataset_test))\n",
    "X_test, Y_test = next(generator_test)"
   ]
  },
  {
   "cell_type": "code",
   "execution_count": null,
   "metadata": {},
   "outputs": [],
   "source": [
    "# execute mAP measures\n",
    "from model import metrics\n",
    "map_fn =  metrics.MAP()\n",
    "\n",
    "y_pred = model.predict(X_test)\n",
    "ap_scores = map_fn.compute_separated(Y_test, y_pred)\n",
    "print('ap scores type %s' % type(ap_scores))\n",
    "map_score = sum(ap_scores) / len(ap_scores)\n",
    "\n",
    "with open(os.path.join(self.exp_folder, 'map.csv'), 'a') as f_out:\n",
    "    line = '%d,%d,%6f,' % (prop, epoch, map_score) + ','.join([str(s) for s in ap_scores]) + '\\n'\n",
    "    f_out.write(line)\n",
    "\n",
    "print(\"interval evaluation - epoch: {:d} - mAP score: {:.6f}\".format(epoch, map_score))"
   ]
  },
  {
   "cell_type": "code",
   "execution_count": null,
   "metadata": {},
   "outputs": [],
   "source": []
  },
  {
   "cell_type": "code",
   "execution_count": null,
   "metadata": {},
   "outputs": [],
   "source": [
    "def extract_folder_and_epoch(weights_path):\n",
    "    parts = weights_path.split('/')\n",
    "    parts_name = parts[-1].split('_')\n",
    "    assert len(parts_name) == 3\n",
    "    epoch = int(parts_name[1])\n",
    "    \n",
    "    exp_folder = '/'.join(parts[:-1])\n",
    "    return exp_folder, epoch"
   ]
  },
  {
   "cell_type": "code",
   "execution_count": null,
   "metadata": {},
   "outputs": [],
   "source": [
    "exp_folder, epoch = extract_folder_and_epoch(weights_path)\n",
    "print(exp_folder)\n",
    "print(epoch)"
   ]
  },
  {
   "cell_type": "markdown",
   "metadata": {},
   "source": [
    "## Test eval stream"
   ]
  },
  {
   "cell_type": "code",
   "execution_count": null,
   "metadata": {},
   "outputs": [],
   "source": [
    "from data.coco.coco2 import CocoGenerator"
   ]
  },
  {
   "cell_type": "code",
   "execution_count": null,
   "metadata": {},
   "outputs": [],
   "source": [
    "data_dir = '/home/caleml/datasets/mscoco/'"
   ]
  },
  {
   "cell_type": "code",
   "execution_count": null,
   "metadata": {},
   "outputs": [],
   "source": [
    "dataset_val = CocoGenerator(data_dir, 16, 'val', x_keys=['image', 'image_id'], y_keys=['multilabel'], year='2014')"
   ]
  },
  {
   "cell_type": "markdown",
   "metadata": {},
   "source": [
    "### model"
   ]
  },
  {
   "cell_type": "code",
   "execution_count": null,
   "metadata": {},
   "outputs": [],
   "source": [
    "prop = 100"
   ]
  },
  {
   "cell_type": "code",
   "execution_count": null,
   "metadata": {},
   "outputs": [],
   "source": [
    "weights_path = '/home/caleml/partial_experiments/exp_20190729_1614_baseline/weights_%s_020.h5' % prop\n",
    "model = Baseline('/home/caleml/partial_experiments/', 80)\n",
    "model.load_weights(weights_path)"
   ]
  },
  {
   "cell_type": "markdown",
   "metadata": {},
   "source": [
    "### predictions"
   ]
  },
  {
   "cell_type": "code",
   "execution_count": null,
   "metadata": {},
   "outputs": [],
   "source": [
    "y_test_stacked = list()\n",
    "y_pred_stacked = list()\n",
    "\n",
    "for i in range(len(dataset_val)):\n",
    "    if i % 10 == 0:\n",
    "        print('done %s/%s' % (i, len(dataset_val)))\n",
    "        \n",
    "    x_batch, y_batch = dataset_val[i]\n",
    "    y_pred = model.predict(x_batch)\n",
    "    \n",
    "    y_test_stacked.append(y_batch[0])\n",
    "    y_pred_stacked.append(y_pred)"
   ]
  },
  {
   "cell_type": "code",
   "execution_count": null,
   "metadata": {},
   "outputs": [],
   "source": [
    "y_test = np.vstack(y_test_stacked)\n",
    "y_pred = np.vstack(y_pred_stacked)\n",
    "\n",
    "print(y_test.shape)\n",
    "print(y_pred.shape)"
   ]
  },
  {
   "cell_type": "markdown",
   "metadata": {},
   "source": [
    "### mAP"
   ]
  },
  {
   "cell_type": "code",
   "execution_count": null,
   "metadata": {},
   "outputs": [],
   "source": [
    "from model.metrics.map import MAP\n",
    "map_fn =  MAP()\n",
    "\n",
    "ap_scores = map_fn.compute_separated([y_test], y_pred)\n",
    "print('ap scores type %s' % type(ap_scores))\n",
    "map_score = sum(ap_scores) / len(ap_scores)\n",
    "print('map score %s' % map_score)"
   ]
  },
  {
   "cell_type": "markdown",
   "metadata": {},
   "source": [
    "## multi eval (writing in map.csv)"
   ]
  },
  {
   "cell_type": "code",
   "execution_count": null,
   "metadata": {},
   "outputs": [],
   "source": [
    "a = [0, 1, -1, 1, 0, 0]\n",
    "b = [1, 1, -1, 1, 1, 0]\n",
    "c = [-1, 1, -1, 1, 1, 0]\n",
    "\n",
    "d = np.where(a == 0, )"
   ]
  },
  {
   "cell_type": "code",
   "execution_count": null,
   "metadata": {},
   "outputs": [],
   "source": [
    "a = (2, 3)\n",
    "b = a + (4,)\n",
    "print(a)\n",
    "print(b)"
   ]
  },
  {
   "cell_type": "code",
   "execution_count": null,
   "metadata": {},
   "outputs": [],
   "source": [
    "a = 0.87\n",
    "b = 0.67\n",
    "\n",
    "c = a / (a + b)\n",
    "d = b / (a + b)\n",
    "print(c)\n",
    "print(d)\n",
    "print(c + d)"
   ]
  },
  {
   "cell_type": "code",
   "execution_count": null,
   "metadata": {},
   "outputs": [],
   "source": [
    "def eval_model(exp_folder, prop='all', epoch='20'):\n",
    "    \n",
    "    # first create the list of all model weights to be evaluated\n",
    "    eval_weights = list()\n",
    "    for filename in os.path.listdir(exp_folder):\n",
    "        \n",
    "    weights_path = '/home/caleml/partial_experiments/exp_20190729_1614_baseline/weights_%s_020.h5' % prop\n",
    "    \n",
    "    # for each weight file create a new model\n",
    "    for \n",
    "    model = Baseline('/home/caleml/partial_experiments/', 80)\n",
    "    model.load_weights(weights_path)\n",
    "    "
   ]
  },
  {
   "cell_type": "code",
   "execution_count": null,
   "metadata": {},
   "outputs": [],
   "source": [
    "import numpy as np\n",
    "a = np.array([0, 1, -1, 1, 0, 0])\n",
    "b = np.array([0.23, 0.56, 0.009, 0.890, 0.9876, 0.011])\n",
    "\n",
    "c = np.where((a == 0) & (b > 0.5), b, 0)"
   ]
  },
  {
   "cell_type": "code",
   "execution_count": null,
   "metadata": {},
   "outputs": [],
   "source": [
    "c"
   ]
  },
  {
   "cell_type": "code",
   "execution_count": null,
   "metadata": {},
   "outputs": [],
   "source": [
    "a = np.random.random((8, 20, 2))"
   ]
  },
  {
   "cell_type": "code",
   "execution_count": null,
   "metadata": {},
   "outputs": [],
   "source": [
    "b = a[:,:,1]\n",
    "b.shape"
   ]
  },
  {
   "cell_type": "code",
   "execution_count": null,
   "metadata": {},
   "outputs": [],
   "source": [
    "sk = np.random.random((8, 20))"
   ]
  },
  {
   "cell_type": "code",
   "execution_count": null,
   "metadata": {},
   "outputs": [],
   "source": [
    "sk_0 = 1 - sk"
   ]
  },
  {
   "cell_type": "code",
   "execution_count": null,
   "metadata": {},
   "outputs": [],
   "source": [
    "print(sk[0])\n",
    "print(sk_0[0])"
   ]
  },
  {
   "cell_type": "markdown",
   "metadata": {},
   "source": [
    "## plotting epoch values for one percentage"
   ]
  },
  {
   "cell_type": "code",
   "execution_count": 26,
   "metadata": {},
   "outputs": [],
   "source": [
    "BASE_DIR = '/home/caleml/partial_experiments'"
   ]
  },
  {
   "cell_type": "code",
   "execution_count": 27,
   "metadata": {},
   "outputs": [],
   "source": [
    "def get_map(map_path, pct, step_range=None):\n",
    "    # key: epoch // val: mAP\n",
    "    maps = dict()\n",
    "    best_map = 0\n",
    "    best_epoch = None\n",
    "    \n",
    "    if not map_path.startswith('/'):\n",
    "        map_path = os.path.join(BASE_DIR, map_path)\n",
    "    \n",
    "    with open(map_path, 'r') as f_in:\n",
    "\n",
    "        for line in f_in:\n",
    "            parts = line.split(',')\n",
    "\n",
    "            if int(parts[0]) != pct:\n",
    "                continue\n",
    "                \n",
    "            epoch = int(parts[1])\n",
    "            mAP = float(parts[2])\n",
    "            \n",
    "            if step_range is not None:\n",
    "                if epoch < step_range[0] or epoch >= step_range[1]:\n",
    "                    continue\n",
    "            \n",
    "            maps[epoch] = mAP\n",
    "\n",
    "            if mAP > best_map:\n",
    "                best_map = mAP\n",
    "                best_epoch = epoch\n",
    "\n",
    "    range_info = '' if step_range is None else '(range %s)' % str(step_range)\n",
    "    print(\"for percent %s %s, best map is %s at epoch %s\" % (pct, range_info, best_map, best_epoch))\n",
    "    \n",
    "    return maps"
   ]
  },
  {
   "cell_type": "code",
   "execution_count": 17,
   "metadata": {},
   "outputs": [],
   "source": [
    "def get_plotting_data(exps_dict, percent, steps=None):\n",
    "    # Data for plotting\n",
    "    data = dict()\n",
    "\n",
    "    for exp_name, exp_mapfile in exps_dict.items():\n",
    "        \n",
    "        if steps is None:\n",
    "            maps = get_map(exp_mapfile, percent)\n",
    "            x_maps = sorted(list(maps.keys()))\n",
    "        \n",
    "            data[exp_name] = {'x': x_maps,\n",
    "                              'y': [float(maps[k]) for k in x_maps]}\n",
    "        else:\n",
    "            first_step = 0\n",
    "            for step in steps + [100]:\n",
    "                exp_name += '_step%s' % step\n",
    "                maps = get_map(exp_mapfile, percent, step_range=(first_step, step))\n",
    "                x_maps = np.array(sorted(list(maps.keys())))\n",
    "                \n",
    "                data[exp_name] = {\n",
    "                    'x': x_maps + step,\n",
    "                    'y': [float(maps[k]) for k in x_maps]\n",
    "                }\n",
    "                first_step = step\n",
    "                \n",
    "    return data\n"
   ]
  },
  {
   "cell_type": "code",
   "execution_count": 18,
   "metadata": {},
   "outputs": [],
   "source": [
    "# plotting\n",
    "def actual_plot(data, title=None):\n",
    "    fig, ax = plt.subplots()\n",
    "    for name, val in data.items():\n",
    "        ax.plot(val['x'], val['y'], label=name)\n",
    "\n",
    "    ax.set(xlabel='epoch', ylabel='mAP')\n",
    "    ax.legend()\n",
    "    ax.grid()\n",
    "\n",
    "    fig.suptitle(title)\n",
    "    fig.savefig(title)\n",
    "        \n",
    "    plt.show()"
   ]
  },
  {
   "cell_type": "code",
   "execution_count": 36,
   "metadata": {},
   "outputs": [],
   "source": [
    "def get_map_filenames(folder):\n",
    "    filenames = list()\n",
    "    for filename in os.listdir(os.path.join(BASE_DIR, folder)):\n",
    "        if filename.startswith('map') and filename.endswith('.csv'):\n",
    "            filenames.append(filename)\n",
    "    \n",
    "    return {'part%s' % i: '%s/%s' % (folder, filename) for i, filename in enumerate(sorted(filenames))}"
   ]
  },
  {
   "cell_type": "code",
   "execution_count": 37,
   "metadata": {},
   "outputs": [],
   "source": [
    "def plot_exps(folder):\n",
    "    exps = get_map_filenames(folder)\n",
    "    print(exps)\n",
    "    data = get_plotting_data(exps, percent)\n",
    "    actual_plot(data, folder)"
   ]
  },
  {
   "cell_type": "markdown",
   "metadata": {},
   "source": [
    "## Viz mAP per epoch"
   ]
  },
  {
   "cell_type": "code",
   "execution_count": 38,
   "metadata": {},
   "outputs": [],
   "source": [
    "percent = 10"
   ]
  },
  {
   "cell_type": "code",
   "execution_count": 39,
   "metadata": {},
   "outputs": [
    {
     "name": "stdout",
     "output_type": "stream",
     "text": [
      "{'part0': 'exp_20190925_1239_baseline/map.csv', 'part1': 'exp_20190925_1239_baseline/map1.csv'}\n",
      "for percent 10 , best map is 0.74859 at epoch 19\n",
      "for percent 10 , best map is 0.759602 at epoch 2\n"
     ]
    },
    {
     "data": {
      "image/png": "[encoded data removed]",
      "text/plain": [
       "<Figure size 432x288 with 1 Axes>"
      ]
     },
     "metadata": {
      "needs_background": "light"
     },
     "output_type": "display_data"
    }
   ],
   "source": [
    "# two steps\n",
    "plot_exps('exp_20190925_1239_baseline')"
   ]
  },
  {
   "cell_type": "code",
   "execution_count": 40,
   "metadata": {},
   "outputs": [
    {
     "name": "stdout",
     "output_type": "stream",
     "text": [
      "{'part0': 'exp_20190925_1745_baseline_logits/map.csv', 'part1': 'exp_20190925_1745_baseline_logits/map1.csv', 'part2': 'exp_20190925_1745_baseline_logits/map2.csv'}\n",
      "for percent 10 , best map is 0.751632 at epoch 9\n",
      "for percent 10 , best map is 0.764845 at epoch 4\n",
      "for percent 10 , best map is 0.766318 at epoch 3\n"
     ]
    },
    {
     "data": {
      "image/png": "[encoded data removed]",
      "text/plain": [
       "<Figure size 432x288 with 1 Axes>"
      ]
     },
     "metadata": {
      "needs_background": "light"
     },
     "output_type": "display_data"
    }
   ],
   "source": [
    "# baseline strat A\n",
    "plot_exps('exp_20190925_1745_baseline_logits')"
   ]
  },
  {
   "cell_type": "code",
   "execution_count": 41,
   "metadata": {},
   "outputs": [
    {
     "name": "stdout",
     "output_type": "stream",
     "text": [
      "{'part0': 'exp_20190925_1833_baseline_logits/map.csv', 'part1': 'exp_20190925_1833_baseline_logits/map1.csv', 'part2': 'exp_20190925_1833_baseline_logits/map2.csv'}\n",
      "for percent 10 , best map is 0.748432 at epoch 9\n",
      "for percent 10 , best map is 0.754357 at epoch 4\n",
      "for percent 10 , best map is 0.736456 at epoch 4\n"
     ]
    },
    {
     "data": {
      "image/png": "[encoded data removed]",
      "text/plain": [
       "<Figure size 432x288 with 1 Axes>"
      ]
     },
     "metadata": {
      "needs_background": "light"
     },
     "output_type": "display_data"
    }
   ],
   "source": [
    "# baseline strat C\n",
    "plot_exps('exp_20190925_1833_baseline_logits')"
   ]
  },
  {
   "cell_type": "code",
   "execution_count": 42,
   "metadata": {},
   "outputs": [
    {
     "name": "stdout",
     "output_type": "stream",
     "text": [
      "{'part0': 'exp_20190926_1045_baseline_logits/map.csv', 'part1': 'exp_20190926_1045_baseline_logits/map1.csv', 'part2': 'exp_20190926_1045_baseline_logits/map2.csv'}\n",
      "for percent 10 , best map is 0.760145 at epoch 9\n",
      "for percent 10 , best map is 0.763318 at epoch 4\n",
      "for percent 10 , best map is 0.771762 at epoch 4\n"
     ]
    },
    {
     "data": {
      "image/png": "[encoded data removed]",
      "text/plain": [
       "<Figure size 432x288 with 1 Axes>"
      ]
     },
     "metadata": {
      "needs_background": "light"
     },
     "output_type": "display_data"
    }
   ],
   "source": [
    "# baseline strat B\n",
    "plot_exps('exp_20190926_1045_baseline_logits')"
   ]
  },
  {
   "cell_type": "code",
   "execution_count": 45,
   "metadata": {},
   "outputs": [
    {
     "name": "stdout",
     "output_type": "stream",
     "text": [
      "{'part0': 'exp_20190926_1624_baseline_logits/map.csv', 'part1': 'exp_20190926_1624_baseline_logits/map1.csv', 'part2': 'exp_20190926_1624_baseline_logits/map2.csv'}\n",
      "for percent 10 , best map is 0.652678 at epoch 9\n",
      "for percent 10 , best map is 0.655586 at epoch 4\n",
      "for percent 10 , best map is 0.661988 at epoch 2\n"
     ]
    },
    {
     "data": {
      "image/png": "[encoded data removed]",
      "text/plain": [
       "<Figure size 432x288 with 1 Axes>"
      ]
     },
     "metadata": {
      "needs_background": "light"
     },
     "output_type": "display_data"
    }
   ],
   "source": [
    "# scenario B different split\n",
    "plot_exps('exp_20190926_1624_baseline_logits')"
   ]
  },
  {
   "cell_type": "code",
   "execution_count": 44,
   "metadata": {},
   "outputs": [
    {
     "name": "stdout",
     "output_type": "stream",
     "text": [
      "{'part0': 'exp_20191001_1703_baseline_logits/map.csv', 'part1': 'exp_20191001_1703_baseline_logits/map1.csv', 'part2': 'exp_20191001_1703_baseline_logits/map2.csv'}\n",
      "for percent 10 , best map is 0.761388 at epoch 9\n",
      "for percent 10 , best map is 0.68572 at epoch 2\n",
      "for percent 10 , best map is 0.645665 at epoch 1\n"
     ]
    },
    {
     "data": {
      "image/png": "[encoded data removed]",
      "text/plain": [
       "<Figure size 432x288 with 1 Axes>"
      ]
     },
     "metadata": {
      "needs_background": "light"
     },
     "output_type": "display_data"
    }
   ],
   "source": [
    "# test prior2 40 / 40\n",
    "plot_exps('exp_20191001_1703_baseline_logits')"
   ]
  },
  {
   "cell_type": "code",
   "execution_count": 46,
   "metadata": {},
   "outputs": [
    {
     "name": "stdout",
     "output_type": "stream",
     "text": [
      "{'part0': 'exp_20191007_1907_baseline_logits/map.csv', 'part1': 'exp_20191007_1907_baseline_logits/map1.csv', 'part2': 'exp_20191007_1907_baseline_logits/map2.csv'}\n",
      "for percent 10 , best map is 0.746745 at epoch 9\n",
      "for percent 10 , best map is 0.671099 at epoch 2\n",
      "for percent 10 , best map is 0.62467 at epoch 2\n"
     ]
    },
    {
     "data": {
      "image/png": "[encoded data removed]",
      "text/plain": [
       "<Figure size 432x288 with 1 Axes>"
      ]
     },
     "metadata": {
      "needs_background": "light"
     },
     "output_type": "display_data"
    }
   ],
   "source": [
    "# test prior3 40/40\n",
    "plot_exps('exp_20191007_1907_baseline_logits')"
   ]
  },
  {
   "cell_type": "code",
   "execution_count": 47,
   "metadata": {},
   "outputs": [
    {
     "name": "stdout",
     "output_type": "stream",
     "text": [
      "{'part0': 'exp_20191009_1546_baseline_logits/map.csv', 'part1': 'exp_20191009_1546_baseline_logits/map1.csv', 'part2': 'exp_20191009_1546_baseline_logits/map2.csv'}\n",
      "for percent 10 , best map is 0.738644 at epoch 13\n",
      "for percent 10 , best map is 0.754215 at epoch 3\n",
      "for percent 10 , best map is 0.746527 at epoch 4\n"
     ]
    },
    {
     "data": {
      "image/png": "[encoded data removed]",
      "text/plain": [
       "<Figure size 432x288 with 1 Axes>"
      ]
     },
     "metadata": {
      "needs_background": "light"
     },
     "output_type": "display_data"
    }
   ],
   "source": [
    "# fixed budget prior (+1.56)\n",
    "plot_exps('exp_20191009_1546_baseline_logits')"
   ]
  },
  {
   "cell_type": "code",
   "execution_count": 48,
   "metadata": {},
   "outputs": [
    {
     "name": "stdout",
     "output_type": "stream",
     "text": [
      "{'part0': 'exp_20191009_1641_baseline_logits/map.csv', 'part1': 'exp_20191009_1641_baseline_logits/map1.csv', 'part2': 'exp_20191009_1641_baseline_logits/map2.csv'}\n",
      "for percent 10 , best map is 0.728855 at epoch 14\n",
      "for percent 10 , best map is 0.750987 at epoch 4\n",
      "for percent 10 , best map is 0.750469 at epoch 3\n"
     ]
    },
    {
     "data": {
      "image/png": "[encoded data removed]",
      "text/plain": [
       "<Figure size 432x288 with 1 Axes>"
      ]
     },
     "metadata": {
      "needs_background": "light"
     },
     "output_type": "display_data"
    }
   ],
   "source": [
    "# fixed budget sans prior (+2.21)\n",
    "plot_exps('exp_20191009_1641_baseline_logits')"
   ]
  },
  {
   "cell_type": "code",
   "execution_count": 51,
   "metadata": {},
   "outputs": [],
   "source": [
    "a = ['id1', 0, 1, -1, 0, -1]\n",
    "b = ['id2', -1, 1, 0, -1, 1]\n",
    "c = ['id3', 0, -1, 0, 1, -1]\n",
    "\n",
    "x_batch = np.array([np.vstack([a, b, c])])"
   ]
  },
  {
   "cell_type": "code",
   "execution_count": 53,
   "metadata": {},
   "outputs": [
    {
     "name": "stdout",
     "output_type": "stream",
     "text": [
      "(1, 3, 6)\n"
     ]
    },
    {
     "data": {
      "text/plain": [
       "array([[['id1', '0', '1', '-1', '0', '-1'],\n",
       "        ['id2', '-1', '1', '0', '-1', '1'],\n",
       "        ['id3', '0', '-1', '0', '1', '-1']]], dtype='<U3')"
      ]
     },
     "execution_count": 53,
     "metadata": {},
     "output_type": "execute_result"
    }
   ],
   "source": [
    "print(x_batch.shape)\n",
    "x_batch"
   ]
  },
  {
   "cell_type": "code",
   "execution_count": 55,
   "metadata": {},
   "outputs": [
    {
     "data": {
      "text/plain": [
       "'id2'"
      ]
     },
     "execution_count": 55,
     "metadata": {},
     "output_type": "execute_result"
    }
   ],
   "source": [
    "x_batch[0][1][0]"
   ]
  },
  {
   "cell_type": "code",
   "execution_count": 56,
   "metadata": {},
   "outputs": [
    {
     "data": {
      "text/plain": [
       "array(['id1', 'id2', 'id3'], dtype='<U3')"
      ]
     },
     "execution_count": 56,
     "metadata": {},
     "output_type": "execute_result"
    }
   ],
   "source": [
    "x_batch[0,:,0]"
   ]
  },
  {
   "cell_type": "code",
   "execution_count": 58,
   "metadata": {},
   "outputs": [
    {
     "ename": "TypeError",
     "evalue": "list indices must be integers or slices, not tuple",
     "output_type": "error",
     "traceback": [
      "\u001b[0;31m---------------------------------------------------------------------------\u001b[0m",
      "\u001b[0;31mTypeError\u001b[0m                                 Traceback (most recent call last)",
      "\u001b[0;32m<ipython-input-58-6771d2d96195>\u001b[0m in \u001b[0;36m<module>\u001b[0;34m\u001b[0m\n\u001b[1;32m      1\u001b[0m \u001b[0md\u001b[0m \u001b[0;34m=\u001b[0m \u001b[0;34m[\u001b[0m\u001b[0;36m0\u001b[0m\u001b[0;34m,\u001b[0m \u001b[0;36m1\u001b[0m\u001b[0;34m,\u001b[0m \u001b[0;34m-\u001b[0m\u001b[0;36m1\u001b[0m\u001b[0;34m,\u001b[0m \u001b[0;36m0\u001b[0m\u001b[0;34m,\u001b[0m \u001b[0;34m-\u001b[0m\u001b[0;36m1\u001b[0m\u001b[0;34m]\u001b[0m\u001b[0;34m\u001b[0m\u001b[0m\n\u001b[0;32m----> 2\u001b[0;31m \u001b[0md\u001b[0m\u001b[0;34m[\u001b[0m\u001b[0;34m(\u001b[0m\u001b[0;36m1\u001b[0m\u001b[0;34m,\u001b[0m \u001b[0;36m2\u001b[0m\u001b[0;34m,\u001b[0m \u001b[0;36m3\u001b[0m\u001b[0;34m)\u001b[0m\u001b[0;34m]\u001b[0m\u001b[0;34m\u001b[0m\u001b[0m\n\u001b[0m",
      "\u001b[0;31mTypeError\u001b[0m: list indices must be integers or slices, not tuple"
     ]
    }
   ],
   "source": [
    "d = [0, 1, -1, 0, -1]\n",
    "d[(1, 2, 3)]"
   ]
  },
  {
   "cell_type": "code",
   "execution_count": 59,
   "metadata": {},
   "outputs": [],
   "source": [
    "from sklearn import metrics"
   ]
  },
  {
   "cell_type": "code",
   "execution_count": 61,
   "metadata": {},
   "outputs": [],
   "source": [
    "a = np.array([0, 1, 0, 0, 1, 0])\n",
    "b = np.array([0.1, 0.99, 0.0001, 0.02, 0.97, 0.23])\n",
    "\n",
    "map_score = metrics.average_precision_score(a, b)"
   ]
  },
  {
   "cell_type": "code",
   "execution_count": 62,
   "metadata": {},
   "outputs": [
    {
     "data": {
      "text/plain": [
       "1.0"
      ]
     },
     "execution_count": 62,
     "metadata": {},
     "output_type": "execute_result"
    }
   ],
   "source": [
    "map_score"
   ]
  },
  {
   "cell_type": "code",
   "execution_count": 63,
   "metadata": {},
   "outputs": [
    {
     "name": "stdout",
     "output_type": "stream",
     "text": [
      "tr\n"
     ]
    }
   ],
   "source": [
    "a = 'trucmiche'\n",
    "b = a[:2]\n",
    "\n",
    "print(b)"
   ]
  },
  {
   "cell_type": "code",
   "execution_count": 64,
   "metadata": {},
   "outputs": [
    {
     "name": "stdout",
     "output_type": "stream",
     "text": [
      "ae: 0\n",
      "fo: 0\n",
      "ve: 1\n"
     ]
    }
   ],
   "source": [
    "from collections import defaultdict\n",
    "\n",
    "c = defaultdict(lambda: 0)\n",
    "\n",
    "c['ae'] += 0\n",
    "c['ve'] += 1\n",
    "c['fo'] += 0\n",
    "\n",
    "for cshort in sorted(c):\n",
    "    print('%s: %s' % (cshort, c[cshort]))"
   ]
  },
  {
   "cell_type": "code",
   "execution_count": 65,
   "metadata": {},
   "outputs": [],
   "source": [
    "import itertools"
   ]
  },
  {
   "cell_type": "code",
   "execution_count": 81,
   "metadata": {},
   "outputs": [],
   "source": [
    "a = list(itertools.combinations([0, 1, 2, 3, 4, 5, 6, 7, 8, 9, 10, 11, 12, 13, 14, 15, 16, 17, 18], r=2))"
   ]
  },
  {
   "cell_type": "code",
   "execution_count": 82,
   "metadata": {},
   "outputs": [
    {
     "name": "stdout",
     "output_type": "stream",
     "text": [
      "[(0, 1), (0, 2), (0, 3), (0, 4), (0, 5), (0, 6), (0, 7), (0, 8), (0, 9), (0, 10), (0, 11), (0, 12), (0, 13), (0, 14), (0, 15), (0, 16), (0, 17), (0, 18), (1, 2), (1, 3), (1, 4), (1, 5), (1, 6), (1, 7), (1, 8), (1, 9), (1, 10), (1, 11), (1, 12), (1, 13), (1, 14), (1, 15), (1, 16), (1, 17), (1, 18), (2, 3), (2, 4), (2, 5), (2, 6), (2, 7), (2, 8), (2, 9), (2, 10), (2, 11), (2, 12), (2, 13), (2, 14), (2, 15), (2, 16), (2, 17), (2, 18), (3, 4), (3, 5), (3, 6), (3, 7), (3, 8), (3, 9), (3, 10), (3, 11), (3, 12), (3, 13), (3, 14), (3, 15), (3, 16), (3, 17), (3, 18), (4, 5), (4, 6), (4, 7), (4, 8), (4, 9), (4, 10), (4, 11), (4, 12), (4, 13), (4, 14), (4, 15), (4, 16), (4, 17), (4, 18), (5, 6), (5, 7), (5, 8), (5, 9), (5, 10), (5, 11), (5, 12), (5, 13), (5, 14), (5, 15), (5, 16), (5, 17), (5, 18), (6, 7), (6, 8), (6, 9), (6, 10), (6, 11), (6, 12), (6, 13), (6, 14), (6, 15), (6, 16), (6, 17), (6, 18), (7, 8), (7, 9), (7, 10), (7, 11), (7, 12), (7, 13), (7, 14), (7, 15), (7, 16), (7, 17), (7, 18), (8, 9), (8, 10), (8, 11), (8, 12), (8, 13), (8, 14), (8, 15), (8, 16), (8, 17), (8, 18), (9, 10), (9, 11), (9, 12), (9, 13), (9, 14), (9, 15), (9, 16), (9, 17), (9, 18), (10, 11), (10, 12), (10, 13), (10, 14), (10, 15), (10, 16), (10, 17), (10, 18), (11, 12), (11, 13), (11, 14), (11, 15), (11, 16), (11, 17), (11, 18), (12, 13), (12, 14), (12, 15), (12, 16), (12, 17), (12, 18), (13, 14), (13, 15), (13, 16), (13, 17), (13, 18), (14, 15), (14, 16), (14, 17), (14, 18), (15, 16), (15, 17), (15, 18), (16, 17), (16, 18), (17, 18)]\n",
      "171\n"
     ]
    }
   ],
   "source": [
    "print(a)\n",
    "print(len(a))"
   ]
  },
  {
   "cell_type": "code",
   "execution_count": 83,
   "metadata": {},
   "outputs": [
    {
     "data": {
      "text/plain": [
       "0"
      ]
     },
     "execution_count": 83,
     "metadata": {},
     "output_type": "execute_result"
    }
   ],
   "source": [
    "sum([])"
   ]
  },
  {
   "cell_type": "code",
   "execution_count": 84,
   "metadata": {},
   "outputs": [
    {
     "data": {
      "text/plain": [
       "[(0, 0), (0, 1), (1, 0), (1, 1)]"
      ]
     },
     "execution_count": 84,
     "metadata": {},
     "output_type": "execute_result"
    }
   ],
   "source": [
    "list(itertools.product([0, 1], repeat=2))"
   ]
  },
  {
   "cell_type": "code",
   "execution_count": 91,
   "metadata": {},
   "outputs": [],
   "source": [
    "\n",
    "truc = ['a', 'b', 'c', 'd']\n",
    "truc.remove('b')"
   ]
  },
  {
   "cell_type": "code",
   "execution_count": 92,
   "metadata": {},
   "outputs": [
    {
     "data": {
      "text/plain": [
       "['a', 'c', 'd']"
      ]
     },
     "execution_count": 92,
     "metadata": {},
     "output_type": "execute_result"
    }
   ],
   "source": [
    "truc"
   ]
  },
  {
   "cell_type": "code",
   "execution_count": 1,
   "metadata": {},
   "outputs": [
    {
     "data": {
      "text/plain": [
       "3"
      ]
     },
     "execution_count": 1,
     "metadata": {},
     "output_type": "execute_result"
    }
   ],
   "source": [
    "a = 'a_b_c_d'\n",
    "a.count('_')"
   ]
  },
  {
   "cell_type": "code",
   "execution_count": 6,
   "metadata": {},
   "outputs": [],
   "source": [
    "import numpy as np\n",
    "logit = -11.602503 -3.5809396998852367\n",
    "prob =  1.0 / (1.0 + np.exp(-logit))"
   ]
  },
  {
   "cell_type": "code",
   "execution_count": 7,
   "metadata": {},
   "outputs": [
    {
     "data": {
      "text/plain": [
       "2.546328955041807e-07"
      ]
     },
     "execution_count": 7,
     "metadata": {},
     "output_type": "execute_result"
    }
   ],
   "source": [
    "prob"
   ]
  },
  {
   "cell_type": "code",
   "execution_count": 8,
   "metadata": {},
   "outputs": [
    {
     "data": {
      "text/plain": [
       "2.546329406057763e-07"
      ]
     },
     "execution_count": 8,
     "metadata": {},
     "output_type": "execute_result"
    }
   ],
   "source": [
    "2.546329406057763e-07\n"
   ]
  },
  {
   "cell_type": "code",
   "execution_count": 12,
   "metadata": {},
   "outputs": [],
   "source": [
    "def logit(values):\n",
    "    return np.log(values / (1 - values))"
   ]
  },
  {
   "cell_type": "code",
   "execution_count": 13,
   "metadata": {},
   "outputs": [],
   "source": [
    "p1 = 0.027094934950412524\n",
    "p0 = 0.9729050650495875\n",
    "p = p1 / (p1 + p0)"
   ]
  },
  {
   "cell_type": "code",
   "execution_count": 14,
   "metadata": {},
   "outputs": [
    {
     "data": {
      "text/plain": [
       "-3.5809396998852367"
      ]
     },
     "execution_count": 14,
     "metadata": {},
     "output_type": "execute_result"
    }
   ],
   "source": [
    "logit(p)"
   ]
  },
  {
   "cell_type": "code",
   "execution_count": null,
   "metadata": {},
   "outputs": [],
   "source": [
    "# the y_p logit should be\n",
    "-3.5809396998852367"
   ]
  },
  {
   "cell_type": "code",
   "execution_count": null,
   "metadata": {},
   "outputs": [],
   "source": [
    "p1 = 0.027094934950412524\n",
    "p0 = 0.9729050650495875\n",
    "p = p1 / (p1 + p0)"
   ]
  },
  {
   "cell_type": "code",
   "execution_count": null,
   "metadata": {},
   "outputs": [],
   "source": [
    "example for class 0\n",
    "[ 0 -1 -1 -1 -1 -1 -1 -1  0 -1 -1 -1 -1 -1 -1 -1 -1 -1 -1 -1]\n",
    "context key\n",
    "bc0_bi0_bo0_bt0_bu0_ca0_co0_cr0_do0_dt0_ho0_mo0_pe0_pp0_sh0_so0_tr0_tv0\n",
    "prob0 0.9729050650495875, prob1 0.027094934950412524"
   ]
  },
  {
   "cell_type": "code",
   "execution_count": null,
   "metadata": {},
   "outputs": [],
   "source": [
    "example for class 0\n",
    "[ 0  0 -1 -1 -1 -1 -1 -1  1 -1 -1 -1 -1 -1 -1 -1 -1 -1 -1 -1]\n",
    "context key\n",
    "bi0_bo0_bt0_bu0_ca0_ch1_co0_cr0_do0_dt0_ho0_mo0_pe0_pp0_sh0_so0_tr0_tv0\n",
    "prob0 0.9729050650495875, prob1 0.027094934950412524"
   ]
  },
  {
   "cell_type": "code",
   "execution_count": 22,
   "metadata": {},
   "outputs": [],
   "source": [
    "a = set([1, 2, 3, 4])\n",
    "b = set([1, 2, 5])"
   ]
  },
  {
   "cell_type": "code",
   "execution_count": 23,
   "metadata": {},
   "outputs": [
    {
     "data": {
      "text/plain": [
       "False"
      ]
     },
     "execution_count": 23,
     "metadata": {},
     "output_type": "execute_result"
    }
   ],
   "source": [
    "len((b - a)) == 0"
   ]
  },
  {
   "cell_type": "code",
   "execution_count": null,
   "metadata": {},
   "outputs": [],
   "source": []
  }
 ],
 "metadata": {
  "kernelspec": {
   "display_name": "Python 3",
   "language": "python",
   "name": "python3"
  },
  "language_info": {
   "codemirror_mode": {
    "name": "ipython",
    "version": 3
   },
   "file_extension": ".py",
   "mimetype": "text/x-python",
   "name": "python",
   "nbconvert_exporter": "python",
   "pygments_lexer": "ipython3",
   "version": "3.6.5"
  }
 },
 "nbformat": 4,
 "nbformat_minor": 2
}
