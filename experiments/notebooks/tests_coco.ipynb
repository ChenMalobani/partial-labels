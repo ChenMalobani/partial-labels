{
 "cells": [
  {
   "cell_type": "code",
   "execution_count": 1,
   "metadata": {},
   "outputs": [],
   "source": [
    "%load_ext autoreload\n",
    "%autoreload 2"
   ]
  },
  {
   "cell_type": "code",
   "execution_count": 2,
   "metadata": {},
   "outputs": [],
   "source": [
    "from tensorflow.keras.applications import ResNet50"
   ]
  },
  {
   "cell_type": "code",
   "execution_count": 3,
   "metadata": {},
   "outputs": [],
   "source": [
    "import numpy as np\n",
    "from sklearn import metrics"
   ]
  },
  {
   "cell_type": "code",
   "execution_count": 16,
   "metadata": {},
   "outputs": [],
   "source": [
    "from tensorflow.keras import Model, Sequential\n",
    "from tensorflow.keras.optimizers import SGD\n",
    "from tensorflow.keras.layers import Dense, Flatten, Input\n",
    "from tensorflow.keras.models import load_model\n",
    "from tensorflow.keras.callbacks import LearningRateScheduler"
   ]
  },
  {
   "cell_type": "code",
   "execution_count": 5,
   "metadata": {},
   "outputs": [],
   "source": [
    "import json\n",
    "import os\n",
    "\n",
    "from pprint import pprint"
   ]
  },
  {
   "cell_type": "code",
   "execution_count": 6,
   "metadata": {},
   "outputs": [
    {
     "name": "stderr",
     "output_type": "stream",
     "text": [
      "Using TensorFlow backend.\n"
     ]
    }
   ],
   "source": [
    "from data.coco.coco import CocoGenerator"
   ]
  },
  {
   "cell_type": "code",
   "execution_count": 15,
   "metadata": {},
   "outputs": [],
   "source": [
    "from model.callbacks.metric_callbacks import MAPCallback\n",
    "from model.callbacks.save_callback import SaveModel\n",
    "from model.callbacks.scheduler import lr_scheduler"
   ]
  },
  {
   "cell_type": "code",
   "execution_count": 8,
   "metadata": {},
   "outputs": [],
   "source": [
    "from model.losses import BCE, PartialBCE"
   ]
  },
  {
   "cell_type": "code",
   "execution_count": 17,
   "metadata": {},
   "outputs": [],
   "source": [
    "from config import config_utils\n",
    "from model.utils.config import cfg\n",
    "from experiments.launch import parse_options_file"
   ]
  },
  {
   "cell_type": "code",
   "execution_count": 9,
   "metadata": {},
   "outputs": [],
   "source": [
    "prop = 100"
   ]
  },
  {
   "cell_type": "code",
   "execution_count": 14,
   "metadata": {},
   "outputs": [
    {
     "name": "stdout",
     "output_type": "stream",
     "text": [
      "\n",
      "========================\n",
      "Loaded config\n",
      "\n",
      "{'archi': {'classifier': 'resnet50', 'loss': 'bce', 'name': 'baseline'},\n",
      " 'batch_size': 32,\n",
      " 'callbacks': {'lr_factor': 0.1, 'lr_trigger': [10]},\n",
      " 'dataset': {'name': 'pascalvoc',\n",
      "             'path': '/home/caleml/datasets/pascalvoc/VOCdevkit/VOC2007/',\n",
      "             'test': 'test',\n",
      "             'train': 'trainval'},\n",
      " 'image': {'img_size': 448},\n",
      " 'training': {'n_epochs': 20, 'optimizer': 'sgd', 'start_lr': 0.01}}\n",
      "========================\n",
      "\n"
     ]
    },
    {
     "data": {
      "text/plain": [
       "{'archi': {'classifier': 'resnet50', 'loss': 'bce', 'name': 'baseline'},\n",
       " 'batch_size': 32,\n",
       " 'callbacks': {'lr_factor': 0.1, 'lr_trigger': [10]},\n",
       " 'dataset': {'name': 'pascalvoc',\n",
       "  'path': '/home/caleml/datasets/pascalvoc/VOCdevkit/VOC2007/',\n",
       "  'test': 'test',\n",
       "  'train': 'trainval'},\n",
       " 'image': {'img_size': 448},\n",
       " 'training': {'n_epochs': 20, 'optimizer': 'sgd', 'start_lr': 0.01}}"
      ]
     },
     "execution_count": 14,
     "metadata": {},
     "output_type": "execute_result"
    }
   ],
   "source": [
    "parse_options_file('/home/caleml/partial-labels/config/pv_baseline50_sgd_448lrs.yaml')"
   ]
  },
  {
   "cell_type": "markdown",
   "metadata": {},
   "source": [
    "# datasets"
   ]
  },
  {
   "cell_type": "code",
   "execution_count": null,
   "metadata": {},
   "outputs": [],
   "source": [
    "# train\n",
    "train_dataset = CocoGenerator('train', '/share/DEEPLEARNING/datasets/mscoco', prop=prop)"
   ]
  },
  {
   "cell_type": "code",
   "execution_count": null,
   "metadata": {},
   "outputs": [],
   "source": [
    "generator_train = train_dataset.flow(batch_size=2)\n",
    "X_train, Y_train = next(generator_train)"
   ]
  },
  {
   "cell_type": "code",
   "execution_count": null,
   "metadata": {},
   "outputs": [],
   "source": [
    "print(X_train.shape)\n",
    "print(Y_train.shape)"
   ]
  },
  {
   "cell_type": "code",
   "execution_count": null,
   "metadata": {},
   "outputs": [],
   "source": [
    "# validation\n",
    "val_dataset = CocoGenerator('val', '/share/DEEPLEARNING/datasets/mscoco')"
   ]
  },
  {
   "cell_type": "code",
   "execution_count": null,
   "metadata": {},
   "outputs": [],
   "source": [
    "print(len(val_dataset.image_ids_in_subset))"
   ]
  },
  {
   "cell_type": "code",
   "execution_count": null,
   "metadata": {},
   "outputs": [],
   "source": [
    "batch_size = len(val_dataset.image_ids_in_subset)\n",
    "generator_val = val_dataset.flow(batch_size=batch_size)\n",
    "X_test, Y_test = next(generator_val)\n",
    "print(X_test.shape, Y_test.shape)"
   ]
  },
  {
   "cell_type": "markdown",
   "metadata": {},
   "source": [
    "# model"
   ]
  },
  {
   "cell_type": "code",
   "execution_count": null,
   "metadata": {},
   "outputs": [],
   "source": [
    "# dropping the Dense(1000)\n",
    "model = ResNet50(include_top=True, weights='imagenet')\n",
    "x = model.layers[-2].output\n",
    "x = Dense(train_dataset.nb_classes, activation='sigmoid', name='predictions')(x)\n",
    "model = Model(inputs=model.input, outputs=x)"
   ]
  },
  {
   "cell_type": "code",
   "execution_count": null,
   "metadata": {},
   "outputs": [],
   "source": [
    "model.summary()"
   ]
  },
  {
   "cell_type": "code",
   "execution_count": null,
   "metadata": {},
   "outputs": [],
   "source": [
    "lr = 0.1\n",
    "loss = BCE()\n",
    "# loss = PartialBCE(prop / 100)\n",
    "model.compile(loss=loss, optimizer=SGD(lr=lr), metrics=['binary_accuracy'])"
   ]
  },
  {
   "cell_type": "markdown",
   "metadata": {},
   "source": [
    "# train"
   ]
  },
  {
   "cell_type": "code",
   "execution_count": null,
   "metadata": {},
   "outputs": [],
   "source": [
    "# callbacks\n",
    "exp_folder = '/home/caleml/partial_experiments/exp_20190723_0050_TESTNB'\n",
    "os.makedirs(exp_folder, exist_ok=True)\n",
    "\n",
    "cb_list = list()\n",
    "cb_list.append(SaveModel(exp_folder, 100))\n",
    "\n",
    "map_cb = MAPCallback(X_test, Y_test, exp_folder, prop=prop)\n",
    "cb_list.append(map_cb)\n",
    "\n",
    "cb_list.append(LearningRateScheduler(lr_scheduler))"
   ]
  },
  {
   "cell_type": "code",
   "execution_count": null,
   "metadata": {},
   "outputs": [],
   "source": [
    "batch_size=32\n",
    "nb_epochs=20\n",
    "\n",
    "steps_per_epoch_train = int(len(train_dataset.id_to_label) / batch_size) + 1\n",
    "model.fit_generator(train_dataset.flow(batch_size=batch_size),\n",
    "                    steps_per_epoch=steps_per_epoch_train,\n",
    "                    epochs=nb_epochs,\n",
    "                    callbacks=cb_list,\n",
    "                    verbose=1)"
   ]
  },
  {
   "cell_type": "code",
   "execution_count": null,
   "metadata": {},
   "outputs": [],
   "source": []
  }
 ],
 "metadata": {
  "kernelspec": {
   "display_name": "Python 3",
   "language": "python",
   "name": "python3"
  },
  "language_info": {
   "codemirror_mode": {
    "name": "ipython",
    "version": 3
   },
   "file_extension": ".py",
   "mimetype": "text/x-python",
   "name": "python",
   "nbconvert_exporter": "python",
   "pygments_lexer": "ipython3",
   "version": "3.4.6"
  }
 },
 "nbformat": 4,
 "nbformat_minor": 2
}
