{
 "cells": [
  {
   "cell_type": "code",
   "execution_count": 23,
   "metadata": {},
   "outputs": [
    {
     "name": "stdout",
     "output_type": "stream",
     "text": [
      "The autoreload extension is already loaded. To reload it, use:\n",
      "  %reload_ext autoreload\n"
     ]
    }
   ],
   "source": [
    "%load_ext autoreload\n",
    "%autoreload 2"
   ]
  },
  {
   "cell_type": "code",
   "execution_count": 24,
   "metadata": {},
   "outputs": [],
   "source": [
    "from collections import defaultdict"
   ]
  },
  {
   "cell_type": "code",
   "execution_count": 232,
   "metadata": {},
   "outputs": [],
   "source": [
    "import math\n",
    "import os\n",
    "import numpy as np\n",
    "import random\n",
    "import time"
   ]
  },
  {
   "cell_type": "code",
   "execution_count": 122,
   "metadata": {},
   "outputs": [],
   "source": [
    "from keras.preprocessing import image\n",
    "from keras.applications.imagenet_utils import preprocess_input"
   ]
  },
  {
   "cell_type": "code",
   "execution_count": 252,
   "metadata": {},
   "outputs": [],
   "source": [
    "from PIL import Image"
   ]
  },
  {
   "cell_type": "code",
   "execution_count": 251,
   "metadata": {},
   "outputs": [],
   "source": [
    "import matplotlib.pyplot as plt\n",
    "import matplotlib.patches as patches"
   ]
  },
  {
   "cell_type": "code",
   "execution_count": 116,
   "metadata": {},
   "outputs": [],
   "source": [
    "NB_CLASSES = 500\n",
    "IMG_SIZE = (512, 512)\n",
    "MAP_SIZE = (32, 32)\n",
    "DATASET_PATH = '/local/DEEPLEARNING/oid/'\n",
    "BATCH_SIZE = 16\n",
    "SEED = 1\n",
    "\n",
    "# overlaps for RPN\n",
    "RPN_MIN_OVERLAP = 0.3\n",
    "RPN_MAX_OVERLAP = 0.7\n",
    "\n",
    "NUM_REGIONS = 256    # how many anchors we keep for one image"
   ]
  },
  {
   "cell_type": "code",
   "execution_count": 29,
   "metadata": {},
   "outputs": [],
   "source": [
    "# config\n",
    "RPN_STRIDE = 16\n",
    "ANCHOR_SCALES = [64, 128, 256] \n",
    "ANCHOR_RATIOS = [[1, 1], [1./math.sqrt(2), 2./math.sqrt(2)], [2./math.sqrt(2), 1./math.sqrt(2)]]"
   ]
  },
  {
   "cell_type": "code",
   "execution_count": 119,
   "metadata": {},
   "outputs": [],
   "source": [
    "random.seed(SEED)"
   ]
  },
  {
   "cell_type": "markdown",
   "metadata": {},
   "source": [
    "## definitions"
   ]
  },
  {
   "cell_type": "code",
   "execution_count": 234,
   "metadata": {},
   "outputs": [],
   "source": [
    "def load_annotations(annotations_path):\n",
    "        '''\n",
    "        one annotation csv line is like:\n",
    "        img_id,folder,class_id,xmin,ymin,xmax,ymax\n",
    "\n",
    "        38a420b38cd3c350,train_3,92,0.325781,0.450781,0.447917,0.668750\n",
    "\n",
    "        ---\n",
    "\n",
    "        load annotations:\n",
    "        - samples[img_id][multilabel] = list(one_hot)   # (N, nb_classes) list of variable size depending on the number of bounding boxes that are GT\n",
    "        - samples[img_id][bboxes] = list(bbox)          # (N, 4) list of variable size of 4 int tuples representing x1, y1, x2, y2\n",
    "\n",
    "        example:\n",
    "        samples['5c015f7e9bbd728a']['multilabel'][0] = [0, 1, ....] (length 500)\n",
    "        samples['5c015f7e9bbd728a']['bboxes'][0] = (x1, y1, x2, y2)\n",
    "        '''\n",
    "\n",
    "        samples = defaultdict(lambda: defaultdict(list))\n",
    "        class_data = load_class_data()\n",
    "\n",
    "        # multilabel annotations\n",
    "        with open(annotations_path, 'r') as f_in:\n",
    "            for line in f_in:\n",
    "                parts = line.strip().split(',')\n",
    "                img_id = parts[0]\n",
    "                class_id = int(parts[2])\n",
    "                ground_truth_cls = one_hotify_gt(class_id)\n",
    "\n",
    "                samples[img_id]['multilabel'].append(ground_truth_cls)\n",
    "                samples[img_id]['bboxes'].append((float(parts[3]), float(parts[4]), float(parts[5]), float(parts[6])))\n",
    "                samples[img_id]['classes'].append((class_data[class_id]['id'], class_data[class_id]['name']))\n",
    "                \n",
    "                size = (parts[7], parts[8])\n",
    "                \n",
    "                if samples[img_id]['size'] == list(): # default \n",
    "                    samples[img_id]['size'] = size \n",
    "                else:\n",
    "                    assert samples[img_id]['size'] == size    # it should always be the same\n",
    "\n",
    "        return samples"
   ]
  },
  {
   "cell_type": "code",
   "execution_count": 230,
   "metadata": {},
   "outputs": [],
   "source": [
    "def load_class_data():\n",
    "    class_data = dict()\n",
    "    class_data_path = os.path.join(DATASET_PATH, 'annotations', 'challenge-2018-classes.csv')\n",
    "    \n",
    "    with open(class_data_path, 'r') as f_in:\n",
    "        for line in f_in:\n",
    "            parts = line.strip().split(',')\n",
    "            class_id = int(parts[0])\n",
    "            class_name = parts[1]\n",
    "            class_oid = parts[2]\n",
    "            \n",
    "            class_data[class_id] = {'id': class_id, 'name': class_name, 'oid': class_oid}\n",
    "            \n",
    "    return class_data"
   ]
  },
  {
   "cell_type": "code",
   "execution_count": 31,
   "metadata": {},
   "outputs": [],
   "source": [
    "def one_hotify_gt(numeric_gt):\n",
    "    return np.array([int(i == numeric_gt) for i in range(NB_CLASSES)])"
   ]
  },
  {
   "cell_type": "code",
   "execution_count": null,
   "metadata": {},
   "outputs": [],
   "source": []
  },
  {
   "cell_type": "markdown",
   "metadata": {},
   "source": [
    "## execution"
   ]
  },
  {
   "cell_type": "markdown",
   "metadata": {},
   "source": [
    "### Loading data"
   ]
  },
  {
   "cell_type": "code",
   "execution_count": 235,
   "metadata": {},
   "outputs": [
    {
     "name": "stdout",
     "output_type": "stream",
     "text": [
      "loaded annotations in 2573.7738497257233\n"
     ]
    }
   ],
   "source": [
    "annotations_file = os.path.join(DATASET_PATH, 'annotations', 'challenge-2018-train.csv')\n",
    "\n",
    "t0 = time.time()\n",
    "samples = load_annotations(annotations_file)\n",
    "t1 = time.time()\n",
    "\n",
    "total = t1-t0\n",
    "print('loaded annotations in %s' % total)"
   ]
  },
  {
   "cell_type": "code",
   "execution_count": 59,
   "metadata": {},
   "outputs": [
    {
     "name": "stdout",
     "output_type": "stream",
     "text": [
      "('1024', '678')\n",
      "('1024', '678')\n"
     ]
    },
    {
     "ename": "RuntimeError",
     "evalue": "No active exception to reraise",
     "output_type": "error",
     "traceback": [
      "\u001b[0;31m---------------------------------------------------------------------------\u001b[0m",
      "\u001b[0;31mRuntimeError\u001b[0m                              Traceback (most recent call last)",
      "\u001b[0;32m<ipython-input-59-2095d0e15b18>\u001b[0m in \u001b[0;36m<module>\u001b[0;34m\u001b[0m\n\u001b[0;32m----> 1\u001b[0;31m \u001b[0mtest\u001b[0m \u001b[0;34m=\u001b[0m \u001b[0mload_annotations\u001b[0m\u001b[0;34m(\u001b[0m\u001b[0mannotations_file\u001b[0m\u001b[0;34m)\u001b[0m\u001b[0;34m\u001b[0m\u001b[0m\n\u001b[0m",
      "\u001b[0;32m<ipython-input-58-350eafccde87>\u001b[0m in \u001b[0;36mload_annotations\u001b[0;34m(annotations_path)\u001b[0m\n\u001b[1;32m     39\u001b[0m \u001b[0;34m\u001b[0m\u001b[0m\n\u001b[1;32m     40\u001b[0m                 \u001b[0mprint\u001b[0m\u001b[0;34m(\u001b[0m\u001b[0msamples\u001b[0m\u001b[0;34m[\u001b[0m\u001b[0mimg_id\u001b[0m\u001b[0;34m]\u001b[0m\u001b[0;34m[\u001b[0m\u001b[0;34m'size'\u001b[0m\u001b[0;34m]\u001b[0m\u001b[0;34m)\u001b[0m\u001b[0;34m\u001b[0m\u001b[0m\n\u001b[0;32m---> 41\u001b[0;31m                 \u001b[0;32mraise\u001b[0m\u001b[0;34m\u001b[0m\u001b[0m\n\u001b[0m\u001b[1;32m     42\u001b[0m \u001b[0;34m\u001b[0m\u001b[0m\n\u001b[1;32m     43\u001b[0m         \u001b[0;32mreturn\u001b[0m \u001b[0msamples\u001b[0m\u001b[0;34m\u001b[0m\u001b[0m\n",
      "\u001b[0;31mRuntimeError\u001b[0m: No active exception to reraise"
     ]
    }
   ],
   "source": [
    "test = load_annotations(annotations_file)"
   ]
  },
  {
   "cell_type": "code",
   "execution_count": 62,
   "metadata": {},
   "outputs": [
    {
     "data": {
      "text/plain": [
       "1578819"
      ]
     },
     "execution_count": 62,
     "metadata": {},
     "output_type": "execute_result"
    }
   ],
   "source": [
    "len(samples)"
   ]
  },
  {
   "cell_type": "code",
   "execution_count": 63,
   "metadata": {},
   "outputs": [],
   "source": [
    "sample_ids = sorted(samples.keys())"
   ]
  },
  {
   "cell_type": "code",
   "execution_count": 215,
   "metadata": {},
   "outputs": [
    {
     "data": {
      "text/plain": [
       "226838"
      ]
     },
     "execution_count": 215,
     "metadata": {},
     "output_type": "execute_result"
    }
   ],
   "source": [
    "sample_ids.index('1cb71505057b99dc')"
   ]
  },
  {
   "cell_type": "code",
   "execution_count": 64,
   "metadata": {},
   "outputs": [],
   "source": [
    "nb_samples = len(sample_ids)"
   ]
  },
  {
   "cell_type": "code",
   "execution_count": 65,
   "metadata": {},
   "outputs": [],
   "source": [
    "# del samples[1]"
   ]
  },
  {
   "cell_type": "code",
   "execution_count": 66,
   "metadata": {},
   "outputs": [],
   "source": [
    "list_ints = list()\n",
    "for sid in samples.keys():\n",
    "    if isinstance(sid, int):\n",
    "        list_ints.append(sid)"
   ]
  },
  {
   "cell_type": "code",
   "execution_count": 67,
   "metadata": {},
   "outputs": [
    {
     "data": {
      "text/plain": [
       "0"
      ]
     },
     "execution_count": 67,
     "metadata": {},
     "output_type": "execute_result"
    }
   ],
   "source": [
    "len(list_ints)"
   ]
  },
  {
   "cell_type": "code",
   "execution_count": 38,
   "metadata": {},
   "outputs": [
    {
     "data": {
      "text/plain": [
       "[('0.325781', '0.447917', '0.450781', '0.668750'),\n",
       " ('0.279687', '0.339583', '0.344531', '0.501042'),\n",
       " ('0.307031', '0.240625', '0.401563', '0.398958'),\n",
       " ('0.373437', '0.492708', '0.447656', '0.657292'),\n",
       " ('0.496875', '0.221875', '0.600000', '0.425000'),\n",
       " ('0.073437', '0.323958', '0.244531', '0.735417'),\n",
       " ('0.121875', '0.508333', '0.283594', '0.831250'),\n",
       " ('0.132031', '0.493750', '0.392969', '0.769792'),\n",
       " ('0.399219', '0.321875', '0.675000', '0.469792'),\n",
       " ('0.378125', '0.509375', '0.445312', '0.582292'),\n",
       " ('0.314063', '0.401042', '0.340625', '0.439583'),\n",
       " ('0.364062', '0.281250', '0.388281', '0.328125'),\n",
       " ('0.403125', '0.555208', '0.430469', '0.585417'),\n",
       " ('0.568750', '0.278125', '0.592969', '0.326042'),\n",
       " ('0.094531', '0.942708', '0.146094', '0.998958'),\n",
       " ('0.128125', '0.528125', '0.271094', '0.640625'),\n",
       " ('0.153906', '0.619792', '0.247656', '0.747917'),\n",
       " ('0.591406', '0.320833', '0.672656', '0.397917'),\n",
       " ('0.648438', '0.354167', '0.796875', '0.864583'),\n",
       " ('0.440625', '0.187500', '0.591406', '0.442708'),\n",
       " ('0.452344', '0.186458', '0.607031', '0.403125'),\n",
       " ('0.696875', '0.410417', '0.800781', '0.857292'),\n",
       " ('0.305469', '0.376042', '0.325000', '0.404167'),\n",
       " ('0.332031', '0.390625', '0.342187', '0.414583'),\n",
       " ('0.335156', '0.277083', '0.367969', '0.292708'),\n",
       " ('0.387500', '0.273958', '0.399219', '0.294792'),\n",
       " ('0.544531', '0.294792', '0.562500', '0.308333'),\n",
       " ('0.572656', '0.271875', '0.591406', '0.289583'),\n",
       " ('0.288281', '0.422917', '0.326562', '0.462500'),\n",
       " ('0.350000', '0.327083', '0.385938', '0.360417'),\n",
       " ('0.396094', '0.581250', '0.435937', '0.619792'),\n",
       " ('0.559375', '0.321875', '0.598437', '0.378125'),\n",
       " ('0.493750', '0.848958', '0.650000', '0.998958'),\n",
       " ('0.557031', '0.742708', '0.824219', '0.998958'),\n",
       " ('0.777344', '0.647917', '0.947656', '0.994792'),\n",
       " ('0.475781', '0.322917', '0.510156', '0.371875'),\n",
       " ('0.000000', '0.153125', '0.677344', '0.998958'),\n",
       " ('0.087500', '0.453125', '0.696875', '0.998958'),\n",
       " ('0.101562', '0.267708', '0.453125', '0.996875'),\n",
       " ('0.190625', '0.263542', '0.358594', '0.498958'),\n",
       " ('0.253125', '0.159375', '0.416406', '0.289583'),\n",
       " ('0.328906', '0.443750', '0.428906', '0.732292'),\n",
       " ('0.192969', '0.270833', '0.361719', '0.491667'),\n",
       " ('0.251563', '0.161458', '0.417969', '0.395833')]"
      ]
     },
     "execution_count": 38,
     "metadata": {},
     "output_type": "execute_result"
    }
   ],
   "source": [
    "samples['38a420b38cd3c350']['bboxes']"
   ]
  },
  {
   "cell_type": "markdown",
   "metadata": {},
   "source": [
    "#### IoU"
   ]
  },
  {
   "cell_type": "code",
   "execution_count": 39,
   "metadata": {},
   "outputs": [],
   "source": [
    "\n",
    "\n",
    "def union(au, bu, area_intersection):\n",
    "\tarea_a = (au[2] - au[0]) * (au[3] - au[1])\n",
    "\tarea_b = (bu[2] - bu[0]) * (bu[3] - bu[1])\n",
    "\tarea_union = area_a + area_b - area_intersection\n",
    "\treturn area_union\n",
    "\n",
    "\n",
    "def intersection(ai, bi):\n",
    "\tx = max(ai[0], bi[0])\n",
    "\ty = max(ai[1], bi[1])\n",
    "\tw = min(ai[2], bi[2]) - x\n",
    "\th = min(ai[3], bi[3]) - y\n",
    "\tif w < 0 or h < 0:\n",
    "\t\treturn 0\n",
    "\treturn w*h\n",
    "\n",
    "\n",
    "def compute_iou(a, b):\n",
    "\t# a and b should be (x1,y1,x2,y2)\n",
    "\n",
    "\tif a[0] >= a[2] or a[1] >= a[3] or b[0] >= b[2] or b[1] >= b[3]:\n",
    "\t\treturn 0.0\n",
    "\n",
    "\tarea_i = intersection(a, b)\n",
    "\tarea_u = union(a, b, area_i)\n",
    "\n",
    "\treturn float(area_i) / float(area_u + 1e-6)\n",
    "\n"
   ]
  },
  {
   "cell_type": "markdown",
   "metadata": {},
   "source": [
    "#### Creating generator"
   ]
  },
  {
   "cell_type": "code",
   "execution_count": 325,
   "metadata": {},
   "outputs": [],
   "source": [
    "def calc_rpn(img_data):\n",
    "    '''\n",
    "    getting the RPN ground truth for all anchors (9 anchors total)\n",
    "    \n",
    "    if the CNN output size is 56x56=3136, there are 3136x9=28224 potential anchors\n",
    "    we select 256 of them, balanced between positive and negative anchors\n",
    "    \n",
    "    inputs: \n",
    "        - img_data: the dict containing information about the image for which the RPN ground truth is computed (= samples[img_id])\n",
    "\n",
    "\tReturns:\n",
    "\t\ty_rpn_cls: list(num_bboxes, y_is_box_valid + y_rpn_overlap)\n",
    "\t\t\ty_is_box_valid: 0 or 1 (0 means the box is invalid, 1 means the box is valid)\n",
    "\t\t\ty_rpn_overlap: 0 or 1 (0 means the box is not an object, 1 means the box is an object)\n",
    "\t\ty_rpn_regr: list(num_bboxes, 4*y_rpn_overlap + y_rpn_regr)\n",
    "\t\t\ty_rpn_regr: x1,y1,x2,y2 bunding boxes coordinates\n",
    "    '''\n",
    "    \n",
    "    downscale = float(RPN_STRIDE) \n",
    "    anchor_sizes = ANCHOR_SCALES   # [64, 128, 256] because the input image is half the original size so we take half the original anchors\n",
    "    anchor_ratios = ANCHOR_RATIOS  # 1:1, 1:2*sqrt(2), 2*sqrt(2):1\n",
    "    num_anchors = len(anchor_sizes) * len(anchor_ratios) # 3x3=9\n",
    "    \n",
    "    original_width = img_data['size'][0]\n",
    "    original_height = img_data['size'][1]\n",
    "    print(original_width)\n",
    "    print(original_height)\n",
    "    print(img_data['size'])\n",
    "    resized_width, resized_height = IMG_SIZE\n",
    "    \n",
    "    map_width, map_height = MAP_SIZE  # = output_width, output_height\n",
    "    \n",
    "    downscale_x = resized_width / map_width\n",
    "    downscale_y = resized_height / map_height\n",
    "    \n",
    "    # initialise empty output batch\n",
    "    y_rpn_overlap = np.zeros((map_height, map_width, num_anchors))      # one bool for each anchor. 1 means anchor overlaps with GT and 0 not\n",
    "    y_is_box_valid = np.zeros((map_height, map_width, num_anchors))     # one bool for each anchor for validity (i.e. whether the box is clearly negative of clearly positive)\n",
    "    y_rpn_regr = np.zeros((map_height, map_width, num_anchors * 4))     # regression coordinates for each anchor\n",
    "    \n",
    "    # ground truth bounding boxes for the image\n",
    "    num_bboxes = len(img_data['bboxes'])\n",
    "\n",
    "    num_anchors_for_bbox = np.zeros(num_bboxes).astype(int)             # will store how many anchor boxes match the ground truth bbox\n",
    "    best_anchor_for_bbox = -1 * np.ones((num_bboxes, 4)).astype(int)    # keep track of which anchor is best for each gt box. anchor is described as (x, y, i_anchor_size, i_anchor_ratio). x and y are the coords in the cnn output feature map from which the anchor is\n",
    "    best_iou_for_bbox = np.zeros(num_bboxes).astype(np.float32)         # iou between best anchor box and gt box\n",
    "    best_anchor_bbox_for_bbox = np.zeros((num_bboxes, 4)).astype(int)           # bounding box of the best anchor for the gt box\n",
    "    best_anchor_var_for_bbox = np.zeros((num_bboxes, 4)).astype(np.float32)     # variation\n",
    "    \n",
    "    # get the GT box coordinates, and resize to account for image resizing\n",
    "    gt_boxes = np.zeros((num_bboxes, 4))    # xmin, ymin, xmax, ymax\n",
    "    for i_bbox, bbox in enumerate(img_data['bboxes']):\n",
    "        \n",
    "        # get the GT box coordinates, and resize to account for image resizing\n",
    "        # TODO: remove the float when data are re-loaded\n",
    "        # gt_boxes[i_bbox, 0] = float(bbox[0]) * (resized_width / float(original_width))      # xmin\n",
    "        # gt_boxes[i_bbox, 1] = float(bbox[1]) * (resized_height / float(original_height))    # ymin\n",
    "        # gt_boxes[i_bbox, 2] = float(bbox[2]) * (resized_width / float(original_width))      # xmax\n",
    "        # gt_boxes[i_bbox, 3] = float(bbox[3]) * (resized_height / float(original_height))    # ymax\n",
    "        gt_boxes[i_bbox, 0] = float(bbox[0]) * resized_width      # xmin\n",
    "        gt_boxes[i_bbox, 1] = float(bbox[1]) * resized_height     # ymin\n",
    "        gt_boxes[i_bbox, 2] = float(bbox[2]) * resized_width      # xmax\n",
    "        gt_boxes[i_bbox, 3] = float(bbox[3]) * resized_height     # ymax\n",
    "        \n",
    "    print('image has %s GT boxes' % len(img_data['bboxes']))\n",
    "    # --------------- rpn ground truth -----------------\n",
    "    \n",
    "    # double loop to iterate on each anchor type (size + ratio) (9 total)\n",
    "    for i_anchor_size in range(len(anchor_sizes)):\n",
    "        for i_anchor_ratio in range(len(anchor_ratios)):\n",
    "            anchor_width = anchor_sizes[i_anchor_size] * anchor_ratios[i_anchor_ratio][0]\n",
    "            anchor_height = anchor_sizes[i_anchor_size] * anchor_ratios[i_anchor_ratio][1]\n",
    "            \n",
    "            # x-coordinates of the current anchor box\n",
    "            for ix in range(map_width):                     \n",
    "                x1_anc = downscale_x * (ix + 0.5) - anchor_width / 2\n",
    "                x2_anc = downscale_x * (ix + 0.5) + anchor_width / 2 \n",
    "                \n",
    "                # ignore boxes that go across image boundaries                  \n",
    "                if x1_anc < 0 or x2_anc > resized_width:\n",
    "                    continue\n",
    "                    \n",
    "                # y-coordinates of the current anchor box\n",
    "                for jy in range(map_height):\n",
    "                    y1_anc = downscale_y * (jy + 0.5) - anchor_height / 2\n",
    "                    y2_anc = downscale_y * (jy + 0.5) + anchor_height / 2\n",
    "                    \n",
    "                    # ignore boxes that go across image boundaries\n",
    "                    if y1_anc < 0 or y2_anc > resized_height:\n",
    "                        continue\n",
    "\n",
    "                    # bbox_type indicates whether an anchor should be a target (default is negative)\n",
    "                    anchor_box_type = 'neg'\n",
    "\n",
    "                    # this is the best IOU for the (x,y) coord and the current anchor\n",
    "                    # note that this is different from the best IOU for a GT bbox\n",
    "                    # TODO: ???\n",
    "                    best_iou_for_anchor = 0.0\n",
    "                    best_regr_for_anchor = None\n",
    "                    \n",
    "                    # for each ground truth bbox \n",
    "                    for i_gt_box in range(num_bboxes):\n",
    "                        # get IoU between current GT box and the current anchor box\n",
    "                        curr_iou = compute_iou([gt_boxes[i_gt_box, 0], gt_boxes[i_gt_box, 1], gt_boxes[i_gt_box, 2], gt_boxes[i_gt_box, 3]], [x1_anc, y1_anc, x2_anc, y2_anc])\n",
    "                        if curr_iou > 0.5:\n",
    "                            print('gt box [%s %s %s %s], anchor [%s %s %s %s]' % (gt_boxes[i_gt_box, 0], gt_boxes[i_gt_box, 1], gt_boxes[i_gt_box, 2], gt_boxes[i_gt_box, 3], x1_anc, y1_anc, x2_anc, y2_anc))\n",
    "                            print('iou for anchor [%s %s %s %s] and bbox %s : %s' % (i_anchor_size, i_anchor_ratio, ix, jy, i_gt_box, curr_iou))\n",
    "                        \n",
    "                        # calculate the regression targets if needed (best_iou_for_bbox is init to 0.0)\n",
    "                        if curr_iou > best_iou_for_bbox[i_gt_box] or curr_iou > RPN_MAX_OVERLAP:\n",
    "                            \n",
    "                            # center points of GT box and anchor box\n",
    "                            gt_center_x = (gt_boxes[i_gt_box, 0] + gt_boxes[i_gt_box, 2]) / 2.0\n",
    "                            gt_center_y = (gt_boxes[i_gt_box, 1] + gt_boxes[i_gt_box, 3]) / 2.0\n",
    "                            anc_center_x = (x1_anc + x2_anc) / 2.0\n",
    "                            anc_center_y = (y1_anc + y2_anc) / 2.0\n",
    "                            \n",
    "                            anchor_width = x2_anc - x1_anc\n",
    "                            anchor_heigth = y2_anc - y1_anc\n",
    "                            \n",
    "                            gt_width = gt_boxes[i_gt_box, 2] - gt_boxes[i_gt_box, 0]\n",
    "                            gt_height = gt_boxes[i_gt_box, 3] - gt_boxes[i_gt_box, 1]\n",
    "                            \n",
    "                            # target variations to transform the anchor box into the gt box\n",
    "                            # this is calculated in the image reference (not the map)\n",
    "                            target_dx = (gt_center_x - anc_center_x) / anchor_width\n",
    "                            target_dy = (gt_center_y - anc_center_y) / anchor_heigth\n",
    "                            target_dw = np.log(gt_width / anchor_width)\n",
    "                            target_dh = np.log(gt_height / anchor_height)\n",
    "                        \n",
    "                        # keep track of which anchor box was best for current GT box\n",
    "                        if curr_iou > best_iou_for_bbox[i_gt_box]:\n",
    "                            best_iou_for_bbox[i_gt_box] = curr_iou\n",
    "                            best_anchor_for_bbox[i_gt_box] = [ix, jy, i_anchor_size, i_anchor_ratio]\n",
    "                            best_anchor_bbox_for_bbox[i_gt_box,:] = [x1_anc, y1_anc, x2_anc, y2_anc]\n",
    "                            best_anchor_var_for_bbox[i_gt_box,:] = [target_dx, target_dy, target_dw, target_dh]\n",
    "                            \n",
    "                        # we set the anchor to positive if the IOU is >0.7 (it does not matter if there was another better box, it just indicates overlap)\n",
    "                        if curr_iou > RPN_MAX_OVERLAP:\n",
    "                            print('found positive anchor for gt box %s' % i_gt_box)\n",
    "                            anchor_box_type = 'pos'\n",
    "                            num_anchors_for_bbox[i_gt_box] += 1\n",
    "                            # we update the regression layer target if this IOU is the best for the current (x,y) and anchor position\n",
    "                            if curr_iou > best_iou_for_anchor:\n",
    "                                best_iou_for_anchor = curr_iou\n",
    "                                best_regr_for_anchor = (target_dx, target_dy, target_dw, target_dh)\n",
    "                                \n",
    "                        # if the IOU is >0.3 and <0.7, it is ambiguous and no included in the objective\n",
    "                        if RPN_MIN_OVERLAP < curr_iou < RPN_MAX_OVERLAP:\n",
    "                            # gray zone between neg and pos\n",
    "                            if anchor_box_type == 'neg':\n",
    "                                anchor_box_type = 'neutral'\n",
    "                            \n",
    "                    # turn on or off outputs depending on IOUs\n",
    "                    anchor_index = i_anchor_ratio + len(anchor_ratios) * i_anchor_size   # 0: 64, 1x1; 1: 64, 1x2V2; 2: 64, 2V2x1; 3: 128, 1x1, etc til 8 (= 9 anchors)\n",
    "                    if anchor_box_type == 'neg':\n",
    "                        y_is_box_valid[ix, jy, anchor_index] = 1\n",
    "                        y_rpn_overlap[ix, jy, anchor_index] = 0\n",
    "                    elif anchor_box_type == 'neutral':\n",
    "                        y_is_box_valid[ix, jy, anchor_index] = 0\n",
    "                        y_rpn_overlap[ix, jy, anchor_index] = 0\n",
    "                    elif anchor_box_type == 'pos':\n",
    "                        y_is_box_valid[ix, jy, anchor_index] = 1\n",
    "                        y_rpn_overlap[ix, jy, anchor_index] = 1\n",
    "                        start = 4 * anchor_index\n",
    "                        y_rpn_regr[ix, jy, start:start+4] = best_regr_for_anchor\n",
    "                        \n",
    "    # find a ok-ish anchor for ground truth that don't have good anchors\n",
    "    print(num_anchors_for_bbox)\n",
    "    for i_gt, nb_anchors in enumerate(num_anchors_for_bbox):\n",
    "        print('we found %s anchors for %s' % (nb_anchors, i_gt))\n",
    "        if nb_anchors == 0:\n",
    "            print('we didnt find any anchor for gt %s' % i_gt)\n",
    "            # we didn't find any box with iou > 0 with GT...\n",
    "            if best_anchor_for_bbox[i_gt, 0] == -1:\n",
    "                print('hopeless for gt %s' % i_gt)\n",
    "                continue\n",
    "                \n",
    "            best_anchor_mapx, best_anchor_mapy, best_anchor_size_i, best_anchor_ratio_i = best_anchor_for_bbox[i_gt]\n",
    "            anchor_index = best_anchor_ratio_i + len(anchor_ratios) * best_anchor_size_i\n",
    "            \n",
    "            y_is_box_valid[best_anchor_mapx, best_anchor_mapy, anchor_index] = 1\n",
    "            y_rpn_overlap[best_anchor_mapx, best_anchor_mapy, anchor_index] = 1\n",
    "            start = 4 * anchor_index\n",
    "            y_rpn_regr[best_anchor_mapx, best_anchor_mapy, start:start+4] = best_anchor_var_for_bbox[i_gt, :]\n",
    "            \n",
    "    # for outputs change dims to (anchor index (0-8), anchor_mapx, anchor_mapy) and add first dimension\n",
    "    y_rpn_overlap = np.transpose(y_rpn_overlap, (2, 0, 1))\n",
    "    y_rpn_overlap = np.expand_dims(y_rpn_overlap, axis=0)\n",
    "    \n",
    "    y_is_box_valid = np.transpose(y_is_box_valid, (2, 0, 1))\n",
    "    y_is_box_valid = np.expand_dims(y_is_box_valid, axis=0)\n",
    "    \n",
    "    y_rpn_regr = np.transpose(y_rpn_regr, (2, 0, 1))\n",
    "    y_rpn_regr = np.expand_dims(y_rpn_regr, axis=0)\n",
    "    \n",
    "    # valid and overlap = positive, valid and not overlap = negative\n",
    "    pos_locs = np.where(np.logical_and(y_rpn_overlap[0, :, :, :] == 1, y_is_box_valid[0, :, :, :] == 1))\n",
    "    neg_locs = np.where(np.logical_and(y_rpn_overlap[0, :, :, :] == 0, y_is_box_valid[0, :, :, :] == 1))\n",
    "    \n",
    "    assert len(pos_locs[0]) == len(pos_locs[1]) == len(pos_locs[2])\n",
    "    nb_pos = len(pos_locs[0])\n",
    "    nb_neg = len(neg_locs[0])\n",
    "    print('found %s positives and %s negatives' % (nb_pos, nb_neg))\n",
    "    \n",
    "    # one issue is that the RPN has many more negative than positive regions, so we turn off some of the negative\n",
    "    # regions. We also limit it to 256 regions.\n",
    "    num_regions = NUM_REGIONS\n",
    "\n",
    "    # in case we have more than half the budget of positive anchors we invalidate some of them\n",
    "    if nb_pos > num_regions / 2:\n",
    "        val_locs = random.sample(range(nb_pos), nb_pos - num_regions/2)\n",
    "        y_is_box_valid[0, pos_locs[0][val_locs], pos_locs[1][val_locs], pos_locs[2][val_locs]] = 0\n",
    "        nb_pos = num_regions / 2\n",
    "\n",
    "    # invalidate excess negative examples so we have the same number of negatives and positives (max NUM_REGIONS for both)\n",
    "    if nb_neg + nb_pos > num_regions:\n",
    "        val_locs = random.sample(range(nb_neg), nb_neg - nb_pos)\n",
    "        y_is_box_valid[0, neg_locs[0][val_locs], neg_locs[1][val_locs], neg_locs[2][val_locs]] = 0\n",
    "        \n",
    "    print('shape y_is_box_valid %s, nonzero %s' % (str(y_is_box_valid.shape), np.count_nonzero(y_is_box_valid)))\n",
    "    print('shape y_rpn_overlap %s, nonzero %s' % (str(y_rpn_overlap.shape), np.count_nonzero(y_rpn_overlap)))\n",
    "    print('shape y_rpn_regr %s' % str(y_rpn_regr.shape))\n",
    "    \n",
    "    y_rpn_cls = np.concatenate([y_is_box_valid, y_rpn_overlap], axis=1)\n",
    "    y_rpn_regr = np.concatenate([np.repeat(y_rpn_overlap, 4, axis=1), y_rpn_regr], axis=1)\n",
    "\n",
    "    return np.copy(y_rpn_cls), np.copy(y_rpn_regr), nb_pos\n",
    "                            "
   ]
  },
  {
   "cell_type": "code",
   "execution_count": 314,
   "metadata": {},
   "outputs": [],
   "source": [
    "# equivalent get_anchor_gt"
   ]
  },
  {
   "cell_type": "code",
   "execution_count": 315,
   "metadata": {},
   "outputs": [],
   "source": [
    "def get_data_dict(samples, sample_ids, sample_idxs):\n",
    "    '''\n",
    "    Creation of the actual batch\n",
    "    '''\n",
    "    output = {}\n",
    "    sample_ids = [sample_ids[i] for i in sample_idxs]\n",
    "\n",
    "    img_batch = []\n",
    "    cls_batch = []\n",
    "    regr_batch = []\n",
    "\n",
    "    img_data_batch = []\n",
    "    ids_batch = []\n",
    "\n",
    "    for img_id in sample_ids:\n",
    "        img_data = dict()\n",
    "\n",
    "        img_path = os.path.join(DATASET_PATH, 'images', 'train', 'train_%s' % img_id[0], '%s.jpg' % img_id)\n",
    "        img = image.load_img(img_path, grayscale=False, target_size=(IMG_SIZE[0], IMG_SIZE[1]))\n",
    "        img_arr = image.img_to_array(img, data_format='channels_last')\n",
    "        \n",
    "        img_batch.append(img_arr)\n",
    "        \n",
    "        y_rpn_cls, y_rpn_regr, num_pos = calc_rpn(samples[img_id])\n",
    "        print(\"shape rpn cls %s\" % str(y_rpn_cls.shape))\n",
    "        print(\"shape rpn regr %s\" % str(y_rpn_regr.shape))\n",
    "        print('num pos %s' % num_pos)\n",
    "        \n",
    "        # y_rpn_regr[:, y_rpn_regr.shape[1]//2:, :, :] *= C.std_scaling\n",
    "        y_rpn_regr = np.transpose(y_rpn_regr, (0, 2, 3, 1))\n",
    "        y_rpn_cls = np.transpose(y_rpn_cls, (0, 2, 3, 1))\n",
    "        \n",
    "        cls_batch.append(y_rpn_cls)\n",
    "        regr_batch.append(y_rpn_regr)\n",
    "        ids_batch.append(img_id)\n",
    "        \n",
    "        # TODO: data augmentation\n",
    "        \n",
    "        img_data['num_pos'] = num_pos\n",
    "        img_data['original_size'] = (samples[img_id]['size'][0], samples[img_id]['size'][1])\n",
    "        img_data['bboxes'] = samples[img_id]['bboxes']\n",
    "        img_data['classes'] = samples[img_id]['classes']\n",
    "\n",
    "        img_data_batch.append(img_data)\n",
    "\n",
    "    img_batch = np.reshape(img_batch, (-1, IMG_SIZE[0], IMG_SIZE[1], 3))  # TODO: figure out why this line is necessary\n",
    "    img_batch = preprocess_input(img_batch, data_format='channels_last')\n",
    "\n",
    "    ids_batch = np.reshape(np.array(ids_batch), (-1, 1))\n",
    "\n",
    "    output['image'] = img_batch\n",
    "    output['rpn_cls'] = cls_batch\n",
    "    output['rpn_regr'] = regr_batch\n",
    "    output['img_data'] = img_data_batch\n",
    "    output['image_id'] = ids_batch\n",
    "\n",
    "    return output"
   ]
  },
  {
   "cell_type": "code",
   "execution_count": 316,
   "metadata": {},
   "outputs": [],
   "source": [
    "# get sample idx for the batch\n",
    "def get_batch_indexes(batch_idx):\n",
    "\n",
    "    batch_idxs = list()\n",
    "    for i in range(BATCH_SIZE):\n",
    "        sample_idx = batch_idx * BATCH_SIZE + i\n",
    "        if sample_idx >= nb_samples:\n",
    "            sample_idx -= nb_samples\n",
    "        batch_idxs.append(sample_idx)\n",
    "    return batch_idxs"
   ]
  },
  {
   "cell_type": "code",
   "execution_count": 317,
   "metadata": {},
   "outputs": [
    {
     "name": "stdout",
     "output_type": "stream",
     "text": [
      "[64, 65, 66, 67, 68, 69, 70, 71, 72, 73, 74, 75, 76, 77, 78, 79]\n"
     ]
    }
   ],
   "source": [
    "batch_idxs = get_batch_indexes(4)\n",
    "print(batch_idxs)"
   ]
  },
  {
   "cell_type": "code",
   "execution_count": 318,
   "metadata": {},
   "outputs": [],
   "source": [
    "batch_idxs = [226838]"
   ]
  },
  {
   "cell_type": "code",
   "execution_count": 326,
   "metadata": {},
   "outputs": [
    {
     "name": "stdout",
     "output_type": "stream",
     "text": [
      "1024\n",
      "768\n",
      "('1024', '768')\n",
      "image has 4 GT boxes\n",
      "gt box [92.8 255.573504 139.52 310.613504], anchor [72.0 248.0 136.0 312.0]\n",
      "iou for anchor [0 0 6 17] and bbox 0 : 0.5542824404322323\n",
      "gt box [92.8 255.573504 139.52 310.613504], anchor [88.0 248.0 152.0 312.0]\n",
      "iou for anchor [0 0 7 17] and bbox 0 : 0.6277999998467284\n",
      "gt box [332.16 251.306496 378.24 310.613504], anchor [312.0 248.0 376.0 312.0]\n",
      "iou for anchor [0 0 21 17] and bbox 2 : 0.61482924329103\n",
      "gt box [332.16 251.306496 378.24 310.613504], anchor [328.0 248.0 392.0 312.0]\n",
      "iou for anchor [0 0 22 17] and bbox 2 : 0.6672038398371078\n",
      "gt box [92.8 255.573504 139.52 310.613504], anchor [97.37258300203048 218.74516600406096 142.62741699796953 309.25483399593907]\n",
      "iou for anchor [0 1 7 16] and bbox 0 : 0.5136346257130668\n",
      "gt box [92.8 255.573504 139.52 310.613504], anchor [97.37258300203048 234.74516600406096 142.62741699796953 325.25483399593907]\n",
      "iou for anchor [0 1 7 17] and bbox 0 : 0.5335711266087212\n",
      "gt box [92.8 255.573504 139.52 310.613504], anchor [97.37258300203048 250.74516600406096 142.62741699796953 341.25483399593907]\n",
      "iou for anchor [0 1 7 18] and bbox 0 : 0.5335711266087212\n",
      "gt box [332.16 251.306496 378.24 310.613504], anchor [337.37258300203047 218.74516600406096 382.62741699796953 309.25483399593907]\n",
      "iou for anchor [0 1 22 16] and bbox 2 : 0.5309067776134292\n",
      "gt box [332.16 251.306496 378.24 310.613504], anchor [337.37258300203047 234.74516600406096 382.62741699796953 325.25483399593907]\n",
      "iou for anchor [0 1 22 17] and bbox 2 : 0.5502033396775539\n",
      "gt box [332.16 251.306496 378.24 310.613504], anchor [337.37258300203047 250.74516600406096 382.62741699796953 341.25483399593907]\n",
      "iou for anchor [0 1 22 18] and bbox 2 : 0.5502033396775539\n",
      "gt box [40.32 194.986496 390.72 306.773504], anchor [2.98066401624385 125.49033200812192 365.01933598375615 306.5096679918781]\n",
      "iou for anchor [2 2 11 13] and bbox 1 : 0.5286761889993655\n",
      "gt box [40.32 194.986496 390.72 306.773504], anchor [2.98066401624385 141.49033200812192 365.01933598375615 322.5096679918781]\n",
      "iou for anchor [2 2 11 14] and bbox 1 : 0.5305905230520659\n",
      "gt box [40.32 194.986496 390.72 306.773504], anchor [2.98066401624385 157.49033200812192 365.01933598375615 338.5096679918781]\n",
      "iou for anchor [2 2 11 15] and bbox 1 : 0.5305905230520659\n",
      "gt box [40.32 194.986496 390.72 306.773504], anchor [2.98066401624385 173.49033200812192 365.01933598375615 354.5096679918781]\n",
      "iou for anchor [2 2 11 16] and bbox 1 : 0.5305905230520659\n",
      "gt box [40.32 194.986496 390.72 306.773504], anchor [2.98066401624385 189.49033200812192 365.01933598375615 370.5096679918781]\n",
      "iou for anchor [2 2 11 17] and bbox 1 : 0.5305905230520659\n",
      "gt box [40.32 194.986496 390.72 306.773504], anchor [18.98066401624385 125.49033200812192 381.01933598375615 306.5096679918781]\n",
      "iou for anchor [2 2 12 13] and bbox 1 : 0.5695653051484934\n",
      "gt box [40.32 194.986496 390.72 306.773504], anchor [18.98066401624385 141.49033200812192 381.01933598375615 322.5096679918781]\n",
      "iou for anchor [2 2 12 14] and bbox 1 : 0.5716830686308414\n",
      "gt box [40.32 194.986496 390.72 306.773504], anchor [18.98066401624385 157.49033200812192 381.01933598375615 338.5096679918781]\n",
      "iou for anchor [2 2 12 15] and bbox 1 : 0.5716830686308414\n",
      "gt box [40.32 194.986496 390.72 306.773504], anchor [18.98066401624385 173.49033200812192 381.01933598375615 354.5096679918781]\n",
      "iou for anchor [2 2 12 16] and bbox 1 : 0.5716830686308414\n",
      "gt box [40.32 194.986496 390.72 306.773504], anchor [18.98066401624385 189.49033200812192 381.01933598375615 370.5096679918781]\n",
      "iou for anchor [2 2 12 17] and bbox 1 : 0.5716830686308414\n",
      "gt box [40.32 194.986496 390.72 306.773504], anchor [34.98066401624385 125.49033200812192 397.01933598375615 306.5096679918781]\n",
      "iou for anchor [2 2 13 13] and bbox 1 : 0.5954387247377405\n",
      "gt box [40.32 194.986496 390.72 306.773504], anchor [34.98066401624385 141.49033200812192 397.01933598375615 322.5096679918781]\n",
      "iou for anchor [2 2 13 14] and bbox 1 : 0.5976893249908803\n",
      "gt box [40.32 194.986496 390.72 306.773504], anchor [34.98066401624385 157.49033200812192 397.01933598375615 338.5096679918781]\n",
      "iou for anchor [2 2 13 15] and bbox 1 : 0.5976893249908803\n",
      "gt box [40.32 194.986496 390.72 306.773504], anchor [34.98066401624385 173.49033200812192 397.01933598375615 354.5096679918781]\n",
      "iou for anchor [2 2 13 16] and bbox 1 : 0.5976893249908803\n",
      "gt box [40.32 194.986496 390.72 306.773504], anchor [34.98066401624385 189.49033200812192 397.01933598375615 370.5096679918781]\n",
      "iou for anchor [2 2 13 17] and bbox 1 : 0.5976893249908803\n",
      "gt box [40.32 194.986496 390.72 306.773504], anchor [34.98066401624385 205.49033200812192 397.01933598375615 386.5096679918781]\n",
      "iou for anchor [2 2 13 18] and bbox 1 : 0.5127332476332653\n",
      "gt box [40.32 194.986496 390.72 306.773504], anchor [50.98066401624385 125.49033200812192 413.01933598375615 306.5096679918781]\n",
      "iou for anchor [2 2 14 13] and bbox 1 : 0.567050372091888\n",
      "gt box [40.32 194.986496 390.72 306.773504], anchor [50.98066401624385 141.49033200812192 413.01933598375615 322.5096679918781]\n",
      "iou for anchor [2 2 14 14] and bbox 1 : 0.5691553936493523\n",
      "gt box [40.32 194.986496 390.72 306.773504], anchor [50.98066401624385 157.49033200812192 413.01933598375615 338.5096679918781]\n",
      "iou for anchor [2 2 14 15] and bbox 1 : 0.5691553936493523\n",
      "gt box [40.32 194.986496 390.72 306.773504], anchor [50.98066401624385 173.49033200812192 413.01933598375615 354.5096679918781]\n",
      "iou for anchor [2 2 14 16] and bbox 1 : 0.5691553936493523\n",
      "gt box [40.32 194.986496 390.72 306.773504], anchor [50.98066401624385 189.49033200812192 413.01933598375615 370.5096679918781]\n",
      "iou for anchor [2 2 14 17] and bbox 1 : 0.5691553936493523\n",
      "gt box [40.32 194.986496 390.72 306.773504], anchor [66.98066401624385 125.49033200812192 429.01933598375615 306.5096679918781]\n",
      "iou for anchor [2 2 15 13] and bbox 1 : 0.526290483785415\n",
      "gt box [40.32 194.986496 390.72 306.773504], anchor [66.98066401624385 141.49033200812192 429.01933598375615 322.5096679918781]\n",
      "iou for anchor [2 2 15 14] and bbox 1 : 0.5281931943636325\n",
      "gt box [40.32 194.986496 390.72 306.773504], anchor [66.98066401624385 157.49033200812192 429.01933598375615 338.5096679918781]\n",
      "iou for anchor [2 2 15 15] and bbox 1 : 0.5281931943636325\n",
      "gt box [40.32 194.986496 390.72 306.773504], anchor [66.98066401624385 173.49033200812192 429.01933598375615 354.5096679918781]\n",
      "iou for anchor [2 2 15 16] and bbox 1 : 0.5281931943636325\n",
      "gt box [40.32 194.986496 390.72 306.773504], anchor [66.98066401624385 189.49033200812192 429.01933598375615 370.5096679918781]\n",
      "iou for anchor [2 2 15 17] and bbox 1 : 0.5281931943636325\n",
      "[0 0 0 0]\n",
      "we found 0 anchors for 0\n",
      "we didnt find any anchor for gt 0\n",
      "we found 0 anchors for 1\n",
      "we didnt find any anchor for gt 1\n",
      "we found 0 anchors for 2\n",
      "we didnt find any anchor for gt 2\n",
      "we found 0 anchors for 3\n",
      "we didnt find any anchor for gt 3\n",
      "found 4 positives and 4268 negatives\n",
      "shape y_is_box_valid (1, 9, 32, 32), nonzero 8\n",
      "shape y_rpn_overlap (1, 9, 32, 32), nonzero 4\n",
      "shape y_rpn_regr (1, 36, 32, 32)\n",
      "shape rpn cls (1, 18, 32, 32)\n",
      "shape rpn regr (1, 72, 32, 32)\n",
      "num pos 4\n"
     ]
    }
   ],
   "source": [
    "batch = get_data_dict(samples, sample_ids, batch_idxs)"
   ]
  },
  {
   "cell_type": "code",
   "execution_count": 243,
   "metadata": {},
   "outputs": [
    {
     "name": "stdout",
     "output_type": "stream",
     "text": [
      "dict_keys(['image', 'rpn_cls', 'rpn_regr', 'img_data', 'image_id'])\n"
     ]
    }
   ],
   "source": [
    "print(batch.keys())"
   ]
  },
  {
   "cell_type": "markdown",
   "metadata": {},
   "source": [
    "## Viz"
   ]
  },
  {
   "cell_type": "code",
   "execution_count": 320,
   "metadata": {},
   "outputs": [],
   "source": [
    "i_img = 0    # image index in the batch"
   ]
  },
  {
   "cell_type": "code",
   "execution_count": 321,
   "metadata": {},
   "outputs": [
    {
     "name": "stdout",
     "output_type": "stream",
     "text": [
      "{'num_pos': 4, 'original_size': ('1024', '768'), 'bboxes': [(0.18125, 0.499167, 0.2725, 0.606667), (0.07875, 0.380833, 0.763125, 0.599167), (0.64875, 0.490833, 0.73875, 0.606667), (0.69125, 0.465, 0.725, 0.480833)], 'classes': [(371, 'Wheel'), (63, 'Car'), (371, 'Wheel'), (371, 'Wheel')]}\n"
     ]
    }
   ],
   "source": [
    "print(batch['img_data'][i_img])"
   ]
  },
  {
   "cell_type": "code",
   "execution_count": 322,
   "metadata": {},
   "outputs": [
    {
     "name": "stdout",
     "output_type": "stream",
     "text": [
      "Original image: height=1024 width=1024\n",
      "Feature map size: height=32 width=32 C.rpn_stride=16\n",
      "(1, 512, 512, 3)\n",
      "Shape of y_rpn_cls (1, 32, 32, 18)\n",
      "Shape of y_rpn_regr (1, 32, 32, 72)\n",
      "[{'num_pos': 4, 'original_size': ('1024', '768'), 'bboxes': [(0.18125, 0.499167, 0.2725, 0.606667), (0.07875, 0.380833, 0.763125, 0.599167), (0.64875, 0.490833, 0.73875, 0.606667), (0.69125, 0.465, 0.725, 0.480833)], 'classes': [(371, 'Wheel'), (63, 'Car'), (371, 'Wheel'), (371, 'Wheel')]}]\n",
      "Number of positive anchors for image 0: 4\n",
      "\n",
      "\n",
      "pos_cls: (array([ 7,  7,  8, 11, 13, 13, 21, 22, 22, 24, 24, 27]), array([17, 17, 10, 24, 14, 14,  6, 17, 17, 15, 15,  9]), array([ 0,  9,  6,  2,  8, 17,  1,  0,  9,  2, 11,  0]))\n",
      "pos_regr: (array([ 7,  7,  7,  7, 13, 13, 13, 13, 22, 22, 22, 22, 24, 24, 24, 24]), array([17, 17, 17, 17, 14, 14, 14, 14, 17, 17, 17, 17, 15, 15, 15, 15]), array([ 0,  1,  2,  3, 32, 33, 34, 35,  0,  1,  2,  3,  8,  9, 10, 11]))\n",
      "y_rpn_cls for possible pos anchor: [1. 0. 0. 0. 0. 0. 0. 0. 0. 1. 0. 0. 0. 0. 0. 0. 0. 0.]\n",
      "y_rpn_regr for positive anchor: [ 1.          1.          1.          1.          0.          0.\n",
      "  0.          0.          0.          0.          0.          0.\n",
      "  0.          0.          0.          0.          0.          0.\n",
      "  0.          0.          0.          0.          0.          0.\n",
      "  0.          0.          0.          0.          0.          0.\n",
      "  0.          0.          0.          0.          0.          0.\n",
      " -0.06        0.048336   -0.31471074 -0.15082289  0.          0.\n",
      "  0.          0.          0.          0.          0.          0.\n",
      "  0.          0.          0.          0.          0.          0.\n",
      "  0.          0.          0.          0.          0.          0.\n",
      "  0.          0.          0.          0.          0.          0.\n",
      "  0.          0.          0.          0.          0.          0.        ]\n"
     ]
    }
   ],
   "source": [
    "print('Original image: height=%s width=%s' % (batch['img_data'][i_img]['original_size'][0], batch['img_data'][i_img]['original_size'][0]))\n",
    "#print('Resized image:  height=%d width=%d C.im_size=%d'%(X.shape[1], X.shape[2], C.im_size))\n",
    "print('Feature map size: height=%d width=%d C.rpn_stride=%d'%(batch['rpn_cls'][i_img].shape[1], batch['rpn_cls'][i_img].shape[1], RPN_STRIDE))\n",
    "print(batch['image'].shape)\n",
    "print('Shape of y_rpn_cls {}'.format(batch['rpn_cls'][i_img].shape))\n",
    "print('Shape of y_rpn_regr {}'.format(batch['rpn_regr'][i_img].shape))\n",
    "print(batch['img_data'])\n",
    "\n",
    "print('Number of positive anchors for image %s: %d' % (i_img, batch['img_data'][i_img]['num_pos']))\n",
    "\n",
    "print('\\n')\n",
    "cls = batch['rpn_cls'][i_img][0]\n",
    "pos_cls = np.where(cls==1)\n",
    "print('pos_cls: %s' % str(pos_cls))\n",
    "regr = batch['rpn_regr'][i_img][0]\n",
    "pos_regr = np.where(regr==1)\n",
    "print('pos_regr: %s' % str(pos_regr))\n",
    "print('y_rpn_cls for possible pos anchor: {}'.format(cls[pos_cls[0][0],pos_cls[1][0],:]))\n",
    "print('y_rpn_regr for positive anchor: {}'.format(regr[pos_regr[0][0],pos_regr[1][0],:]))"
   ]
  },
  {
   "cell_type": "code",
   "execution_count": 324,
   "metadata": {},
   "outputs": [
    {
     "name": "stderr",
     "output_type": "stream",
     "text": [
      "Clipping input data to the valid range for imshow with RGB data ([0..1] for floats or [0..255] for integers).\n"
     ]
    },
    {
     "data": {
      "image/png": "[encoded data removed]",
      "text/plain": [
       "<Figure size 432x288 with 1 Axes>"
      ]
     },
     "metadata": {
      "needs_background": "light"
     },
     "output_type": "display_data"
    }
   ],
   "source": [
    "# Create figure and axes\n",
    "fig,ax = plt.subplots(1)\n",
    "\n",
    "# Display the image\n",
    "ax.imshow(batch['image'][0])\n",
    "im_width = batch['image'].shape[1]\n",
    "im_height = batch['image'].shape[2]\n",
    "\n",
    "gt_color = (0, 1, 0)\n",
    "anc_color = (0, 0, 1)\n",
    "\n",
    "# Create a Rectangle patch for each GT\n",
    "for i_gt, gt_box in enumerate(batch['img_data'][i_img]['bboxes']):\n",
    "    gt_x1, gt_x2 = gt_box[0] * im_width, gt_box[2] * im_width\n",
    "    gt_y1, gt_y2 = gt_box[1] * im_height, gt_box[3] * im_height\n",
    "    gt_x1, gt_y1, gt_x2, gt_y2 = int(gt_x1), int(gt_y1), int(gt_x2), int(gt_y2)\n",
    "\n",
    "    gt_width = gt_x2 - gt_x1\n",
    "    gt_height = gt_y2 - gt_y1\n",
    "\n",
    "    rect = patches.Rectangle((gt_x1, gt_y1), gt_width, gt_height, linewidth=2, edgecolor=gt_color, facecolor='none')  # bottom left corner\n",
    "    ax.add_patch(rect)\n",
    "\n",
    "# Create rectangles for positive anchors\n",
    "for i_anc in range(batch['img_data'][i_img]['num_pos']):\n",
    "    # color = (100+i*(155/4), 0, 100+i*(155/4))\n",
    "    \n",
    "    idx = pos_regr[2][i_anc*4]/4\n",
    "    anchor_size = ANCHOR_SCALES[int(idx/3)]\n",
    "    anchor_ratio = ANCHOR_RATIOS[2-int((idx+1)%3)]\n",
    "    \n",
    "    center = (pos_regr[1][i_anc*4]*RPN_STRIDE, pos_regr[0][i_anc*4]*RPN_STRIDE)\n",
    "    \n",
    "    anc_w, anc_h = anchor_size*anchor_ratio[0], anchor_size*anchor_ratio[1]\n",
    "    \n",
    "    anc_x1 = center[0]-int(anc_w/2)\n",
    "    anc_y1 = center[1]-int(anc_h/2)\n",
    "    \n",
    "    rect = patches.Rectangle((anc_x1, anc_y1), anc_w, anc_h, linewidth=2, edgecolor=anc_color, facecolor='none')  # bottom left corner\n",
    "    ax.add_patch(rect)\n",
    "    \n",
    "\n",
    "plt.show()"
   ]
  },
  {
   "cell_type": "code",
   "execution_count": null,
   "metadata": {},
   "outputs": [],
   "source": [
    "'''\n",
    "Original image: height=768 width=1024\n",
    "Resized image:  height=300 width=400 C.im_size=300\n",
    "Feature map size: height=18 width=25 C.rpn_stride=16\n",
    "(1, 300, 400, 3)\n",
    "2 includes 'y_rpn_cls' and 'y_rpn_regr'\n",
    "Shape of y_rpn_cls (1, 18, 25, 18)\n",
    "Shape of y_rpn_regr (1, 18, 25, 72)\n",
    "image_data : {'filepath': 'drive/My Drive/AI/Dataset/Open Images Dataset v4 (Bounding Boxes)/train/1cb71505057b99dc.jpg', 'width': 1024, 'height': 768, 'bboxes': [{'class': 'Car', 'x1': 80, 'x2': 781, 'y1': 292, 'y2': 460}]}\n",
    "Number of positive anchors for this image: 1\n",
    "\n",
    "pos_cls (array([ 9,  9, 15]), array([12, 12, 16]), array([ 5, 14,  5]))\n",
    "pos_regr (array([9, 9, 9, 9]), array([12, 12, 12, 12]), array([20, 21, 22, 23]))\n",
    "y_rpn_cls for possible pos anchor: [0. 0. 0. 0. 0. 1. 0. 0. 0. 0. 0. 0. 0. 0. 1. 0. 0. 0.]\n",
    "y_rpn_regr for positive anchor: [ 0.          0.          0.          0.          0.          0.\n",
    "  0.          0.          0.          0.          0.          0.\n",
    "  0.          0.          0.          0.          0.          0.\n",
    "  0.          0.          1.          1.          1.          1.\n",
    "  0.          0.          0.          0.          0.          0.\n",
    "  0.          0.          0.          0.          0.          0.\n",
    "  0.          0.          0.          0.          0.          0.\n",
    "  0.          0.          0.          0.          0.          0.\n",
    "  0.          0.          0.          0.          0.          0.\n",
    "  0.          0.         -0.7034815  -0.22649515  1.65558708 -1.28599977\n",
    "  0.          0.          0.          0.          0.          0.\n",
    "  0.          0.          0.          0.          0.          0.        ]\n",
    "'''"
   ]
  },
  {
   "cell_type": "code",
   "execution_count": 302,
   "metadata": {},
   "outputs": [],
   "source": [
    "def test_anchor(gt_coords, anc_coords):\n",
    "    img = np.zeros([512,512,3],dtype=np.uint8)\n",
    "    img.fill(255) # or img[:] = 255\n",
    "    \n",
    "    fig,ax = plt.subplots(1)\n",
    "\n",
    "    # Display the image\n",
    "    ax.imshow(img)\n",
    "    im_width = img.shape[1]\n",
    "    im_height =  img.shape[2]\n",
    "    \n",
    "    gt_width = gt_coords[2] - gt_coords[0]\n",
    "    gt_height = gt_coords[3] - gt_coords[1]\n",
    "    \n",
    "    rect_gt = patches.Rectangle((gt_coords[0], gt_coords[1]), gt_width, gt_height, linewidth=2, edgecolor=gt_color, facecolor='none')\n",
    "    ax.add_patch(rect_gt)\n",
    "    \n",
    "    anc_width = anc_coords[2] - anc_coords[0]\n",
    "    anc_height = anc_coords[3] - anc_coords[1]\n",
    "    \n",
    "    rect_anc = patches.Rectangle((anc_coords[0], anc_coords[1]), anc_width, anc_height, linewidth=2, edgecolor=anc_color, facecolor='none')\n",
    "    ax.add_patch(rect_anc)\n",
    "    \n",
    "    plt.show()"
   ]
  },
  {
   "cell_type": "code",
   "execution_count": 328,
   "metadata": {},
   "outputs": [
    {
     "data": {
      "image/png": "[encoded data removed]",
      "text/plain": [
       "<Figure size 432x288 with 1 Axes>"
      ]
     },
     "metadata": {
      "needs_background": "light"
     },
     "output_type": "display_data"
    }
   ],
   "source": [
    "test_anchor([92.8, 255.573504, 139.52, 310.613504], [337.37258300203047, 250.74516600406096, 382.62741699796953, 341.25483399593907])"
   ]
  },
  {
   "cell_type": "code",
   "execution_count": 260,
   "metadata": {},
   "outputs": [
    {
     "ename": "TypeError",
     "evalue": "unsupported operand type(s) for /=: 'tuple' and 'int'",
     "output_type": "error",
     "traceback": [
      "\u001b[0;31m---------------------------------------------------------------------------\u001b[0m",
      "\u001b[0;31mTypeError\u001b[0m                                 Traceback (most recent call last)",
      "\u001b[0;32m<ipython-input-260-e801a2b98668>\u001b[0m in \u001b[0;36m<module>\u001b[0;34m\u001b[0m\n\u001b[1;32m      1\u001b[0m \u001b[0ma\u001b[0m \u001b[0;34m=\u001b[0m \u001b[0;34m(\u001b[0m\u001b[0;36m155\u001b[0m\u001b[0;34m,\u001b[0m \u001b[0;36m0\u001b[0m\u001b[0;34m,\u001b[0m \u001b[0;36m255\u001b[0m\u001b[0;34m)\u001b[0m\u001b[0;34m\u001b[0m\u001b[0m\n\u001b[0;32m----> 2\u001b[0;31m \u001b[0ma\u001b[0m \u001b[0;34m/=\u001b[0m \u001b[0;36m255\u001b[0m\u001b[0;34m\u001b[0m\u001b[0m\n\u001b[0m\u001b[1;32m      3\u001b[0m \u001b[0mprint\u001b[0m\u001b[0;34m(\u001b[0m\u001b[0ma\u001b[0m\u001b[0;34m)\u001b[0m\u001b[0;34m\u001b[0m\u001b[0m\n",
      "\u001b[0;31mTypeError\u001b[0m: unsupported operand type(s) for /=: 'tuple' and 'int'"
     ]
    }
   ],
   "source": [
    "a = (155, 0, 255)\n",
    "a /= 255\n",
    "print(a)"
   ]
  },
  {
   "cell_type": "code",
   "execution_count": null,
   "metadata": {},
   "outputs": [],
   "source": []
  }
 ],
 "metadata": {
  "kernelspec": {
   "display_name": "Python 3",
   "language": "python",
   "name": "python3"
  },
  "language_info": {
   "codemirror_mode": {
    "name": "ipython",
    "version": 3
   },
   "file_extension": ".py",
   "mimetype": "text/x-python",
   "name": "python",
   "nbconvert_exporter": "python",
   "pygments_lexer": "ipython3",
   "version": "3.6.5"
  }
 },
 "nbformat": 4,
 "nbformat_minor": 2
}
