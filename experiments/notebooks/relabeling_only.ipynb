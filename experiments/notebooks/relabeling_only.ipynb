{
 "cells": [
  {
   "cell_type": "code",
   "execution_count": 1,
   "metadata": {},
   "outputs": [],
   "source": [
    "%load_ext autoreload\n",
    "%autoreload 2"
   ]
  },
  {
   "cell_type": "code",
   "execution_count": 2,
   "metadata": {},
   "outputs": [],
   "source": [
    "import os"
   ]
  },
  {
   "cell_type": "code",
   "execution_count": 3,
   "metadata": {},
   "outputs": [
    {
     "name": "stderr",
     "output_type": "stream",
     "text": [
      "Using TensorFlow backend.\n"
     ]
    }
   ],
   "source": [
    "from data.pascalvoc.preprocessing.utils import load_ids\n",
    "from data.pascalvoc.pascalvoc import PascalVOC"
   ]
  },
  {
   "cell_type": "code",
   "execution_count": 4,
   "metadata": {},
   "outputs": [],
   "source": [
    "from model.networks.baseline_logits import BaselineLogits"
   ]
  },
  {
   "cell_type": "code",
   "execution_count": 5,
   "metadata": {},
   "outputs": [],
   "source": [
    "from model import relabel"
   ]
  },
  {
   "cell_type": "code",
   "execution_count": null,
   "metadata": {},
   "outputs": [],
   "source": []
  },
  {
   "cell_type": "code",
   "execution_count": 6,
   "metadata": {},
   "outputs": [],
   "source": [
    "data_dir = '/home/caleml/datasets/pascalvoc/VOCdevkit/VOC2007/'\n",
    "weights_path = '/home/caleml/partial_experiments/exp_20191009_1546_baseline_logits/weights_10_015_00.h5'\n",
    "gt_path = os.path.join(data_dir, 'Annotations', 'annotations_multilabel_trainval_partial_100_1.csv')\n",
    "config_path = '/home/caleml/partial-labels/config/pv_relabel_pfull.yaml'\n",
    "config_path2 = '/home/caleml/partial-labels/config/pv_relabel_pcoco_alpha.yaml'"
   ]
  },
  {
   "cell_type": "code",
   "execution_count": 7,
   "metadata": {},
   "outputs": [],
   "source": [
    "batch_size = 16\n",
    "nb_classes = 20\n",
    "prop = 10"
   ]
  },
  {
   "cell_type": "code",
   "execution_count": 8,
   "metadata": {},
   "outputs": [],
   "source": [
    "class_info = load_ids()\n",
    "id2name = {int(info['id']): info['name'] for info in class_info.values()}"
   ]
  },
  {
   "cell_type": "code",
   "execution_count": 9,
   "metadata": {},
   "outputs": [
    {
     "name": "stdout",
     "output_type": "stream",
     "text": [
      "Init input_shape (448, 448, 3)\n",
      "Loading options\n",
      "{'ARCHI': {'CLASSIFIER': 'resnet50', 'LOSS': 'bce', 'NAME': 'baseline_logits'},\n",
      " 'BATCH_SIZE': 16,\n",
      " 'CALLBACK': {'LR_FACTOR': 0.1,\n",
      "              'LR_TRIGGER': [],\n",
      "              'MIN_DELTA': 0.0,\n",
      "              'PATIENCE': 10,\n",
      "              'PATIENCE_LR': 2,\n",
      "              'TENSORBOARD': {'SAVE_GRAPH': True, 'USE_TENSORBOARD': False},\n",
      "              'VAL_CB': 'map'},\n",
      " 'CLEANUP': False,\n",
      " 'DATAAUGMENTATION': {'DEFAULT_DICT': {'HORIZONTAL_FLIP': True,\n",
      "                                       'horizontal_flip': True}},\n",
      " 'DATASET': {'NAME': 'pascalvoc',\n",
      "             'PATH': '/home/caleml/datasets/pascalvoc/VOCdevkit/VOC2007/',\n",
      "             'SHUFFLE': True,\n",
      "             'TEST': 'test',\n",
      "             'TRAIN': 'trainval'},\n",
      " 'DEBUG': {'IS_TEST': False},\n",
      " 'EPSILON': 1e-07,\n",
      " 'IMAGE': {'IMG_SIZE': 448, 'N_CHANNELS': 3},\n",
      " 'MULTIP': {'MAX_QUEUE_SIZE': 10, 'N_WORKERS': 2, 'USE_MULTIPROCESS': False},\n",
      " 'RANDOM_SEED': 1,\n",
      " 'RELABEL': {'ACTIVE': True,\n",
      "             'EPOCHS': [15, 5, 5],\n",
      "             'NAME': 'relabel_prior',\n",
      "             'OPTIONS': {'PROP_NEG': 0.78,\n",
      "                         'PROP_POS': 0.044,\n",
      "                         'TYPE': 'proportion_yf'},\n",
      "             'PRIOR': 'conditional',\n",
      "             'PRIOR_PATH': '/home/caleml/datasets/pascalvoc/VOCdevkit/VOC2007/Annotations/prior_matrix3_trainval_partial_$PROP_1.json',\n",
      "             'STEPS': 3},\n",
      " 'TEST_BATCH_SIZE': 'all',\n",
      " 'TRAINING': {'OPTIMIZER': 'sgd',\n",
      "              'SKIP_VAL': True,\n",
      "              'START_LR': 0.01,\n",
      "              'STEPS_PER_EPOCH': None},\n",
      " 'VERBOSE': True}\n",
      "WARNING:tensorflow:From /home/caleml/.local/lib/python3.6/site-packages/tensorflow_core/python/ops/resource_variable_ops.py:1630: calling BaseResourceVariable.__init__ (from tensorflow.python.ops.resource_variable_ops) with constraint is deprecated and will be removed in a future version.\n",
      "Instructions for updating:\n",
      "If using Keras pass *_constraint arguments to layers.\n"
     ]
    },
    {
     "name": "stderr",
     "output_type": "stream",
     "text": [
      "/home/caleml/partial-labels/model/networks/__init__.py:39: YAMLLoadWarning: calling yaml.load() without Loader=... is deprecated, as the default Loader is unsafe. Please read https://msg.pyyaml.org/load for full details.\n",
      "  loaded_conf = yaml.load(f_in)\n"
     ]
    },
    {
     "name": "stdout",
     "output_type": "stream",
     "text": [
      "\u001b[95mOutputs shape [(None, 20), (None, 20)]\u001b[0m\n",
      "WARNING:tensorflow:From /home/caleml/partial-labels/model/losses/bce.py:14: where (from tensorflow.python.ops.array_ops) is deprecated and will be removed in a future version.\n",
      "Instructions for updating:\n",
      "Use tf.where in 2.0, which has the same broadcast rule as np.where\n",
      "WARNING:tensorflow:From /home/caleml/.local/lib/python3.6/site-packages/tensorflow_core/python/util/deprecation.py:507: calling count_nonzero (from tensorflow.python.ops.math_ops) with axis is deprecated and will be removed in a future version.\n",
      "Instructions for updating:\n",
      "reduction_indices is deprecated, use axis instead\n",
      "\u001b[95mFinal model summary\u001b[0m\n",
      "Model: \"model\"\n",
      "__________________________________________________________________________________________________\n",
      "Layer (type)                    Output Shape         Param #     Connected to                     \n",
      "==================================================================================================\n",
      "image_input (InputLayer)        [(None, 448, 448, 3) 0                                            \n",
      "__________________________________________________________________________________________________\n",
      "cls_model (Model)               (None, 14, 14, 2048) 23587712    image_input[0][0]                \n",
      "__________________________________________________________________________________________________\n",
      "global_average_pooling2d (Globa (None, 2048)         0           cls_model[1][0]                  \n",
      "__________________________________________________________________________________________________\n",
      "dense (Dense)                   (None, 20)           40980       global_average_pooling2d[0][0]   \n",
      "__________________________________________________________________________________________________\n",
      "ids_input (InputLayer)          [(None, 1)]          0                                            \n",
      "__________________________________________________________________________________________________\n",
      "activation (Activation)         (None, 20)           0           dense[0][0]                      \n",
      "==================================================================================================\n",
      "Total params: 23,628,692\n",
      "Trainable params: 23,575,572\n",
      "Non-trainable params: 53,120\n",
      "__________________________________________________________________________________________________\n",
      "Loading options\n",
      "{'ARCHI': {'CLASSIFIER': 'resnet50', 'LOSS': 'bce', 'NAME': 'baseline_logits'},\n",
      " 'BATCH_SIZE': 16,\n",
      " 'CALLBACK': {'LR_FACTOR': 0.1,\n",
      "              'LR_TRIGGER': [],\n",
      "              'MIN_DELTA': 0.0,\n",
      "              'PATIENCE': 10,\n",
      "              'PATIENCE_LR': 2,\n",
      "              'TENSORBOARD': {'SAVE_GRAPH': True, 'USE_TENSORBOARD': False},\n",
      "              'VAL_CB': 'map'},\n",
      " 'CLEANUP': False,\n",
      " 'DATAAUGMENTATION': {'DEFAULT_DICT': {'HORIZONTAL_FLIP': True,\n",
      "                                       'horizontal_flip': True}},\n",
      " 'DATASET': {'NAME': 'pascalvoc',\n",
      "             'PATH': '/home/caleml/datasets/pascalvoc/VOCdevkit/VOC2007/',\n",
      "             'SHUFFLE': True,\n",
      "             'TEST': 'test',\n",
      "             'TRAIN': 'trainval'},\n",
      " 'DEBUG': {'IS_TEST': False},\n",
      " 'EPSILON': 1e-07,\n",
      " 'IMAGE': {'IMG_SIZE': 448, 'N_CHANNELS': 3},\n",
      " 'MULTIP': {'MAX_QUEUE_SIZE': 10, 'N_WORKERS': 2, 'USE_MULTIPROCESS': False},\n",
      " 'RANDOM_SEED': 1,\n",
      " 'RELABEL': {'ACTIVE': True,\n",
      "             'EPOCHS': [15, 5, 5],\n",
      "             'NAME': 'relabel_prior',\n",
      "             'OPTIONS': {'PRIOR': 'conditional_coco',\n",
      "                         'PRIOR_ALPHA': 0.45,\n",
      "                         'PRIOR_COMBINATION': 'alpha',\n",
      "                         'PRIOR_PATH': '/home/caleml/datasets/mscoco/annotations/multilabel_train2014_partial_100_1.json',\n",
      "                         'PROP_NEG': 0.78,\n",
      "                         'PROP_POS': 0.044,\n",
      "                         'TYPE': 'proportion_yf'},\n",
      "             'PRIOR': 'conditional',\n",
      "             'PRIOR_PATH': '/home/caleml/datasets/pascalvoc/VOCdevkit/VOC2007/Annotations/prior_matrix3_trainval_partial_$PROP_1.json',\n",
      "             'STEPS': 3},\n",
      " 'TEST_BATCH_SIZE': 'all',\n",
      " 'TRAINING': {'OPTIMIZER': 'sgd',\n",
      "              'SKIP_VAL': True,\n",
      "              'START_LR': 0.01,\n",
      "              'STEPS_PER_EPOCH': None},\n",
      " 'VERBOSE': True}\n"
     ]
    }
   ],
   "source": [
    "# load model\n",
    "model = BaselineLogits('%s/partial_experiments/' % os.environ['HOME'], nb_classes, prop)\n",
    "model.load_weights(weights_path)\n",
    "model.load_config(config_path2)"
   ]
  },
  {
   "cell_type": "code",
   "execution_count": 10,
   "metadata": {},
   "outputs": [],
   "source": [
    "# load dataset\n",
    "dataset_train = PascalVOC(data_dir, batch_size, 'trainval', x_keys=['image', 'image_id'], y_keys=['multilabel'], p=prop)"
   ]
  },
  {
   "cell_type": "code",
   "execution_count": 13,
   "metadata": {},
   "outputs": [
    {
     "name": "stdout",
     "output_type": "stream",
     "text": [
      "loading conditional prior with prior_type coco and method alpha\n"
     ]
    }
   ],
   "source": [
    "# init relabelator\n",
    "options = {\n",
    "    'type': 'proportion_yf',\n",
    "    'prop_pos': 0.044,\n",
    "    'prop_neg': 0.78,\n",
    "    'prior': 'conditional_coco',\n",
    "    'prior_path': '/home/caleml/datasets/mscoco/annotations/multilabel_train2014_partial_100_1.json',\n",
    "    'prior_combination': 'alpha',\n",
    "    'prior_alpha': 0.45\n",
    "}\n",
    "relabelator = relabel.PriorRelabeling('/home/caleml/partial-labels/experiments/tests', prop, nb_classes, options)"
   ]
  },
  {
   "cell_type": "code",
   "execution_count": 12,
   "metadata": {},
   "outputs": [
    {
     "name": "stdout",
     "output_type": "stream",
     "text": [
      "doing batch 0\n",
      "doing batch 100\n",
      "doing batch 200\n",
      "doing batch 300\n",
      "\u001b[94m\tAdded 73485 labels during relabeling, logging into /home/caleml/partial-labels/experiments/tests/relabeling/log_relabeling.csv\u001b[0m\n",
      "\u001b[94m\tNew dataset path /home/caleml/partial-labels/experiments/tests/relabeling/relabeling_0_10p.csv\u001b[0m\n",
      "new relabel path is /home/caleml/partial-labels/experiments/tests/relabeling/relabeling_0_10p.csv\n"
     ]
    }
   ],
   "source": [
    "# loop on the train dataset to create the relabeling dataset\n",
    "relabel_step = 0\n",
    "relabelator.init_step(relabel_step)\n",
    "\n",
    "# predict\n",
    "for i in range(len(dataset_train)):\n",
    "    if i % 100 == 0:\n",
    "        print('doing batch %s' % i)\n",
    "        \n",
    "    x_batch, y_batch = dataset_train[i]\n",
    "\n",
    "    y_pred = model.predict(x_batch)   # TODO not the logits!!!!!!!!\n",
    "\n",
    "    relabelator.relabel(x_batch, y_batch, y_pred)\n",
    "\n",
    "relabelator.finish_step(relabel_step)\n",
    "targets_path = relabelator.targets_path\n",
    "\n",
    "print('new relabel path is %s' % targets_path)"
   ]
  },
  {
   "cell_type": "code",
   "execution_count": null,
   "metadata": {},
   "outputs": [],
   "source": [
    "# evaluate the relabeled dataset"
   ]
  }
 ],
 "metadata": {
  "kernelspec": {
   "display_name": "Python 3",
   "language": "python",
   "name": "python3"
  },
  "language_info": {
   "codemirror_mode": {
    "name": "ipython",
    "version": 3
   },
   "file_extension": ".py",
   "mimetype": "text/x-python",
   "name": "python",
   "nbconvert_exporter": "python",
   "pygments_lexer": "ipython3",
   "version": "3.6.5"
  }
 },
 "nbformat": 4,
 "nbformat_minor": 2
}
