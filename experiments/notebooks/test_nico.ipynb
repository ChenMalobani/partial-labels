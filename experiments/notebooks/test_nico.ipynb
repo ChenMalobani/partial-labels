{
 "cells": [
  {
   "cell_type": "code",
   "execution_count": 1,
   "metadata": {},
   "outputs": [],
   "source": [
    "%load_ext autoreload\n",
    "%autoreload 2"
   ]
  },
  {
   "cell_type": "code",
   "execution_count": 2,
   "metadata": {},
   "outputs": [
    {
     "name": "stderr",
     "output_type": "stream",
     "text": [
      "Using TensorFlow backend.\n"
     ]
    }
   ],
   "source": [
    "import os\n",
    "\n",
    "import numpy as np\n",
    "from keras.models import Sequential\n",
    "from keras.layers import Dense\n",
    "from keras.optimizers import SGD\n",
    "from sklearn.metrics import average_precision_score"
   ]
  },
  {
   "cell_type": "code",
   "execution_count": 3,
   "metadata": {},
   "outputs": [
    {
     "name": "stdout",
     "output_type": "stream",
     "text": [
      "data \n",
      " X_train= (5011, 2048) Y_train= (5011, 20)  X_test= (4952, 2048) Y_train= (4952, 20)\n"
     ]
    }
   ],
   "source": [
    "outfile = '%s/partial-labels/experiments/DF_ResNet50_VOC2007.npz' % os.environ['HOME']\n",
    "learning_rate = 0.1\n",
    "nb_epoch = 20\n",
    "batch_size = 32\n",
    "\n",
    "npzfile = np.load(outfile)\n",
    "\n",
    "X_train = npzfile['X_train']\n",
    "Y_train = npzfile['Y_train']\n",
    "\n",
    "X_test = npzfile['X_test']\n",
    "Y_test = npzfile['Y_test']\n",
    "\n",
    "print(\"data \\n X_train=\", X_train.shape, \"Y_train=\", Y_train.shape, \" X_test=\", X_test.shape, \"Y_train=\", Y_test.shape)"
   ]
  },
  {
   "cell_type": "markdown",
   "metadata": {},
   "source": [
    "## model"
   ]
  },
  {
   "cell_type": "code",
   "execution_count": 4,
   "metadata": {},
   "outputs": [
    {
     "name": "stdout",
     "output_type": "stream",
     "text": [
      "_________________________________________________________________\n",
      "Layer (type)                 Output Shape              Param #   \n",
      "=================================================================\n",
      "fc1 (Dense)                  (None, 20)                40980     \n",
      "=================================================================\n",
      "Total params: 40,980\n",
      "Trainable params: 40,980\n",
      "Non-trainable params: 0\n",
      "_________________________________________________________________\n"
     ]
    }
   ],
   "source": [
    "model = Sequential()\n",
    "model.add(Dense(20, input_dim=2048, name='fc1', activation='sigmoid'))\n",
    "model.summary()\n",
    "\n",
    "\n",
    "sgd = SGD(learning_rate)\n",
    "model.compile(loss='binary_crossentropy',optimizer=sgd,metrics=['binary_accuracy'])\n"
   ]
  },
  {
   "cell_type": "markdown",
   "metadata": {},
   "source": [
    "## train"
   ]
  },
  {
   "cell_type": "code",
   "execution_count": 5,
   "metadata": {},
   "outputs": [
    {
     "name": "stdout",
     "output_type": "stream",
     "text": [
      "Epoch 1/20\n",
      "5011/5011 [==============================] - 1s 295us/step - loss: 0.1653 - binary_accuracy: 0.9450\n",
      "Epoch 2/20\n",
      "5011/5011 [==============================] - 0s 63us/step - loss: 0.1042 - binary_accuracy: 0.9648\n",
      "Epoch 3/20\n",
      "5011/5011 [==============================] - 0s 63us/step - loss: 0.0910 - binary_accuracy: 0.9692\n",
      "Epoch 4/20\n",
      "5011/5011 [==============================] - 0s 63us/step - loss: 0.0838 - binary_accuracy: 0.9711\n",
      "Epoch 5/20\n",
      "5011/5011 [==============================] - 0s 63us/step - loss: 0.0790 - binary_accuracy: 0.9729\n",
      "Epoch 6/20\n",
      "5011/5011 [==============================] - 0s 62us/step - loss: 0.0754 - binary_accuracy: 0.9734\n",
      "Epoch 7/20\n",
      "5011/5011 [==============================] - 0s 62us/step - loss: 0.0724 - binary_accuracy: 0.9748\n",
      "Epoch 8/20\n",
      "5011/5011 [==============================] - 0s 62us/step - loss: 0.0698 - binary_accuracy: 0.9756\n",
      "Epoch 9/20\n",
      "5011/5011 [==============================] - 0s 63us/step - loss: 0.0677 - binary_accuracy: 0.9764\n",
      "Epoch 10/20\n",
      "5011/5011 [==============================] - 0s 65us/step - loss: 0.0659 - binary_accuracy: 0.9769\n",
      "Epoch 11/20\n",
      "5011/5011 [==============================] - 0s 62us/step - loss: 0.0641 - binary_accuracy: 0.9772\n",
      "Epoch 12/20\n",
      "5011/5011 [==============================] - 0s 63us/step - loss: 0.0625 - binary_accuracy: 0.9778\n",
      "Epoch 13/20\n",
      "5011/5011 [==============================] - 0s 65us/step - loss: 0.0611 - binary_accuracy: 0.9784\n",
      "Epoch 14/20\n",
      "5011/5011 [==============================] - 0s 59us/step - loss: 0.0599 - binary_accuracy: 0.9787\n",
      "Epoch 15/20\n",
      "5011/5011 [==============================] - 0s 59us/step - loss: 0.0586 - binary_accuracy: 0.9791\n",
      "Epoch 16/20\n",
      "5011/5011 [==============================] - 0s 60us/step - loss: 0.0575 - binary_accuracy: 0.9796\n",
      "Epoch 17/20\n",
      "5011/5011 [==============================] - 0s 59us/step - loss: 0.0565 - binary_accuracy: 0.9801\n",
      "Epoch 18/20\n",
      "5011/5011 [==============================] - 0s 64us/step - loss: 0.0555 - binary_accuracy: 0.9803\n",
      "Epoch 19/20\n",
      "5011/5011 [==============================] - 0s 65us/step - loss: 0.0545 - binary_accuracy: 0.9807\n",
      "Epoch 20/20\n",
      "5011/5011 [==============================] - 0s 67us/step - loss: 0.0536 - binary_accuracy: 0.9809\n",
      "loss TEST: 7.53%\n",
      "binary_accuracy TEST: 97.38%\n"
     ]
    }
   ],
   "source": [
    "model.fit(X_train, Y_train,batch_size=batch_size, epochs=nb_epoch,verbose=1)\n",
    "\n",
    "scores = model.evaluate(X_test, Y_test, verbose=0)\n",
    "print(\"%s TEST: %.2f%%\" % (model.metrics_names[0], scores[0]*100))\n",
    "print(\"%s TEST: %.2f%%\" % (model.metrics_names[1], scores[1]*100))\n"
   ]
  },
  {
   "cell_type": "markdown",
   "metadata": {},
   "source": [
    "## eval"
   ]
  },
  {
   "cell_type": "code",
   "execution_count": 6,
   "metadata": {},
   "outputs": [
    {
     "name": "stdout",
     "output_type": "stream",
     "text": [
      "MAP TRAIN =%.2f 91.70608549586493\n",
      "MAP TEST =%.2f 82.81931017630104\n"
     ]
    }
   ],
   "source": [
    "y_pred_test = model.predict(X_test)\n",
    "y_pred_train = model.predict(X_train)\n",
    "AP_train = np.zeros(20)\n",
    "AP_test = np.zeros(20)\n",
    "\n",
    "for c in range(20):\n",
    "    AP_train[c] = average_precision_score(Y_train[:, c], y_pred_train[:, c])\n",
    "    AP_test[c] = average_precision_score(Y_test[:, c], y_pred_test[:, c])\n",
    "\n",
    "print(\"MAP TRAIN =%.2f\", AP_train.mean()*100)\n",
    "print(\"MAP TEST =%.2f\", AP_test.mean()*100)\n"
   ]
  },
  {
   "cell_type": "code",
   "execution_count": null,
   "metadata": {},
   "outputs": [],
   "source": []
  }
 ],
 "metadata": {
  "kernelspec": {
   "display_name": "Python 3",
   "language": "python",
   "name": "python3"
  },
  "language_info": {
   "codemirror_mode": {
    "name": "ipython",
    "version": 3
   },
   "file_extension": ".py",
   "mimetype": "text/x-python",
   "name": "python",
   "nbconvert_exporter": "python",
   "pygments_lexer": "ipython3",
   "version": "3.4.6"
  }
 },
 "nbformat": 4,
 "nbformat_minor": 2
}
